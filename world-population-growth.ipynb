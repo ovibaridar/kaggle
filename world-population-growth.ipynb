{
 "cells": [
  {
   "cell_type": "code",
   "execution_count": 1,
   "id": "0124ea29",
   "metadata": {
    "execution": {
     "iopub.execute_input": "2024-02-09T16:27:08.476492Z",
     "iopub.status.busy": "2024-02-09T16:27:08.476058Z",
     "iopub.status.idle": "2024-02-09T16:27:10.829506Z",
     "shell.execute_reply": "2024-02-09T16:27:10.828403Z"
    },
    "papermill": {
     "duration": 2.362134,
     "end_time": "2024-02-09T16:27:10.831997",
     "exception": false,
     "start_time": "2024-02-09T16:27:08.469863",
     "status": "completed"
    },
    "tags": []
   },
   "outputs": [],
   "source": [
    "import pandas as pd \n",
    "import numpy as np \n",
    "import seaborn as sn\n",
    "import matplotlib.pyplot as plt"
   ]
  },
  {
   "cell_type": "code",
   "execution_count": 2,
   "id": "829a1ca6",
   "metadata": {
    "execution": {
     "iopub.execute_input": "2024-02-09T16:27:10.842932Z",
     "iopub.status.busy": "2024-02-09T16:27:10.841946Z",
     "iopub.status.idle": "2024-02-09T16:27:10.847266Z",
     "shell.execute_reply": "2024-02-09T16:27:10.845908Z"
    },
    "papermill": {
     "duration": 0.013419,
     "end_time": "2024-02-09T16:27:10.849805",
     "exception": false,
     "start_time": "2024-02-09T16:27:10.836386",
     "status": "completed"
    },
    "tags": []
   },
   "outputs": [],
   "source": [
    "path  = '/kaggle/input/world-population-growth/World Population Growth.csv'"
   ]
  },
  {
   "cell_type": "code",
   "execution_count": 3,
   "id": "e8ad68de",
   "metadata": {
    "execution": {
     "iopub.execute_input": "2024-02-09T16:27:10.859729Z",
     "iopub.status.busy": "2024-02-09T16:27:10.859229Z",
     "iopub.status.idle": "2024-02-09T16:27:10.881174Z",
     "shell.execute_reply": "2024-02-09T16:27:10.879905Z"
    },
    "papermill": {
     "duration": 0.030138,
     "end_time": "2024-02-09T16:27:10.884043",
     "exception": false,
     "start_time": "2024-02-09T16:27:10.853905",
     "status": "completed"
    },
    "tags": []
   },
   "outputs": [],
   "source": [
    "data = pd.read_csv(path)"
   ]
  },
  {
   "cell_type": "code",
   "execution_count": 4,
   "id": "8337080e",
   "metadata": {
    "execution": {
     "iopub.execute_input": "2024-02-09T16:27:10.894120Z",
     "iopub.status.busy": "2024-02-09T16:27:10.893696Z",
     "iopub.status.idle": "2024-02-09T16:27:10.914624Z",
     "shell.execute_reply": "2024-02-09T16:27:10.913309Z"
    },
    "papermill": {
     "duration": 0.029,
     "end_time": "2024-02-09T16:27:10.917282",
     "exception": false,
     "start_time": "2024-02-09T16:27:10.888282",
     "status": "completed"
    },
    "tags": []
   },
   "outputs": [
    {
     "data": {
      "text/html": [
       "<div>\n",
       "<style scoped>\n",
       "    .dataframe tbody tr th:only-of-type {\n",
       "        vertical-align: middle;\n",
       "    }\n",
       "\n",
       "    .dataframe tbody tr th {\n",
       "        vertical-align: top;\n",
       "    }\n",
       "\n",
       "    .dataframe thead th {\n",
       "        text-align: right;\n",
       "    }\n",
       "</style>\n",
       "<table border=\"1\" class=\"dataframe\">\n",
       "  <thead>\n",
       "    <tr style=\"text-align: right;\">\n",
       "      <th></th>\n",
       "      <th>Year</th>\n",
       "      <th>Population</th>\n",
       "      <th>Yearly Growth %</th>\n",
       "      <th>Number</th>\n",
       "      <th>Density (Pop/km2)</th>\n",
       "    </tr>\n",
       "  </thead>\n",
       "  <tbody>\n",
       "    <tr>\n",
       "      <th>0</th>\n",
       "      <td>1951</td>\n",
       "      <td>2,543,130,380</td>\n",
       "      <td>1.75%</td>\n",
       "      <td>43,808,223</td>\n",
       "      <td>17</td>\n",
       "    </tr>\n",
       "    <tr>\n",
       "      <th>1</th>\n",
       "      <td>1952</td>\n",
       "      <td>2,590,270,899</td>\n",
       "      <td>1.85%</td>\n",
       "      <td>47,140,519</td>\n",
       "      <td>17</td>\n",
       "    </tr>\n",
       "    <tr>\n",
       "      <th>2</th>\n",
       "      <td>1953</td>\n",
       "      <td>2,640,278,797</td>\n",
       "      <td>1.93%</td>\n",
       "      <td>50,007,898</td>\n",
       "      <td>18</td>\n",
       "    </tr>\n",
       "    <tr>\n",
       "      <th>3</th>\n",
       "      <td>1954</td>\n",
       "      <td>2,691,979,339</td>\n",
       "      <td>1.96%</td>\n",
       "      <td>51,700,542</td>\n",
       "      <td>18</td>\n",
       "    </tr>\n",
       "    <tr>\n",
       "      <th>4</th>\n",
       "      <td>1955</td>\n",
       "      <td>2,746,072,141</td>\n",
       "      <td>2.01%</td>\n",
       "      <td>54,092,802</td>\n",
       "      <td>18</td>\n",
       "    </tr>\n",
       "  </tbody>\n",
       "</table>\n",
       "</div>"
      ],
      "text/plain": [
       "   Year     Population Yearly Growth %      Number  Density (Pop/km2)\n",
       "0  1951  2,543,130,380           1.75%  43,808,223                 17\n",
       "1  1952  2,590,270,899           1.85%  47,140,519                 17\n",
       "2  1953  2,640,278,797           1.93%  50,007,898                 18\n",
       "3  1954  2,691,979,339           1.96%  51,700,542                 18\n",
       "4  1955  2,746,072,141           2.01%  54,092,802                 18"
      ]
     },
     "execution_count": 4,
     "metadata": {},
     "output_type": "execute_result"
    }
   ],
   "source": [
    "data.head()"
   ]
  },
  {
   "cell_type": "code",
   "execution_count": 5,
   "id": "9f5ff19c",
   "metadata": {
    "execution": {
     "iopub.execute_input": "2024-02-09T16:27:10.927606Z",
     "iopub.status.busy": "2024-02-09T16:27:10.927229Z",
     "iopub.status.idle": "2024-02-09T16:27:10.945687Z",
     "shell.execute_reply": "2024-02-09T16:27:10.944382Z"
    },
    "papermill": {
     "duration": 0.026708,
     "end_time": "2024-02-09T16:27:10.948278",
     "exception": false,
     "start_time": "2024-02-09T16:27:10.921570",
     "status": "completed"
    },
    "tags": []
   },
   "outputs": [
    {
     "data": {
      "text/plain": [
       "Year\n",
       "1951    1\n",
       "1988    1\n",
       "2004    1\n",
       "2003    1\n",
       "2002    1\n",
       "       ..\n",
       "1975    1\n",
       "1974    1\n",
       "1973    1\n",
       "1972    1\n",
       "2023    1\n",
       "Name: count, Length: 73, dtype: int64"
      ]
     },
     "execution_count": 5,
     "metadata": {},
     "output_type": "execute_result"
    }
   ],
   "source": [
    "data[\"Year\"].value_counts()"
   ]
  },
  {
   "cell_type": "code",
   "execution_count": 6,
   "id": "0784cb0b",
   "metadata": {
    "execution": {
     "iopub.execute_input": "2024-02-09T16:27:10.958870Z",
     "iopub.status.busy": "2024-02-09T16:27:10.958433Z",
     "iopub.status.idle": "2024-02-09T16:27:10.970826Z",
     "shell.execute_reply": "2024-02-09T16:27:10.969624Z"
    },
    "papermill": {
     "duration": 0.020321,
     "end_time": "2024-02-09T16:27:10.973079",
     "exception": false,
     "start_time": "2024-02-09T16:27:10.952758",
     "status": "completed"
    },
    "tags": []
   },
   "outputs": [],
   "source": [
    "data = data[data[\"Year\"] > 1999]"
   ]
  },
  {
   "cell_type": "code",
   "execution_count": 7,
   "id": "d089ba7d",
   "metadata": {
    "execution": {
     "iopub.execute_input": "2024-02-09T16:27:10.986148Z",
     "iopub.status.busy": "2024-02-09T16:27:10.984915Z",
     "iopub.status.idle": "2024-02-09T16:27:10.993103Z",
     "shell.execute_reply": "2024-02-09T16:27:10.992300Z"
    },
    "papermill": {
     "duration": 0.01765,
     "end_time": "2024-02-09T16:27:10.995297",
     "exception": false,
     "start_time": "2024-02-09T16:27:10.977647",
     "status": "completed"
    },
    "tags": []
   },
   "outputs": [
    {
     "data": {
      "text/plain": [
       "Year\n",
       "2000    1\n",
       "2001    1\n",
       "2022    1\n",
       "2021    1\n",
       "2020    1\n",
       "2019    1\n",
       "2018    1\n",
       "2017    1\n",
       "2016    1\n",
       "2015    1\n",
       "2014    1\n",
       "2013    1\n",
       "2012    1\n",
       "2011    1\n",
       "2010    1\n",
       "2009    1\n",
       "2008    1\n",
       "2007    1\n",
       "2006    1\n",
       "2005    1\n",
       "2004    1\n",
       "2003    1\n",
       "2002    1\n",
       "2023    1\n",
       "Name: count, dtype: int64"
      ]
     },
     "execution_count": 7,
     "metadata": {},
     "output_type": "execute_result"
    }
   ],
   "source": [
    "data[\"Year\"].value_counts()"
   ]
  },
  {
   "cell_type": "code",
   "execution_count": 8,
   "id": "ccaf0a47",
   "metadata": {
    "execution": {
     "iopub.execute_input": "2024-02-09T16:27:11.007030Z",
     "iopub.status.busy": "2024-02-09T16:27:11.006299Z",
     "iopub.status.idle": "2024-02-09T16:27:11.016304Z",
     "shell.execute_reply": "2024-02-09T16:27:11.015049Z"
    },
    "papermill": {
     "duration": 0.018846,
     "end_time": "2024-02-09T16:27:11.019100",
     "exception": false,
     "start_time": "2024-02-09T16:27:11.000254",
     "status": "completed"
    },
    "tags": []
   },
   "outputs": [],
   "source": [
    "x = data[[\"Year\"]]\n",
    "y = data['Population']"
   ]
  },
  {
   "cell_type": "code",
   "execution_count": 9,
   "id": "070d9fe1",
   "metadata": {
    "execution": {
     "iopub.execute_input": "2024-02-09T16:27:11.030058Z",
     "iopub.status.busy": "2024-02-09T16:27:11.029620Z",
     "iopub.status.idle": "2024-02-09T16:27:11.035833Z",
     "shell.execute_reply": "2024-02-09T16:27:11.034571Z"
    },
    "papermill": {
     "duration": 0.014556,
     "end_time": "2024-02-09T16:27:11.038265",
     "exception": false,
     "start_time": "2024-02-09T16:27:11.023709",
     "status": "completed"
    },
    "tags": []
   },
   "outputs": [],
   "source": [
    "y = y.str.replace(',', '').astype(float)"
   ]
  },
  {
   "cell_type": "code",
   "execution_count": 10,
   "id": "aaa3643b",
   "metadata": {
    "execution": {
     "iopub.execute_input": "2024-02-09T16:27:11.049095Z",
     "iopub.status.busy": "2024-02-09T16:27:11.048688Z",
     "iopub.status.idle": "2024-02-09T16:27:11.466922Z",
     "shell.execute_reply": "2024-02-09T16:27:11.465557Z"
    },
    "papermill": {
     "duration": 0.427666,
     "end_time": "2024-02-09T16:27:11.470535",
     "exception": false,
     "start_time": "2024-02-09T16:27:11.042869",
     "status": "completed"
    },
    "tags": []
   },
   "outputs": [
    {
     "data": {
      "text/plain": [
       "<matplotlib.collections.PathCollection at 0x7f4429ae2080>"
      ]
     },
     "execution_count": 10,
     "metadata": {},
     "output_type": "execute_result"
    },
    {
     "data": {
      "image/png": "[encoded data removed]",
      "text/plain": [
       "<Figure size 640x480 with 1 Axes>"
      ]
     },
     "metadata": {},
     "output_type": "display_data"
    }
   ],
   "source": [
    "plt.title(\"Year & Population plot\")\n",
    "plt.xlabel(\"Year\")\n",
    "plt.ylabel(\"Population\")\n",
    "plt.plot(x , y)\n",
    "plt.scatter(x , y)"
   ]
  },
  {
   "cell_type": "code",
   "execution_count": 11,
   "id": "d93406f4",
   "metadata": {
    "execution": {
     "iopub.execute_input": "2024-02-09T16:27:11.482782Z",
     "iopub.status.busy": "2024-02-09T16:27:11.482360Z",
     "iopub.status.idle": "2024-02-09T16:27:11.909337Z",
     "shell.execute_reply": "2024-02-09T16:27:11.908182Z"
    },
    "papermill": {
     "duration": 0.436063,
     "end_time": "2024-02-09T16:27:11.911984",
     "exception": false,
     "start_time": "2024-02-09T16:27:11.475921",
     "status": "completed"
    },
    "tags": []
   },
   "outputs": [],
   "source": [
    "from sklearn.linear_model import LinearRegression\n",
    "lr = LinearRegression()"
   ]
  },
  {
   "cell_type": "code",
   "execution_count": 12,
   "id": "c48b5707",
   "metadata": {
    "execution": {
     "iopub.execute_input": "2024-02-09T16:27:11.924124Z",
     "iopub.status.busy": "2024-02-09T16:27:11.923697Z",
     "iopub.status.idle": "2024-02-09T16:27:11.949603Z",
     "shell.execute_reply": "2024-02-09T16:27:11.948377Z"
    },
    "papermill": {
     "duration": 0.034815,
     "end_time": "2024-02-09T16:27:11.952034",
     "exception": false,
     "start_time": "2024-02-09T16:27:11.917219",
     "status": "completed"
    },
    "tags": []
   },
   "outputs": [
    {
     "data": {
      "text/html": [
       "<style>#sk-container-id-1 {color: black;background-color: white;}#sk-container-id-1 pre{padding: 0;}#sk-container-id-1 div.sk-toggleable {background-color: white;}#sk-container-id-1 label.sk-toggleable__label {cursor: pointer;display: block;width: 100%;margin-bottom: 0;padding: 0.3em;box-sizing: border-box;text-align: center;}#sk-container-id-1 label.sk-toggleable__label-arrow:before {content: \"▸\";float: left;margin-right: 0.25em;color: #696969;}#sk-container-id-1 label.sk-toggleable__label-arrow:hover:before {color: black;}#sk-container-id-1 div.sk-estimator:hover label.sk-toggleable__label-arrow:before {color: black;}#sk-container-id-1 div.sk-toggleable__content {max-height: 0;max-width: 0;overflow: hidden;text-align: left;background-color: #f0f8ff;}#sk-container-id-1 div.sk-toggleable__content pre {margin: 0.2em;color: black;border-radius: 0.25em;background-color: #f0f8ff;}#sk-container-id-1 input.sk-toggleable__control:checked~div.sk-toggleable__content {max-height: 200px;max-width: 100%;overflow: auto;}#sk-container-id-1 input.sk-toggleable__control:checked~label.sk-toggleable__label-arrow:before {content: \"▾\";}#sk-container-id-1 div.sk-estimator input.sk-toggleable__control:checked~label.sk-toggleable__label {background-color: #d4ebff;}#sk-container-id-1 div.sk-label input.sk-toggleable__control:checked~label.sk-toggleable__label {background-color: #d4ebff;}#sk-container-id-1 input.sk-hidden--visually {border: 0;clip: rect(1px 1px 1px 1px);clip: rect(1px, 1px, 1px, 1px);height: 1px;margin: -1px;overflow: hidden;padding: 0;position: absolute;width: 1px;}#sk-container-id-1 div.sk-estimator {font-family: monospace;background-color: #f0f8ff;border: 1px dotted black;border-radius: 0.25em;box-sizing: border-box;margin-bottom: 0.5em;}#sk-container-id-1 div.sk-estimator:hover {background-color: #d4ebff;}#sk-container-id-1 div.sk-parallel-item::after {content: \"\";width: 100%;border-bottom: 1px solid gray;flex-grow: 1;}#sk-container-id-1 div.sk-label:hover label.sk-toggleable__label {background-color: #d4ebff;}#sk-container-id-1 div.sk-serial::before {content: \"\";position: absolute;border-left: 1px solid gray;box-sizing: border-box;top: 0;bottom: 0;left: 50%;z-index: 0;}#sk-container-id-1 div.sk-serial {display: flex;flex-direction: column;align-items: center;background-color: white;padding-right: 0.2em;padding-left: 0.2em;position: relative;}#sk-container-id-1 div.sk-item {position: relative;z-index: 1;}#sk-container-id-1 div.sk-parallel {display: flex;align-items: stretch;justify-content: center;background-color: white;position: relative;}#sk-container-id-1 div.sk-item::before, #sk-container-id-1 div.sk-parallel-item::before {content: \"\";position: absolute;border-left: 1px solid gray;box-sizing: border-box;top: 0;bottom: 0;left: 50%;z-index: -1;}#sk-container-id-1 div.sk-parallel-item {display: flex;flex-direction: column;z-index: 1;position: relative;background-color: white;}#sk-container-id-1 div.sk-parallel-item:first-child::after {align-self: flex-end;width: 50%;}#sk-container-id-1 div.sk-parallel-item:last-child::after {align-self: flex-start;width: 50%;}#sk-container-id-1 div.sk-parallel-item:only-child::after {width: 0;}#sk-container-id-1 div.sk-dashed-wrapped {border: 1px dashed gray;margin: 0 0.4em 0.5em 0.4em;box-sizing: border-box;padding-bottom: 0.4em;background-color: white;}#sk-container-id-1 div.sk-label label {font-family: monospace;font-weight: bold;display: inline-block;line-height: 1.2em;}#sk-container-id-1 div.sk-label-container {text-align: center;}#sk-container-id-1 div.sk-container {/* jupyter's `normalize.less` sets `[hidden] { display: none; }` but bootstrap.min.css set `[hidden] { display: none !important; }` so we also need the `!important` here to be able to override the default hidden behavior on the sphinx rendered scikit-learn.org. See: https://github.com/scikit-learn/scikit-learn/issues/21755 */display: inline-block !important;position: relative;}#sk-container-id-1 div.sk-text-repr-fallback {display: none;}</style><div id=\"sk-container-id-1\" class=\"sk-top-container\"><div class=\"sk-text-repr-fallback\"><pre>LinearRegression()</pre><b>In a Jupyter environment, please rerun this cell to show the HTML representation or trust the notebook. <br />On GitHub, the HTML representation is unable to render, please try loading this page with nbviewer.org.</b></div><div class=\"sk-container\" hidden><div class=\"sk-item\"><div class=\"sk-estimator sk-toggleable\"><input class=\"sk-toggleable__control sk-hidden--visually\" id=\"sk-estimator-id-1\" type=\"checkbox\" checked><label for=\"sk-estimator-id-1\" class=\"sk-toggleable__label sk-toggleable__label-arrow\">LinearRegression</label><div class=\"sk-toggleable__content\"><pre>LinearRegression()</pre></div></div></div></div></div>"
      ],
      "text/plain": [
       "LinearRegression()"
      ]
     },
     "execution_count": 12,
     "metadata": {},
     "output_type": "execute_result"
    }
   ],
   "source": [
    "lr.fit(x,y)"
   ]
  },
  {
   "cell_type": "code",
   "execution_count": 13,
   "id": "f51f66f4",
   "metadata": {
    "execution": {
     "iopub.execute_input": "2024-02-09T16:27:11.965000Z",
     "iopub.status.busy": "2024-02-09T16:27:11.964602Z",
     "iopub.status.idle": "2024-02-09T16:27:11.974308Z",
     "shell.execute_reply": "2024-02-09T16:27:11.972976Z"
    },
    "papermill": {
     "duration": 0.019082,
     "end_time": "2024-02-09T16:27:11.976692",
     "exception": false,
     "start_time": "2024-02-09T16:27:11.957610",
     "status": "completed"
    },
    "tags": []
   },
   "outputs": [
    {
     "data": {
      "text/plain": [
       "0.9994079712268669"
      ]
     },
     "execution_count": 13,
     "metadata": {},
     "output_type": "execute_result"
    }
   ],
   "source": [
    "lr.score(x,y)"
   ]
  },
  {
   "cell_type": "code",
   "execution_count": null,
   "id": "992384aa",
   "metadata": {
    "papermill": {
     "duration": 0.005319,
     "end_time": "2024-02-09T16:27:11.987948",
     "exception": false,
     "start_time": "2024-02-09T16:27:11.982629",
     "status": "completed"
    },
    "tags": []
   },
   "outputs": [],
   "source": []
  }
 ],
 "metadata": {
  "kaggle": {
   "accelerator": "none",
   "dataSources": [
    {
     "datasetId": 4419988,
     "sourceId": 7593708,
     "sourceType": "datasetVersion"
    }
   ],
   "dockerImageVersionId": 30646,
   "isGpuEnabled": false,
   "isInternetEnabled": true,
   "language": "python",
   "sourceType": "notebook"
  },
  "kernelspec": {
   "display_name": "Python 3",
   "language": "python",
   "name": "python3"
  },
  "language_info": {
   "codemirror_mode": {
    "name": "ipython",
    "version": 3
   },
   "file_extension": ".py",
   "mimetype": "text/x-python",
   "name": "python",
   "nbconvert_exporter": "python",
   "pygments_lexer": "ipython3",
   "version": "3.10.13"
  },
  "papermill": {
   "default_parameters": {},
   "duration": 7.59533,
   "end_time": "2024-02-09T16:27:12.716970",
   "environment_variables": {},
   "exception": null,
   "input_path": "__notebook__.ipynb",
   "output_path": "__notebook__.ipynb",
   "parameters": {},
   "start_time": "2024-02-09T16:27:05.121640",
   "version": "2.5.0"
  }
 },
 "nbformat": 4,
 "nbformat_minor": 5
}
