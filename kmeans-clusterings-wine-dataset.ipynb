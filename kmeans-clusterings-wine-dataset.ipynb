{
 "cells": [
  {
   "cell_type": "code",
   "execution_count": 1,
   "id": "b496a222",
   "metadata": {
    "execution": {
     "iopub.execute_input": "2023-12-05T08:59:17.587205Z",
     "iopub.status.busy": "2023-12-05T08:59:17.586701Z",
     "iopub.status.idle": "2023-12-05T08:59:34.817540Z",
     "shell.execute_reply": "2023-12-05T08:59:34.816172Z"
    },
    "papermill": {
     "duration": 17.247101,
     "end_time": "2023-12-05T08:59:34.820340",
     "exception": false,
     "start_time": "2023-12-05T08:59:17.573239",
     "status": "completed"
    },
    "tags": []
   },
   "outputs": [
    {
     "name": "stdout",
     "output_type": "stream",
     "text": [
      "Collecting kneed[plot]\r\n",
      "  Obtaining dependency information for kneed[plot] from https://files.pythonhosted.org/packages/9a/1b/7e726d8616e813007874468c61790099ba21493e0ea07561b7d9fc53151c/kneed-0.8.5-py3-none-any.whl.metadata\r\n",
      "  Downloading kneed-0.8.5-py3-none-any.whl.metadata (5.5 kB)\r\n",
      "Requirement already satisfied: numpy>=1.14.2 in /opt/conda/lib/python3.10/site-packages (from kneed[plot]) (1.24.3)\r\n",
      "Requirement already satisfied: scipy>=1.0.0 in /opt/conda/lib/python3.10/site-packages (from kneed[plot]) (1.11.3)\r\n",
      "Requirement already satisfied: matplotlib>=2.2.5 in /opt/conda/lib/python3.10/site-packages (from kneed[plot]) (3.7.3)\r\n",
      "Requirement already satisfied: contourpy>=1.0.1 in /opt/conda/lib/python3.10/site-packages (from matplotlib>=2.2.5->kneed[plot]) (1.1.0)\r\n",
      "Requirement already satisfied: cycler>=0.10 in /opt/conda/lib/python3.10/site-packages (from matplotlib>=2.2.5->kneed[plot]) (0.11.0)\r\n",
      "Requirement already satisfied: fonttools>=4.22.0 in /opt/conda/lib/python3.10/site-packages (from matplotlib>=2.2.5->kneed[plot]) (4.42.1)\r\n",
      "Requirement already satisfied: kiwisolver>=1.0.1 in /opt/conda/lib/python3.10/site-packages (from matplotlib>=2.2.5->kneed[plot]) (1.4.4)\r\n",
      "Requirement already satisfied: packaging>=20.0 in /opt/conda/lib/python3.10/site-packages (from matplotlib>=2.2.5->kneed[plot]) (21.3)\r\n",
      "Requirement already satisfied: pillow>=6.2.0 in /opt/conda/lib/python3.10/site-packages (from matplotlib>=2.2.5->kneed[plot]) (10.1.0)\r\n",
      "Requirement already satisfied: pyparsing>=2.3.1 in /opt/conda/lib/python3.10/site-packages (from matplotlib>=2.2.5->kneed[plot]) (3.0.9)\r\n",
      "Requirement already satisfied: python-dateutil>=2.7 in /opt/conda/lib/python3.10/site-packages (from matplotlib>=2.2.5->kneed[plot]) (2.8.2)\r\n",
      "Requirement already satisfied: six>=1.5 in /opt/conda/lib/python3.10/site-packages (from python-dateutil>=2.7->matplotlib>=2.2.5->kneed[plot]) (1.16.0)\r\n",
      "Downloading kneed-0.8.5-py3-none-any.whl (10 kB)\r\n",
      "Installing collected packages: kneed\r\n",
      "Successfully installed kneed-0.8.5\r\n"
     ]
    }
   ],
   "source": [
    "!pip install kneed[plot]"
   ]
  },
  {
   "cell_type": "code",
   "execution_count": 2,
   "id": "6911ab39",
   "metadata": {
    "execution": {
     "iopub.execute_input": "2023-12-05T08:59:34.840280Z",
     "iopub.status.busy": "2023-12-05T08:59:34.839802Z",
     "iopub.status.idle": "2023-12-05T08:59:36.871270Z",
     "shell.execute_reply": "2023-12-05T08:59:36.869772Z"
    },
    "papermill": {
     "duration": 2.044929,
     "end_time": "2023-12-05T08:59:36.874307",
     "exception": false,
     "start_time": "2023-12-05T08:59:34.829378",
     "status": "completed"
    },
    "tags": []
   },
   "outputs": [],
   "source": [
    "import pandas as pd\n",
    "import numpy as np\n",
    "from matplotlib import pyplot as plt\n",
    "import seaborn as sn\n",
    "import warnings\n",
    "warnings.filterwarnings(\"ignore\")"
   ]
  },
  {
   "cell_type": "code",
   "execution_count": 3,
   "id": "dc1726e9",
   "metadata": {
    "execution": {
     "iopub.execute_input": "2023-12-05T08:59:36.893334Z",
     "iopub.status.busy": "2023-12-05T08:59:36.892655Z",
     "iopub.status.idle": "2023-12-05T08:59:37.042409Z",
     "shell.execute_reply": "2023-12-05T08:59:37.041300Z"
    },
    "papermill": {
     "duration": 0.162833,
     "end_time": "2023-12-05T08:59:37.045632",
     "exception": false,
     "start_time": "2023-12-05T08:59:36.882799",
     "status": "completed"
    },
    "tags": []
   },
   "outputs": [],
   "source": [
    "data = pd.read_csv('https://raw.githubusercontent.com/ovibaridar/Data_sets/main/wine-clustering.csv')"
   ]
  },
  {
   "cell_type": "code",
   "execution_count": 4,
   "id": "6a064ac8",
   "metadata": {
    "execution": {
     "iopub.execute_input": "2023-12-05T08:59:37.065070Z",
     "iopub.status.busy": "2023-12-05T08:59:37.064658Z",
     "iopub.status.idle": "2023-12-05T08:59:37.106491Z",
     "shell.execute_reply": "2023-12-05T08:59:37.105190Z"
    },
    "papermill": {
     "duration": 0.055042,
     "end_time": "2023-12-05T08:59:37.109546",
     "exception": false,
     "start_time": "2023-12-05T08:59:37.054504",
     "status": "completed"
    },
    "tags": []
   },
   "outputs": [
    {
     "data": {
      "text/html": [
       "<div>\n",
       "<style scoped>\n",
       "    .dataframe tbody tr th:only-of-type {\n",
       "        vertical-align: middle;\n",
       "    }\n",
       "\n",
       "    .dataframe tbody tr th {\n",
       "        vertical-align: top;\n",
       "    }\n",
       "\n",
       "    .dataframe thead th {\n",
       "        text-align: right;\n",
       "    }\n",
       "</style>\n",
       "<table border=\"1\" class=\"dataframe\">\n",
       "  <thead>\n",
       "    <tr style=\"text-align: right;\">\n",
       "      <th></th>\n",
       "      <th>Alcohol</th>\n",
       "      <th>Malic_Acid</th>\n",
       "      <th>Ash</th>\n",
       "      <th>Ash_Alcanity</th>\n",
       "      <th>Magnesium</th>\n",
       "      <th>Total_Phenols</th>\n",
       "      <th>Flavanoids</th>\n",
       "      <th>Nonflavanoid_Phenols</th>\n",
       "      <th>Proanthocyanins</th>\n",
       "      <th>Color_Intensity</th>\n",
       "      <th>Hue</th>\n",
       "      <th>OD280</th>\n",
       "      <th>Proline</th>\n",
       "    </tr>\n",
       "  </thead>\n",
       "  <tbody>\n",
       "    <tr>\n",
       "      <th>0</th>\n",
       "      <td>14.23</td>\n",
       "      <td>1.71</td>\n",
       "      <td>2.43</td>\n",
       "      <td>15.6</td>\n",
       "      <td>127</td>\n",
       "      <td>2.80</td>\n",
       "      <td>3.06</td>\n",
       "      <td>0.28</td>\n",
       "      <td>2.29</td>\n",
       "      <td>5.64</td>\n",
       "      <td>1.04</td>\n",
       "      <td>3.92</td>\n",
       "      <td>1065</td>\n",
       "    </tr>\n",
       "    <tr>\n",
       "      <th>1</th>\n",
       "      <td>13.20</td>\n",
       "      <td>1.78</td>\n",
       "      <td>2.14</td>\n",
       "      <td>11.2</td>\n",
       "      <td>100</td>\n",
       "      <td>2.65</td>\n",
       "      <td>2.76</td>\n",
       "      <td>0.26</td>\n",
       "      <td>1.28</td>\n",
       "      <td>4.38</td>\n",
       "      <td>1.05</td>\n",
       "      <td>3.40</td>\n",
       "      <td>1050</td>\n",
       "    </tr>\n",
       "    <tr>\n",
       "      <th>2</th>\n",
       "      <td>13.16</td>\n",
       "      <td>2.36</td>\n",
       "      <td>2.67</td>\n",
       "      <td>18.6</td>\n",
       "      <td>101</td>\n",
       "      <td>2.80</td>\n",
       "      <td>3.24</td>\n",
       "      <td>0.30</td>\n",
       "      <td>2.81</td>\n",
       "      <td>5.68</td>\n",
       "      <td>1.03</td>\n",
       "      <td>3.17</td>\n",
       "      <td>1185</td>\n",
       "    </tr>\n",
       "    <tr>\n",
       "      <th>3</th>\n",
       "      <td>14.37</td>\n",
       "      <td>1.95</td>\n",
       "      <td>2.50</td>\n",
       "      <td>16.8</td>\n",
       "      <td>113</td>\n",
       "      <td>3.85</td>\n",
       "      <td>3.49</td>\n",
       "      <td>0.24</td>\n",
       "      <td>2.18</td>\n",
       "      <td>7.80</td>\n",
       "      <td>0.86</td>\n",
       "      <td>3.45</td>\n",
       "      <td>1480</td>\n",
       "    </tr>\n",
       "    <tr>\n",
       "      <th>4</th>\n",
       "      <td>13.24</td>\n",
       "      <td>2.59</td>\n",
       "      <td>2.87</td>\n",
       "      <td>21.0</td>\n",
       "      <td>118</td>\n",
       "      <td>2.80</td>\n",
       "      <td>2.69</td>\n",
       "      <td>0.39</td>\n",
       "      <td>1.82</td>\n",
       "      <td>4.32</td>\n",
       "      <td>1.04</td>\n",
       "      <td>2.93</td>\n",
       "      <td>735</td>\n",
       "    </tr>\n",
       "  </tbody>\n",
       "</table>\n",
       "</div>"
      ],
      "text/plain": [
       "   Alcohol  Malic_Acid   Ash  Ash_Alcanity  Magnesium  Total_Phenols  \\\n",
       "0    14.23        1.71  2.43          15.6        127           2.80   \n",
       "1    13.20        1.78  2.14          11.2        100           2.65   \n",
       "2    13.16        2.36  2.67          18.6        101           2.80   \n",
       "3    14.37        1.95  2.50          16.8        113           3.85   \n",
       "4    13.24        2.59  2.87          21.0        118           2.80   \n",
       "\n",
       "   Flavanoids  Nonflavanoid_Phenols  Proanthocyanins  Color_Intensity   Hue  \\\n",
       "0        3.06                  0.28             2.29             5.64  1.04   \n",
       "1        2.76                  0.26             1.28             4.38  1.05   \n",
       "2        3.24                  0.30             2.81             5.68  1.03   \n",
       "3        3.49                  0.24             2.18             7.80  0.86   \n",
       "4        2.69                  0.39             1.82             4.32  1.04   \n",
       "\n",
       "   OD280  Proline  \n",
       "0   3.92     1065  \n",
       "1   3.40     1050  \n",
       "2   3.17     1185  \n",
       "3   3.45     1480  \n",
       "4   2.93      735  "
      ]
     },
     "execution_count": 4,
     "metadata": {},
     "output_type": "execute_result"
    }
   ],
   "source": [
    "data.head()"
   ]
  },
  {
   "cell_type": "code",
   "execution_count": 5,
   "id": "9c3542a8",
   "metadata": {
    "execution": {
     "iopub.execute_input": "2023-12-05T08:59:37.129082Z",
     "iopub.status.busy": "2023-12-05T08:59:37.128671Z",
     "iopub.status.idle": "2023-12-05T08:59:37.140597Z",
     "shell.execute_reply": "2023-12-05T08:59:37.139322Z"
    },
    "papermill": {
     "duration": 0.024701,
     "end_time": "2023-12-05T08:59:37.143129",
     "exception": false,
     "start_time": "2023-12-05T08:59:37.118428",
     "status": "completed"
    },
    "tags": []
   },
   "outputs": [
    {
     "data": {
      "text/plain": [
       "Alcohol                 0\n",
       "Malic_Acid              0\n",
       "Ash                     0\n",
       "Ash_Alcanity            0\n",
       "Magnesium               0\n",
       "Total_Phenols           0\n",
       "Flavanoids              0\n",
       "Nonflavanoid_Phenols    0\n",
       "Proanthocyanins         0\n",
       "Color_Intensity         0\n",
       "Hue                     0\n",
       "OD280                   0\n",
       "Proline                 0\n",
       "dtype: int64"
      ]
     },
     "execution_count": 5,
     "metadata": {},
     "output_type": "execute_result"
    }
   ],
   "source": [
    "data.isnull().sum()"
   ]
  },
  {
   "cell_type": "code",
   "execution_count": 6,
   "id": "eb647f2e",
   "metadata": {
    "execution": {
     "iopub.execute_input": "2023-12-05T08:59:37.162740Z",
     "iopub.status.busy": "2023-12-05T08:59:37.162286Z",
     "iopub.status.idle": "2023-12-05T08:59:37.180389Z",
     "shell.execute_reply": "2023-12-05T08:59:37.179074Z"
    },
    "papermill": {
     "duration": 0.031014,
     "end_time": "2023-12-05T08:59:37.183045",
     "exception": false,
     "start_time": "2023-12-05T08:59:37.152031",
     "status": "completed"
    },
    "tags": []
   },
   "outputs": [
    {
     "data": {
      "text/plain": [
       "0"
      ]
     },
     "execution_count": 6,
     "metadata": {},
     "output_type": "execute_result"
    }
   ],
   "source": [
    "data.duplicated().sum()"
   ]
  },
  {
   "cell_type": "code",
   "execution_count": 7,
   "id": "27c80c96",
   "metadata": {
    "execution": {
     "iopub.execute_input": "2023-12-05T08:59:37.203128Z",
     "iopub.status.busy": "2023-12-05T08:59:37.202667Z",
     "iopub.status.idle": "2023-12-05T08:59:37.225618Z",
     "shell.execute_reply": "2023-12-05T08:59:37.224318Z"
    },
    "papermill": {
     "duration": 0.036337,
     "end_time": "2023-12-05T08:59:37.228364",
     "exception": false,
     "start_time": "2023-12-05T08:59:37.192027",
     "status": "completed"
    },
    "tags": []
   },
   "outputs": [
    {
     "data": {
      "text/html": [
       "<div>\n",
       "<style scoped>\n",
       "    .dataframe tbody tr th:only-of-type {\n",
       "        vertical-align: middle;\n",
       "    }\n",
       "\n",
       "    .dataframe tbody tr th {\n",
       "        vertical-align: top;\n",
       "    }\n",
       "\n",
       "    .dataframe thead th {\n",
       "        text-align: right;\n",
       "    }\n",
       "</style>\n",
       "<table border=\"1\" class=\"dataframe\">\n",
       "  <thead>\n",
       "    <tr style=\"text-align: right;\">\n",
       "      <th></th>\n",
       "      <th>Malic_Acid</th>\n",
       "      <th>Proline</th>\n",
       "    </tr>\n",
       "  </thead>\n",
       "  <tbody>\n",
       "    <tr>\n",
       "      <th>0</th>\n",
       "      <td>1.71</td>\n",
       "      <td>1065</td>\n",
       "    </tr>\n",
       "    <tr>\n",
       "      <th>1</th>\n",
       "      <td>1.78</td>\n",
       "      <td>1050</td>\n",
       "    </tr>\n",
       "    <tr>\n",
       "      <th>2</th>\n",
       "      <td>2.36</td>\n",
       "      <td>1185</td>\n",
       "    </tr>\n",
       "    <tr>\n",
       "      <th>3</th>\n",
       "      <td>1.95</td>\n",
       "      <td>1480</td>\n",
       "    </tr>\n",
       "    <tr>\n",
       "      <th>4</th>\n",
       "      <td>2.59</td>\n",
       "      <td>735</td>\n",
       "    </tr>\n",
       "    <tr>\n",
       "      <th>...</th>\n",
       "      <td>...</td>\n",
       "      <td>...</td>\n",
       "    </tr>\n",
       "    <tr>\n",
       "      <th>173</th>\n",
       "      <td>5.65</td>\n",
       "      <td>740</td>\n",
       "    </tr>\n",
       "    <tr>\n",
       "      <th>174</th>\n",
       "      <td>3.91</td>\n",
       "      <td>750</td>\n",
       "    </tr>\n",
       "    <tr>\n",
       "      <th>175</th>\n",
       "      <td>4.28</td>\n",
       "      <td>835</td>\n",
       "    </tr>\n",
       "    <tr>\n",
       "      <th>176</th>\n",
       "      <td>2.59</td>\n",
       "      <td>840</td>\n",
       "    </tr>\n",
       "    <tr>\n",
       "      <th>177</th>\n",
       "      <td>4.10</td>\n",
       "      <td>560</td>\n",
       "    </tr>\n",
       "  </tbody>\n",
       "</table>\n",
       "<p>178 rows × 2 columns</p>\n",
       "</div>"
      ],
      "text/plain": [
       "     Malic_Acid  Proline\n",
       "0          1.71     1065\n",
       "1          1.78     1050\n",
       "2          2.36     1185\n",
       "3          1.95     1480\n",
       "4          2.59      735\n",
       "..          ...      ...\n",
       "173        5.65      740\n",
       "174        3.91      750\n",
       "175        4.28      835\n",
       "176        2.59      840\n",
       "177        4.10      560\n",
       "\n",
       "[178 rows x 2 columns]"
      ]
     },
     "execution_count": 7,
     "metadata": {},
     "output_type": "execute_result"
    }
   ],
   "source": [
    "data[['Malic_Acid','Proline']]"
   ]
  },
  {
   "cell_type": "code",
   "execution_count": 8,
   "id": "576f128a",
   "metadata": {
    "execution": {
     "iopub.execute_input": "2023-12-05T08:59:37.249808Z",
     "iopub.status.busy": "2023-12-05T08:59:37.249185Z",
     "iopub.status.idle": "2023-12-05T08:59:39.013520Z",
     "shell.execute_reply": "2023-12-05T08:59:39.012304Z"
    },
    "papermill": {
     "duration": 1.778621,
     "end_time": "2023-12-05T08:59:39.016585",
     "exception": false,
     "start_time": "2023-12-05T08:59:37.237964",
     "status": "completed"
    },
    "tags": []
   },
   "outputs": [
    {
     "data": {
      "text/plain": [
       "<seaborn.axisgrid.PairGrid at 0x7ce660964d30>"
      ]
     },
     "execution_count": 8,
     "metadata": {},
     "output_type": "execute_result"
    },
    {
     "data": {
      "image/png": "[encoded data removed]",
      "text/plain": [
       "<Figure size 500x500 with 6 Axes>"
      ]
     },
     "metadata": {},
     "output_type": "display_data"
    }
   ],
   "source": [
    "sn.pairplot(data[['Malic_Acid','Proline']])"
   ]
  },
  {
   "cell_type": "code",
   "execution_count": 9,
   "id": "72476af7",
   "metadata": {
    "execution": {
     "iopub.execute_input": "2023-12-05T08:59:39.041128Z",
     "iopub.status.busy": "2023-12-05T08:59:39.040668Z",
     "iopub.status.idle": "2023-12-05T08:59:39.438518Z",
     "shell.execute_reply": "2023-12-05T08:59:39.437264Z"
    },
    "papermill": {
     "duration": 0.414346,
     "end_time": "2023-12-05T08:59:39.441490",
     "exception": false,
     "start_time": "2023-12-05T08:59:39.027144",
     "status": "completed"
    },
    "tags": []
   },
   "outputs": [
    {
     "data": {
      "text/plain": [
       "<matplotlib.collections.PathCollection at 0x7ce65cae3610>"
      ]
     },
     "execution_count": 9,
     "metadata": {},
     "output_type": "execute_result"
    },
    {
     "data": {
      "image/png": "[encoded data removed]",
      "text/plain": [
       "<Figure size 800x800 with 1 Axes>"
      ]
     },
     "metadata": {},
     "output_type": "display_data"
    }
   ],
   "source": [
    "plt.figure(figsize=(8,8))\n",
    "plt.title('Scatter plot of Malic acid and proline')\n",
    "plt.xlabel('Malic Acid')\n",
    "plt.ylabel('Proline')\n",
    "plt.scatter(data.Malic_Acid,data.Proline)"
   ]
  },
  {
   "cell_type": "code",
   "execution_count": 10,
   "id": "6e05a5ac",
   "metadata": {
    "execution": {
     "iopub.execute_input": "2023-12-05T08:59:39.467256Z",
     "iopub.status.busy": "2023-12-05T08:59:39.466799Z",
     "iopub.status.idle": "2023-12-05T08:59:40.193263Z",
     "shell.execute_reply": "2023-12-05T08:59:40.191328Z"
    },
    "papermill": {
     "duration": 0.743082,
     "end_time": "2023-12-05T08:59:40.196855",
     "exception": false,
     "start_time": "2023-12-05T08:59:39.453773",
     "status": "completed"
    },
    "tags": []
   },
   "outputs": [],
   "source": [
    "from kneed import KneeLocator\n",
    "from sklearn.cluster import KMeans"
   ]
  },
  {
   "cell_type": "code",
   "execution_count": 11,
   "id": "fda697da",
   "metadata": {
    "execution": {
     "iopub.execute_input": "2023-12-05T08:59:40.223409Z",
     "iopub.status.busy": "2023-12-05T08:59:40.222877Z",
     "iopub.status.idle": "2023-12-05T08:59:40.724408Z",
     "shell.execute_reply": "2023-12-05T08:59:40.723312Z"
    },
    "papermill": {
     "duration": 0.518675,
     "end_time": "2023-12-05T08:59:40.727452",
     "exception": false,
     "start_time": "2023-12-05T08:59:40.208777",
     "status": "completed"
    },
    "tags": []
   },
   "outputs": [],
   "source": [
    "wcss = []\n",
    "for k in range(1,15):\n",
    "    km = KMeans(n_clusters = k)\n",
    "    km.fit(data[['Malic_Acid','Proline']])\n",
    "    wcss.append(km.inertia_)"
   ]
  },
  {
   "cell_type": "code",
   "execution_count": 12,
   "id": "ce1ef026",
   "metadata": {
    "execution": {
     "iopub.execute_input": "2023-12-05T08:59:40.756284Z",
     "iopub.status.busy": "2023-12-05T08:59:40.755026Z",
     "iopub.status.idle": "2023-12-05T08:59:40.763333Z",
     "shell.execute_reply": "2023-12-05T08:59:40.762148Z"
    },
    "papermill": {
     "duration": 0.02472,
     "end_time": "2023-12-05T08:59:40.766082",
     "exception": false,
     "start_time": "2023-12-05T08:59:40.741362",
     "status": "completed"
    },
    "scrolled": true,
    "tags": []
   },
   "outputs": [
    {
     "data": {
      "text/plain": [
       "[17552729.870636515,\n",
       " 4508088.4704114115,\n",
       " 2338061.928027069,\n",
       " 1299080.398053024,\n",
       " 886872.5048540451,\n",
       " 617823.5760814524,\n",
       " 381573.82059940184,\n",
       " 292840.12012885674,\n",
       " 241701.2733131848,\n",
       " 188525.92528140737,\n",
       " 156715.681743517,\n",
       " 131171.5191518932,\n",
       " 112833.92332291124,\n",
       " 95753.24990399055]"
      ]
     },
     "execution_count": 12,
     "metadata": {},
     "output_type": "execute_result"
    }
   ],
   "source": [
    "wcss"
   ]
  },
  {
   "cell_type": "code",
   "execution_count": 13,
   "id": "cd43b90c",
   "metadata": {
    "execution": {
     "iopub.execute_input": "2023-12-05T08:59:40.792254Z",
     "iopub.status.busy": "2023-12-05T08:59:40.791407Z",
     "iopub.status.idle": "2023-12-05T08:59:41.123117Z",
     "shell.execute_reply": "2023-12-05T08:59:41.121836Z"
    },
    "papermill": {
     "duration": 0.348178,
     "end_time": "2023-12-05T08:59:41.125947",
     "exception": false,
     "start_time": "2023-12-05T08:59:40.777769",
     "status": "completed"
    },
    "tags": []
   },
   "outputs": [
    {
     "data": {
      "text/plain": [
       "[<matplotlib.lines.Line2D at 0x7ce65b0f1ed0>]"
      ]
     },
     "execution_count": 13,
     "metadata": {},
     "output_type": "execute_result"
    },
    {
     "data": {
      "image/png": "[encoded data removed]",
      "text/plain": [
       "<Figure size 640x480 with 1 Axes>"
      ]
     },
     "metadata": {},
     "output_type": "display_data"
    }
   ],
   "source": [
    "plt.plot(range(1,15),wcss,marker='o',color='b')"
   ]
  },
  {
   "cell_type": "code",
   "execution_count": 14,
   "id": "f6afa9f0",
   "metadata": {
    "execution": {
     "iopub.execute_input": "2023-12-05T08:59:41.152757Z",
     "iopub.status.busy": "2023-12-05T08:59:41.152249Z",
     "iopub.status.idle": "2023-12-05T08:59:41.160252Z",
     "shell.execute_reply": "2023-12-05T08:59:41.158660Z"
    },
    "papermill": {
     "duration": 0.024835,
     "end_time": "2023-12-05T08:59:41.162842",
     "exception": false,
     "start_time": "2023-12-05T08:59:41.138007",
     "status": "completed"
    },
    "tags": []
   },
   "outputs": [],
   "source": [
    "kn = KneeLocator(range(1,15), wcss, direction='decreasing', curve='convex')"
   ]
  },
  {
   "cell_type": "code",
   "execution_count": 15,
   "id": "f195497f",
   "metadata": {
    "execution": {
     "iopub.execute_input": "2023-12-05T08:59:41.189338Z",
     "iopub.status.busy": "2023-12-05T08:59:41.188852Z",
     "iopub.status.idle": "2023-12-05T08:59:41.615647Z",
     "shell.execute_reply": "2023-12-05T08:59:41.614295Z"
    },
    "papermill": {
     "duration": 0.443151,
     "end_time": "2023-12-05T08:59:41.618243",
     "exception": false,
     "start_time": "2023-12-05T08:59:41.175092",
     "status": "completed"
    },
    "tags": []
   },
   "outputs": [
    {
     "data": {
      "image/png": "[encoded data removed]",
      "text/plain": [
       "<Figure size 600x600 with 1 Axes>"
      ]
     },
     "metadata": {},
     "output_type": "display_data"
    }
   ],
   "source": [
    "kn.plot_knee()"
   ]
  },
  {
   "cell_type": "code",
   "execution_count": 16,
   "id": "7ac00951",
   "metadata": {
    "execution": {
     "iopub.execute_input": "2023-12-05T08:59:41.645758Z",
     "iopub.status.busy": "2023-12-05T08:59:41.645279Z",
     "iopub.status.idle": "2023-12-05T08:59:41.651495Z",
     "shell.execute_reply": "2023-12-05T08:59:41.649758Z"
    },
    "papermill": {
     "duration": 0.023272,
     "end_time": "2023-12-05T08:59:41.654290",
     "exception": false,
     "start_time": "2023-12-05T08:59:41.631018",
     "status": "completed"
    },
    "tags": []
   },
   "outputs": [],
   "source": [
    "km2 = KMeans(n_clusters = 3)"
   ]
  },
  {
   "cell_type": "code",
   "execution_count": 17,
   "id": "a2b7b27e",
   "metadata": {
    "execution": {
     "iopub.execute_input": "2023-12-05T08:59:41.682176Z",
     "iopub.status.busy": "2023-12-05T08:59:41.680857Z",
     "iopub.status.idle": "2023-12-05T08:59:41.720109Z",
     "shell.execute_reply": "2023-12-05T08:59:41.718943Z"
    },
    "papermill": {
     "duration": 0.056735,
     "end_time": "2023-12-05T08:59:41.723526",
     "exception": false,
     "start_time": "2023-12-05T08:59:41.666791",
     "status": "completed"
    },
    "tags": []
   },
   "outputs": [
    {
     "data": {
      "text/html": [
       "<style>#sk-container-id-1 {color: black;background-color: white;}#sk-container-id-1 pre{padding: 0;}#sk-container-id-1 div.sk-toggleable {background-color: white;}#sk-container-id-1 label.sk-toggleable__label {cursor: pointer;display: block;width: 100%;margin-bottom: 0;padding: 0.3em;box-sizing: border-box;text-align: center;}#sk-container-id-1 label.sk-toggleable__label-arrow:before {content: \"▸\";float: left;margin-right: 0.25em;color: #696969;}#sk-container-id-1 label.sk-toggleable__label-arrow:hover:before {color: black;}#sk-container-id-1 div.sk-estimator:hover label.sk-toggleable__label-arrow:before {color: black;}#sk-container-id-1 div.sk-toggleable__content {max-height: 0;max-width: 0;overflow: hidden;text-align: left;background-color: #f0f8ff;}#sk-container-id-1 div.sk-toggleable__content pre {margin: 0.2em;color: black;border-radius: 0.25em;background-color: #f0f8ff;}#sk-container-id-1 input.sk-toggleable__control:checked~div.sk-toggleable__content {max-height: 200px;max-width: 100%;overflow: auto;}#sk-container-id-1 input.sk-toggleable__control:checked~label.sk-toggleable__label-arrow:before {content: \"▾\";}#sk-container-id-1 div.sk-estimator input.sk-toggleable__control:checked~label.sk-toggleable__label {background-color: #d4ebff;}#sk-container-id-1 div.sk-label input.sk-toggleable__control:checked~label.sk-toggleable__label {background-color: #d4ebff;}#sk-container-id-1 input.sk-hidden--visually {border: 0;clip: rect(1px 1px 1px 1px);clip: rect(1px, 1px, 1px, 1px);height: 1px;margin: -1px;overflow: hidden;padding: 0;position: absolute;width: 1px;}#sk-container-id-1 div.sk-estimator {font-family: monospace;background-color: #f0f8ff;border: 1px dotted black;border-radius: 0.25em;box-sizing: border-box;margin-bottom: 0.5em;}#sk-container-id-1 div.sk-estimator:hover {background-color: #d4ebff;}#sk-container-id-1 div.sk-parallel-item::after {content: \"\";width: 100%;border-bottom: 1px solid gray;flex-grow: 1;}#sk-container-id-1 div.sk-label:hover label.sk-toggleable__label {background-color: #d4ebff;}#sk-container-id-1 div.sk-serial::before {content: \"\";position: absolute;border-left: 1px solid gray;box-sizing: border-box;top: 0;bottom: 0;left: 50%;z-index: 0;}#sk-container-id-1 div.sk-serial {display: flex;flex-direction: column;align-items: center;background-color: white;padding-right: 0.2em;padding-left: 0.2em;position: relative;}#sk-container-id-1 div.sk-item {position: relative;z-index: 1;}#sk-container-id-1 div.sk-parallel {display: flex;align-items: stretch;justify-content: center;background-color: white;position: relative;}#sk-container-id-1 div.sk-item::before, #sk-container-id-1 div.sk-parallel-item::before {content: \"\";position: absolute;border-left: 1px solid gray;box-sizing: border-box;top: 0;bottom: 0;left: 50%;z-index: -1;}#sk-container-id-1 div.sk-parallel-item {display: flex;flex-direction: column;z-index: 1;position: relative;background-color: white;}#sk-container-id-1 div.sk-parallel-item:first-child::after {align-self: flex-end;width: 50%;}#sk-container-id-1 div.sk-parallel-item:last-child::after {align-self: flex-start;width: 50%;}#sk-container-id-1 div.sk-parallel-item:only-child::after {width: 0;}#sk-container-id-1 div.sk-dashed-wrapped {border: 1px dashed gray;margin: 0 0.4em 0.5em 0.4em;box-sizing: border-box;padding-bottom: 0.4em;background-color: white;}#sk-container-id-1 div.sk-label label {font-family: monospace;font-weight: bold;display: inline-block;line-height: 1.2em;}#sk-container-id-1 div.sk-label-container {text-align: center;}#sk-container-id-1 div.sk-container {/* jupyter's `normalize.less` sets `[hidden] { display: none; }` but bootstrap.min.css set `[hidden] { display: none !important; }` so we also need the `!important` here to be able to override the default hidden behavior on the sphinx rendered scikit-learn.org. See: https://github.com/scikit-learn/scikit-learn/issues/21755 */display: inline-block !important;position: relative;}#sk-container-id-1 div.sk-text-repr-fallback {display: none;}</style><div id=\"sk-container-id-1\" class=\"sk-top-container\"><div class=\"sk-text-repr-fallback\"><pre>KMeans(n_clusters=3)</pre><b>In a Jupyter environment, please rerun this cell to show the HTML representation or trust the notebook. <br />On GitHub, the HTML representation is unable to render, please try loading this page with nbviewer.org.</b></div><div class=\"sk-container\" hidden><div class=\"sk-item\"><div class=\"sk-estimator sk-toggleable\"><input class=\"sk-toggleable__control sk-hidden--visually\" id=\"sk-estimator-id-1\" type=\"checkbox\" checked><label for=\"sk-estimator-id-1\" class=\"sk-toggleable__label sk-toggleable__label-arrow\">KMeans</label><div class=\"sk-toggleable__content\"><pre>KMeans(n_clusters=3)</pre></div></div></div></div></div>"
      ],
      "text/plain": [
       "KMeans(n_clusters=3)"
      ]
     },
     "execution_count": 17,
     "metadata": {},
     "output_type": "execute_result"
    }
   ],
   "source": [
    "km2.fit(data[['Malic_Acid','Proline']])"
   ]
  },
  {
   "cell_type": "code",
   "execution_count": 18,
   "id": "bfcfe46a",
   "metadata": {
    "execution": {
     "iopub.execute_input": "2023-12-05T08:59:41.752940Z",
     "iopub.status.busy": "2023-12-05T08:59:41.752460Z",
     "iopub.status.idle": "2023-12-05T08:59:41.763711Z",
     "shell.execute_reply": "2023-12-05T08:59:41.762380Z"
    },
    "papermill": {
     "duration": 0.029223,
     "end_time": "2023-12-05T08:59:41.766556",
     "exception": false,
     "start_time": "2023-12-05T08:59:41.737333",
     "status": "completed"
    },
    "tags": []
   },
   "outputs": [],
   "source": [
    "data['Clusters'] = km2.predict(data[['Malic_Acid','Proline']])"
   ]
  },
  {
   "cell_type": "code",
   "execution_count": 19,
   "id": "c43cae6c",
   "metadata": {
    "execution": {
     "iopub.execute_input": "2023-12-05T08:59:41.793982Z",
     "iopub.status.busy": "2023-12-05T08:59:41.793516Z",
     "iopub.status.idle": "2023-12-05T08:59:41.818332Z",
     "shell.execute_reply": "2023-12-05T08:59:41.817121Z"
    },
    "papermill": {
     "duration": 0.041674,
     "end_time": "2023-12-05T08:59:41.821031",
     "exception": false,
     "start_time": "2023-12-05T08:59:41.779357",
     "status": "completed"
    },
    "tags": []
   },
   "outputs": [
    {
     "data": {
      "text/html": [
       "<div>\n",
       "<style scoped>\n",
       "    .dataframe tbody tr th:only-of-type {\n",
       "        vertical-align: middle;\n",
       "    }\n",
       "\n",
       "    .dataframe tbody tr th {\n",
       "        vertical-align: top;\n",
       "    }\n",
       "\n",
       "    .dataframe thead th {\n",
       "        text-align: right;\n",
       "    }\n",
       "</style>\n",
       "<table border=\"1\" class=\"dataframe\">\n",
       "  <thead>\n",
       "    <tr style=\"text-align: right;\">\n",
       "      <th></th>\n",
       "      <th>Alcohol</th>\n",
       "      <th>Malic_Acid</th>\n",
       "      <th>Ash</th>\n",
       "      <th>Ash_Alcanity</th>\n",
       "      <th>Magnesium</th>\n",
       "      <th>Total_Phenols</th>\n",
       "      <th>Flavanoids</th>\n",
       "      <th>Nonflavanoid_Phenols</th>\n",
       "      <th>Proanthocyanins</th>\n",
       "      <th>Color_Intensity</th>\n",
       "      <th>Hue</th>\n",
       "      <th>OD280</th>\n",
       "      <th>Proline</th>\n",
       "      <th>Clusters</th>\n",
       "    </tr>\n",
       "  </thead>\n",
       "  <tbody>\n",
       "    <tr>\n",
       "      <th>0</th>\n",
       "      <td>14.23</td>\n",
       "      <td>1.71</td>\n",
       "      <td>2.43</td>\n",
       "      <td>15.6</td>\n",
       "      <td>127</td>\n",
       "      <td>2.80</td>\n",
       "      <td>3.06</td>\n",
       "      <td>0.28</td>\n",
       "      <td>2.29</td>\n",
       "      <td>5.64</td>\n",
       "      <td>1.04</td>\n",
       "      <td>3.92</td>\n",
       "      <td>1065</td>\n",
       "      <td>1</td>\n",
       "    </tr>\n",
       "    <tr>\n",
       "      <th>1</th>\n",
       "      <td>13.20</td>\n",
       "      <td>1.78</td>\n",
       "      <td>2.14</td>\n",
       "      <td>11.2</td>\n",
       "      <td>100</td>\n",
       "      <td>2.65</td>\n",
       "      <td>2.76</td>\n",
       "      <td>0.26</td>\n",
       "      <td>1.28</td>\n",
       "      <td>4.38</td>\n",
       "      <td>1.05</td>\n",
       "      <td>3.40</td>\n",
       "      <td>1050</td>\n",
       "      <td>1</td>\n",
       "    </tr>\n",
       "    <tr>\n",
       "      <th>2</th>\n",
       "      <td>13.16</td>\n",
       "      <td>2.36</td>\n",
       "      <td>2.67</td>\n",
       "      <td>18.6</td>\n",
       "      <td>101</td>\n",
       "      <td>2.80</td>\n",
       "      <td>3.24</td>\n",
       "      <td>0.30</td>\n",
       "      <td>2.81</td>\n",
       "      <td>5.68</td>\n",
       "      <td>1.03</td>\n",
       "      <td>3.17</td>\n",
       "      <td>1185</td>\n",
       "      <td>1</td>\n",
       "    </tr>\n",
       "    <tr>\n",
       "      <th>3</th>\n",
       "      <td>14.37</td>\n",
       "      <td>1.95</td>\n",
       "      <td>2.50</td>\n",
       "      <td>16.8</td>\n",
       "      <td>113</td>\n",
       "      <td>3.85</td>\n",
       "      <td>3.49</td>\n",
       "      <td>0.24</td>\n",
       "      <td>2.18</td>\n",
       "      <td>7.80</td>\n",
       "      <td>0.86</td>\n",
       "      <td>3.45</td>\n",
       "      <td>1480</td>\n",
       "      <td>1</td>\n",
       "    </tr>\n",
       "    <tr>\n",
       "      <th>4</th>\n",
       "      <td>13.24</td>\n",
       "      <td>2.59</td>\n",
       "      <td>2.87</td>\n",
       "      <td>21.0</td>\n",
       "      <td>118</td>\n",
       "      <td>2.80</td>\n",
       "      <td>2.69</td>\n",
       "      <td>0.39</td>\n",
       "      <td>1.82</td>\n",
       "      <td>4.32</td>\n",
       "      <td>1.04</td>\n",
       "      <td>2.93</td>\n",
       "      <td>735</td>\n",
       "      <td>0</td>\n",
       "    </tr>\n",
       "  </tbody>\n",
       "</table>\n",
       "</div>"
      ],
      "text/plain": [
       "   Alcohol  Malic_Acid   Ash  Ash_Alcanity  Magnesium  Total_Phenols  \\\n",
       "0    14.23        1.71  2.43          15.6        127           2.80   \n",
       "1    13.20        1.78  2.14          11.2        100           2.65   \n",
       "2    13.16        2.36  2.67          18.6        101           2.80   \n",
       "3    14.37        1.95  2.50          16.8        113           3.85   \n",
       "4    13.24        2.59  2.87          21.0        118           2.80   \n",
       "\n",
       "   Flavanoids  Nonflavanoid_Phenols  Proanthocyanins  Color_Intensity   Hue  \\\n",
       "0        3.06                  0.28             2.29             5.64  1.04   \n",
       "1        2.76                  0.26             1.28             4.38  1.05   \n",
       "2        3.24                  0.30             2.81             5.68  1.03   \n",
       "3        3.49                  0.24             2.18             7.80  0.86   \n",
       "4        2.69                  0.39             1.82             4.32  1.04   \n",
       "\n",
       "   OD280  Proline  Clusters  \n",
       "0   3.92     1065         1  \n",
       "1   3.40     1050         1  \n",
       "2   3.17     1185         1  \n",
       "3   3.45     1480         1  \n",
       "4   2.93      735         0  "
      ]
     },
     "execution_count": 19,
     "metadata": {},
     "output_type": "execute_result"
    }
   ],
   "source": [
    "data.head()"
   ]
  },
  {
   "cell_type": "code",
   "execution_count": 20,
   "id": "c9793572",
   "metadata": {
    "execution": {
     "iopub.execute_input": "2023-12-05T08:59:41.849513Z",
     "iopub.status.busy": "2023-12-05T08:59:41.849055Z",
     "iopub.status.idle": "2023-12-05T08:59:41.862392Z",
     "shell.execute_reply": "2023-12-05T08:59:41.860868Z"
    },
    "papermill": {
     "duration": 0.031256,
     "end_time": "2023-12-05T08:59:41.865453",
     "exception": false,
     "start_time": "2023-12-05T08:59:41.834197",
     "status": "completed"
    },
    "tags": []
   },
   "outputs": [],
   "source": [
    "c_center = km2.cluster_centers_\n",
    "data2 = data.copy()\n",
    "data2 = data2[['Malic_Acid', 'Proline', 'Clusters']]\n",
    "data0 = data2[data2['Clusters'] == 0]\n",
    "data1 = data2[data2['Clusters'] == 1]\n",
    "data2 = data2[data2['Clusters'] == 2]"
   ]
  },
  {
   "cell_type": "code",
   "execution_count": 21,
   "id": "e6cfb5ee",
   "metadata": {
    "execution": {
     "iopub.execute_input": "2023-12-05T08:59:41.894305Z",
     "iopub.status.busy": "2023-12-05T08:59:41.893086Z",
     "iopub.status.idle": "2023-12-05T08:59:42.484820Z",
     "shell.execute_reply": "2023-12-05T08:59:42.483267Z"
    },
    "papermill": {
     "duration": 0.609645,
     "end_time": "2023-12-05T08:59:42.488082",
     "exception": false,
     "start_time": "2023-12-05T08:59:41.878437",
     "status": "completed"
    },
    "tags": []
   },
   "outputs": [
    {
     "data": {
      "text/plain": [
       "<matplotlib.legend.Legend at 0x7ce6574f55d0>"
      ]
     },
     "execution_count": 21,
     "metadata": {},
     "output_type": "execute_result"
    },
    {
     "data": {
      "image/png": "[encoded data removed]",
      "text/plain": [
       "<Figure size 800x800 with 1 Axes>"
      ]
     },
     "metadata": {},
     "output_type": "display_data"
    }
   ],
   "source": [
    "plt.figure(figsize=(8,8))\n",
    "plt.title('Scatter plot of Malic acid and proline')\n",
    "plt.xlabel('Malic Acid')\n",
    "plt.ylabel('Proline')\n",
    "plt.scatter(data0.Malic_Acid,data0.Proline,color='red',label='centroid0')\n",
    "plt.scatter(data1.Malic_Acid,data1.Proline,color='blue',label='centroid1')\n",
    "plt.scatter(data2.Malic_Acid,data2.Proline,color='y',label='centroid2')\n",
    "plt.scatter(c_center[:,0] , c_center[:,1], color='black', label='centroids')\n",
    "plt.legend()"
   ]
  },
  {
   "cell_type": "code",
   "execution_count": null,
   "id": "454778f9",
   "metadata": {
    "papermill": {
     "duration": 0.015505,
     "end_time": "2023-12-05T08:59:42.525009",
     "exception": false,
     "start_time": "2023-12-05T08:59:42.509504",
     "status": "completed"
    },
    "tags": []
   },
   "outputs": [],
   "source": []
  }
 ],
 "metadata": {
  "kaggle": {
   "accelerator": "none",
   "dataSources": [
    {
     "datasetId": 626341,
     "sourceId": 1116242,
     "sourceType": "datasetVersion"
    }
   ],
   "dockerImageVersionId": 30587,
   "isGpuEnabled": false,
   "isInternetEnabled": true,
   "language": "python",
   "sourceType": "notebook"
  },
  "kernelspec": {
   "display_name": "Python 3",
   "language": "python",
   "name": "python3"
  },
  "language_info": {
   "codemirror_mode": {
    "name": "ipython",
    "version": 3
   },
   "file_extension": ".py",
   "mimetype": "text/x-python",
   "name": "python",
   "nbconvert_exporter": "python",
   "pygments_lexer": "ipython3",
   "version": "3.10.12"
  },
  "papermill": {
   "default_parameters": {},
   "duration": 29.632095,
   "end_time": "2023-12-05T08:59:43.463614",
   "environment_variables": {},
   "exception": null,
   "input_path": "__notebook__.ipynb",
   "output_path": "__notebook__.ipynb",
   "parameters": {},
   "start_time": "2023-12-05T08:59:13.831519",
   "version": "2.4.0"
  }
 },
 "nbformat": 4,
 "nbformat_minor": 5
}
