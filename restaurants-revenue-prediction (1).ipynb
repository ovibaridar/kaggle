{
 "cells": [
  {
   "cell_type": "code",
   "execution_count": 1,
   "id": "a67a10a2",
   "metadata": {
    "_cell_guid": "b1076dfc-b9ad-4769-8c92-a6c4dae69d19",
    "_uuid": "8f2839f25d086af736a60e9eeb907d3b93b6e0e5",
    "execution": {
     "iopub.execute_input": "2024-01-18T10:14:04.739580Z",
     "iopub.status.busy": "2024-01-18T10:14:04.738857Z",
     "iopub.status.idle": "2024-01-18T10:14:05.196934Z",
     "shell.execute_reply": "2024-01-18T10:14:05.195670Z"
    },
    "papermill": {
     "duration": 0.473845,
     "end_time": "2024-01-18T10:14:05.200181",
     "exception": false,
     "start_time": "2024-01-18T10:14:04.726336",
     "status": "completed"
    },
    "tags": []
   },
   "outputs": [
    {
     "name": "stdout",
     "output_type": "stream",
     "text": [
      "/kaggle/input/restaurants-revenue-prediction/Restaurant_revenue (1).csv\n"
     ]
    }
   ],
   "source": [
    "# This Python 3 environment comes with many helpful analytics libraries installed\n",
    "# It is defined by the kaggle/python Docker image: https://github.com/kaggle/docker-python\n",
    "# For example, here's several helpful packages to load\n",
    "\n",
    "import numpy as np # linear algebra\n",
    "import pandas as pd # data processing, CSV file I/O (e.g. pd.read_csv)\n",
    "\n",
    "# Input data files are available in the read-only \"../input/\" directory\n",
    "# For example, running this (by clicking run or pressing Shift+Enter) will list all files under the input directory\n",
    "\n",
    "import os\n",
    "for dirname, _, filenames in os.walk('/kaggle/input'):\n",
    "    for filename in filenames:\n",
    "        print(os.path.join(dirname, filename))\n",
    "\n",
    "# You can write up to 20GB to the current directory (/kaggle/working/) that gets preserved as output when you create a version using \"Save & Run All\" \n",
    "# You can also write temporary files to /kaggle/temp/, but they won't be saved outside of the current session"
   ]
  },
  {
   "cell_type": "code",
   "execution_count": 2,
   "id": "ba202d37",
   "metadata": {
    "execution": {
     "iopub.execute_input": "2024-01-18T10:14:05.223978Z",
     "iopub.status.busy": "2024-01-18T10:14:05.222599Z",
     "iopub.status.idle": "2024-01-18T10:14:06.685352Z",
     "shell.execute_reply": "2024-01-18T10:14:06.684234Z"
    },
    "papermill": {
     "duration": 1.477242,
     "end_time": "2024-01-18T10:14:06.688154",
     "exception": false,
     "start_time": "2024-01-18T10:14:05.210912",
     "status": "completed"
    },
    "tags": []
   },
   "outputs": [],
   "source": [
    "import pandas as pd\n",
    "import matplotlib.pyplot as plt\n",
    "import seaborn as sn\n",
    "import numpy as nm"
   ]
  },
  {
   "cell_type": "code",
   "execution_count": 3,
   "id": "16a07863",
   "metadata": {
    "execution": {
     "iopub.execute_input": "2024-01-18T10:14:06.711171Z",
     "iopub.status.busy": "2024-01-18T10:14:06.710662Z",
     "iopub.status.idle": "2024-01-18T10:14:06.716422Z",
     "shell.execute_reply": "2024-01-18T10:14:06.715159Z"
    },
    "papermill": {
     "duration": 0.020305,
     "end_time": "2024-01-18T10:14:06.718921",
     "exception": false,
     "start_time": "2024-01-18T10:14:06.698616",
     "status": "completed"
    },
    "tags": []
   },
   "outputs": [],
   "source": [
    "path = '/kaggle/input/restaurants-revenue-prediction/Restaurant_revenue (1).csv'"
   ]
  },
  {
   "cell_type": "code",
   "execution_count": 4,
   "id": "c3fcfa87",
   "metadata": {
    "execution": {
     "iopub.execute_input": "2024-01-18T10:14:06.742273Z",
     "iopub.status.busy": "2024-01-18T10:14:06.741201Z",
     "iopub.status.idle": "2024-01-18T10:14:06.766822Z",
     "shell.execute_reply": "2024-01-18T10:14:06.765576Z"
    },
    "papermill": {
     "duration": 0.04001,
     "end_time": "2024-01-18T10:14:06.769392",
     "exception": false,
     "start_time": "2024-01-18T10:14:06.729382",
     "status": "completed"
    },
    "tags": []
   },
   "outputs": [],
   "source": [
    "data = pd.read_csv(path)"
   ]
  },
  {
   "cell_type": "code",
   "execution_count": 5,
   "id": "d3b949b3",
   "metadata": {
    "execution": {
     "iopub.execute_input": "2024-01-18T10:14:06.792348Z",
     "iopub.status.busy": "2024-01-18T10:14:06.791276Z",
     "iopub.status.idle": "2024-01-18T10:14:06.820868Z",
     "shell.execute_reply": "2024-01-18T10:14:06.819477Z"
    },
    "papermill": {
     "duration": 0.043529,
     "end_time": "2024-01-18T10:14:06.823375",
     "exception": false,
     "start_time": "2024-01-18T10:14:06.779846",
     "status": "completed"
    },
    "tags": []
   },
   "outputs": [
    {
     "data": {
      "text/html": [
       "<div>\n",
       "<style scoped>\n",
       "    .dataframe tbody tr th:only-of-type {\n",
       "        vertical-align: middle;\n",
       "    }\n",
       "\n",
       "    .dataframe tbody tr th {\n",
       "        vertical-align: top;\n",
       "    }\n",
       "\n",
       "    .dataframe thead th {\n",
       "        text-align: right;\n",
       "    }\n",
       "</style>\n",
       "<table border=\"1\" class=\"dataframe\">\n",
       "  <thead>\n",
       "    <tr style=\"text-align: right;\">\n",
       "      <th></th>\n",
       "      <th>Number_of_Customers</th>\n",
       "      <th>Menu_Price</th>\n",
       "      <th>Marketing_Spend</th>\n",
       "      <th>Cuisine_Type</th>\n",
       "      <th>Average_Customer_Spending</th>\n",
       "      <th>Promotions</th>\n",
       "      <th>Reviews</th>\n",
       "      <th>Monthly_Revenue</th>\n",
       "    </tr>\n",
       "  </thead>\n",
       "  <tbody>\n",
       "    <tr>\n",
       "      <th>0</th>\n",
       "      <td>61</td>\n",
       "      <td>43.117635</td>\n",
       "      <td>12.663793</td>\n",
       "      <td>Japanese</td>\n",
       "      <td>36.236133</td>\n",
       "      <td>0</td>\n",
       "      <td>45</td>\n",
       "      <td>350.912040</td>\n",
       "    </tr>\n",
       "    <tr>\n",
       "      <th>1</th>\n",
       "      <td>24</td>\n",
       "      <td>40.020077</td>\n",
       "      <td>4.577892</td>\n",
       "      <td>Italian</td>\n",
       "      <td>17.952562</td>\n",
       "      <td>0</td>\n",
       "      <td>36</td>\n",
       "      <td>221.319091</td>\n",
       "    </tr>\n",
       "    <tr>\n",
       "      <th>2</th>\n",
       "      <td>81</td>\n",
       "      <td>41.981485</td>\n",
       "      <td>4.652911</td>\n",
       "      <td>Japanese</td>\n",
       "      <td>22.600420</td>\n",
       "      <td>1</td>\n",
       "      <td>91</td>\n",
       "      <td>326.529763</td>\n",
       "    </tr>\n",
       "  </tbody>\n",
       "</table>\n",
       "</div>"
      ],
      "text/plain": [
       "   Number_of_Customers  Menu_Price  Marketing_Spend Cuisine_Type  \\\n",
       "0                   61   43.117635        12.663793     Japanese   \n",
       "1                   24   40.020077         4.577892      Italian   \n",
       "2                   81   41.981485         4.652911     Japanese   \n",
       "\n",
       "   Average_Customer_Spending  Promotions  Reviews  Monthly_Revenue  \n",
       "0                  36.236133           0       45       350.912040  \n",
       "1                  17.952562           0       36       221.319091  \n",
       "2                  22.600420           1       91       326.529763  "
      ]
     },
     "execution_count": 5,
     "metadata": {},
     "output_type": "execute_result"
    }
   ],
   "source": [
    "data.head(3)"
   ]
  },
  {
   "cell_type": "code",
   "execution_count": 6,
   "id": "f2425631",
   "metadata": {
    "execution": {
     "iopub.execute_input": "2024-01-18T10:14:06.846287Z",
     "iopub.status.busy": "2024-01-18T10:14:06.845852Z",
     "iopub.status.idle": "2024-01-18T10:14:06.863817Z",
     "shell.execute_reply": "2024-01-18T10:14:06.862910Z"
    },
    "papermill": {
     "duration": 0.032076,
     "end_time": "2024-01-18T10:14:06.865973",
     "exception": false,
     "start_time": "2024-01-18T10:14:06.833897",
     "status": "completed"
    },
    "tags": []
   },
   "outputs": [
    {
     "data": {
      "text/plain": [
       "0"
      ]
     },
     "execution_count": 6,
     "metadata": {},
     "output_type": "execute_result"
    }
   ],
   "source": [
    "data.duplicated().sum()"
   ]
  },
  {
   "cell_type": "code",
   "execution_count": 7,
   "id": "0edb5808",
   "metadata": {
    "execution": {
     "iopub.execute_input": "2024-01-18T10:14:06.889410Z",
     "iopub.status.busy": "2024-01-18T10:14:06.888626Z",
     "iopub.status.idle": "2024-01-18T10:14:06.897865Z",
     "shell.execute_reply": "2024-01-18T10:14:06.896732Z"
    },
    "papermill": {
     "duration": 0.023586,
     "end_time": "2024-01-18T10:14:06.900325",
     "exception": false,
     "start_time": "2024-01-18T10:14:06.876739",
     "status": "completed"
    },
    "tags": []
   },
   "outputs": [
    {
     "data": {
      "text/plain": [
       "Number_of_Customers          0\n",
       "Menu_Price                   0\n",
       "Marketing_Spend              0\n",
       "Cuisine_Type                 0\n",
       "Average_Customer_Spending    0\n",
       "Promotions                   0\n",
       "Reviews                      0\n",
       "Monthly_Revenue              0\n",
       "dtype: int64"
      ]
     },
     "execution_count": 7,
     "metadata": {},
     "output_type": "execute_result"
    }
   ],
   "source": [
    "data.isnull().sum()"
   ]
  },
  {
   "cell_type": "code",
   "execution_count": 8,
   "id": "56f0c91b",
   "metadata": {
    "execution": {
     "iopub.execute_input": "2024-01-18T10:14:06.924539Z",
     "iopub.status.busy": "2024-01-18T10:14:06.923800Z",
     "iopub.status.idle": "2024-01-18T10:14:06.934634Z",
     "shell.execute_reply": "2024-01-18T10:14:06.933668Z"
    },
    "papermill": {
     "duration": 0.025664,
     "end_time": "2024-01-18T10:14:06.937004",
     "exception": false,
     "start_time": "2024-01-18T10:14:06.911340",
     "status": "completed"
    },
    "tags": []
   },
   "outputs": [],
   "source": [
    "x = data.drop(['Promotions','Cuisine_Type','Monthly_Revenue'] , axis = 1)\n",
    "y = data['Monthly_Revenue']"
   ]
  },
  {
   "cell_type": "code",
   "execution_count": 9,
   "id": "06553502",
   "metadata": {
    "execution": {
     "iopub.execute_input": "2024-01-18T10:14:06.961113Z",
     "iopub.status.busy": "2024-01-18T10:14:06.960303Z",
     "iopub.status.idle": "2024-01-18T10:14:07.219153Z",
     "shell.execute_reply": "2024-01-18T10:14:07.218133Z"
    },
    "papermill": {
     "duration": 0.273947,
     "end_time": "2024-01-18T10:14:07.221917",
     "exception": false,
     "start_time": "2024-01-18T10:14:06.947970",
     "status": "completed"
    },
    "tags": []
   },
   "outputs": [],
   "source": [
    "from sklearn.preprocessing import MinMaxScaler\n",
    "ms = MinMaxScaler()\n",
    "x = ms.fit_transform(x)"
   ]
  },
  {
   "cell_type": "code",
   "execution_count": 10,
   "id": "c795d984",
   "metadata": {
    "execution": {
     "iopub.execute_input": "2024-01-18T10:14:07.245518Z",
     "iopub.status.busy": "2024-01-18T10:14:07.245115Z",
     "iopub.status.idle": "2024-01-18T10:14:07.658739Z",
     "shell.execute_reply": "2024-01-18T10:14:07.657410Z"
    },
    "papermill": {
     "duration": 0.428538,
     "end_time": "2024-01-18T10:14:07.661433",
     "exception": false,
     "start_time": "2024-01-18T10:14:07.232895",
     "status": "completed"
    },
    "tags": []
   },
   "outputs": [
    {
     "data": {
      "text/plain": [
       "<matplotlib.collections.PathCollection at 0x7a2c506bd600>"
      ]
     },
     "execution_count": 10,
     "metadata": {},
     "output_type": "execute_result"
    },
    {
     "data": {
      "image/png": "[encoded data removed]",
      "text/plain": [
       "<Figure size 640x480 with 1 Axes>"
      ]
     },
     "metadata": {},
     "output_type": "display_data"
    }
   ],
   "source": [
    "plt.title(\"Number_of_Customers vs Monthly_Revenue\")\n",
    "plt.xlabel(\"Number_of_Customers\")\n",
    "plt.ylabel(\"Monthly_Revenue\")\n",
    "plt.scatter(data.Number_of_Customers , y)"
   ]
  },
  {
   "cell_type": "code",
   "execution_count": 11,
   "id": "05dd15da",
   "metadata": {
    "execution": {
     "iopub.execute_input": "2024-01-18T10:14:07.689648Z",
     "iopub.status.busy": "2024-01-18T10:14:07.689230Z",
     "iopub.status.idle": "2024-01-18T10:14:07.928526Z",
     "shell.execute_reply": "2024-01-18T10:14:07.927623Z"
    },
    "papermill": {
     "duration": 0.255661,
     "end_time": "2024-01-18T10:14:07.931064",
     "exception": false,
     "start_time": "2024-01-18T10:14:07.675403",
     "status": "completed"
    },
    "tags": []
   },
   "outputs": [],
   "source": [
    "from sklearn.model_selection import train_test_split\n",
    "from sklearn.linear_model import LinearRegression\n",
    "lt = LinearRegression()"
   ]
  },
  {
   "cell_type": "code",
   "execution_count": 12,
   "id": "dfa82d03",
   "metadata": {
    "execution": {
     "iopub.execute_input": "2024-01-18T10:14:07.957168Z",
     "iopub.status.busy": "2024-01-18T10:14:07.956712Z",
     "iopub.status.idle": "2024-01-18T10:14:07.963190Z",
     "shell.execute_reply": "2024-01-18T10:14:07.962020Z"
    },
    "papermill": {
     "duration": 0.022672,
     "end_time": "2024-01-18T10:14:07.965800",
     "exception": false,
     "start_time": "2024-01-18T10:14:07.943128",
     "status": "completed"
    },
    "tags": []
   },
   "outputs": [],
   "source": [
    "xtrain,xtest,ytrain,ytest = train_test_split(x,y ,random_state = 41 , test_size = .30)"
   ]
  },
  {
   "cell_type": "code",
   "execution_count": 13,
   "id": "066f3984",
   "metadata": {
    "execution": {
     "iopub.execute_input": "2024-01-18T10:14:07.991790Z",
     "iopub.status.busy": "2024-01-18T10:14:07.991367Z",
     "iopub.status.idle": "2024-01-18T10:14:08.023217Z",
     "shell.execute_reply": "2024-01-18T10:14:08.022023Z"
    },
    "papermill": {
     "duration": 0.048025,
     "end_time": "2024-01-18T10:14:08.026027",
     "exception": false,
     "start_time": "2024-01-18T10:14:07.978002",
     "status": "completed"
    },
    "tags": []
   },
   "outputs": [
    {
     "data": {
      "text/html": [
       "<style>#sk-container-id-1 {color: black;background-color: white;}#sk-container-id-1 pre{padding: 0;}#sk-container-id-1 div.sk-toggleable {background-color: white;}#sk-container-id-1 label.sk-toggleable__label {cursor: pointer;display: block;width: 100%;margin-bottom: 0;padding: 0.3em;box-sizing: border-box;text-align: center;}#sk-container-id-1 label.sk-toggleable__label-arrow:before {content: \"▸\";float: left;margin-right: 0.25em;color: #696969;}#sk-container-id-1 label.sk-toggleable__label-arrow:hover:before {color: black;}#sk-container-id-1 div.sk-estimator:hover label.sk-toggleable__label-arrow:before {color: black;}#sk-container-id-1 div.sk-toggleable__content {max-height: 0;max-width: 0;overflow: hidden;text-align: left;background-color: #f0f8ff;}#sk-container-id-1 div.sk-toggleable__content pre {margin: 0.2em;color: black;border-radius: 0.25em;background-color: #f0f8ff;}#sk-container-id-1 input.sk-toggleable__control:checked~div.sk-toggleable__content {max-height: 200px;max-width: 100%;overflow: auto;}#sk-container-id-1 input.sk-toggleable__control:checked~label.sk-toggleable__label-arrow:before {content: \"▾\";}#sk-container-id-1 div.sk-estimator input.sk-toggleable__control:checked~label.sk-toggleable__label {background-color: #d4ebff;}#sk-container-id-1 div.sk-label input.sk-toggleable__control:checked~label.sk-toggleable__label {background-color: #d4ebff;}#sk-container-id-1 input.sk-hidden--visually {border: 0;clip: rect(1px 1px 1px 1px);clip: rect(1px, 1px, 1px, 1px);height: 1px;margin: -1px;overflow: hidden;padding: 0;position: absolute;width: 1px;}#sk-container-id-1 div.sk-estimator {font-family: monospace;background-color: #f0f8ff;border: 1px dotted black;border-radius: 0.25em;box-sizing: border-box;margin-bottom: 0.5em;}#sk-container-id-1 div.sk-estimator:hover {background-color: #d4ebff;}#sk-container-id-1 div.sk-parallel-item::after {content: \"\";width: 100%;border-bottom: 1px solid gray;flex-grow: 1;}#sk-container-id-1 div.sk-label:hover label.sk-toggleable__label {background-color: #d4ebff;}#sk-container-id-1 div.sk-serial::before {content: \"\";position: absolute;border-left: 1px solid gray;box-sizing: border-box;top: 0;bottom: 0;left: 50%;z-index: 0;}#sk-container-id-1 div.sk-serial {display: flex;flex-direction: column;align-items: center;background-color: white;padding-right: 0.2em;padding-left: 0.2em;position: relative;}#sk-container-id-1 div.sk-item {position: relative;z-index: 1;}#sk-container-id-1 div.sk-parallel {display: flex;align-items: stretch;justify-content: center;background-color: white;position: relative;}#sk-container-id-1 div.sk-item::before, #sk-container-id-1 div.sk-parallel-item::before {content: \"\";position: absolute;border-left: 1px solid gray;box-sizing: border-box;top: 0;bottom: 0;left: 50%;z-index: -1;}#sk-container-id-1 div.sk-parallel-item {display: flex;flex-direction: column;z-index: 1;position: relative;background-color: white;}#sk-container-id-1 div.sk-parallel-item:first-child::after {align-self: flex-end;width: 50%;}#sk-container-id-1 div.sk-parallel-item:last-child::after {align-self: flex-start;width: 50%;}#sk-container-id-1 div.sk-parallel-item:only-child::after {width: 0;}#sk-container-id-1 div.sk-dashed-wrapped {border: 1px dashed gray;margin: 0 0.4em 0.5em 0.4em;box-sizing: border-box;padding-bottom: 0.4em;background-color: white;}#sk-container-id-1 div.sk-label label {font-family: monospace;font-weight: bold;display: inline-block;line-height: 1.2em;}#sk-container-id-1 div.sk-label-container {text-align: center;}#sk-container-id-1 div.sk-container {/* jupyter's `normalize.less` sets `[hidden] { display: none; }` but bootstrap.min.css set `[hidden] { display: none !important; }` so we also need the `!important` here to be able to override the default hidden behavior on the sphinx rendered scikit-learn.org. See: https://github.com/scikit-learn/scikit-learn/issues/21755 */display: inline-block !important;position: relative;}#sk-container-id-1 div.sk-text-repr-fallback {display: none;}</style><div id=\"sk-container-id-1\" class=\"sk-top-container\"><div class=\"sk-text-repr-fallback\"><pre>LinearRegression()</pre><b>In a Jupyter environment, please rerun this cell to show the HTML representation or trust the notebook. <br />On GitHub, the HTML representation is unable to render, please try loading this page with nbviewer.org.</b></div><div class=\"sk-container\" hidden><div class=\"sk-item\"><div class=\"sk-estimator sk-toggleable\"><input class=\"sk-toggleable__control sk-hidden--visually\" id=\"sk-estimator-id-1\" type=\"checkbox\" checked><label for=\"sk-estimator-id-1\" class=\"sk-toggleable__label sk-toggleable__label-arrow\">LinearRegression</label><div class=\"sk-toggleable__content\"><pre>LinearRegression()</pre></div></div></div></div></div>"
      ],
      "text/plain": [
       "LinearRegression()"
      ]
     },
     "execution_count": 13,
     "metadata": {},
     "output_type": "execute_result"
    }
   ],
   "source": [
    "lt.fit(xtrain,ytrain)"
   ]
  },
  {
   "cell_type": "code",
   "execution_count": 14,
   "id": "359cef2d",
   "metadata": {
    "execution": {
     "iopub.execute_input": "2024-01-18T10:14:08.052662Z",
     "iopub.status.busy": "2024-01-18T10:14:08.052194Z",
     "iopub.status.idle": "2024-01-18T10:14:08.063213Z",
     "shell.execute_reply": "2024-01-18T10:14:08.062288Z"
    },
    "papermill": {
     "duration": 0.026957,
     "end_time": "2024-01-18T10:14:08.065504",
     "exception": false,
     "start_time": "2024-01-18T10:14:08.038547",
     "status": "completed"
    },
    "tags": []
   },
   "outputs": [
    {
     "data": {
      "text/plain": [
       "0.7022871804281763"
      ]
     },
     "execution_count": 14,
     "metadata": {},
     "output_type": "execute_result"
    }
   ],
   "source": [
    "lt.score(xtrain , ytrain)"
   ]
  },
  {
   "cell_type": "code",
   "execution_count": 15,
   "id": "1ff726b0",
   "metadata": {
    "execution": {
     "iopub.execute_input": "2024-01-18T10:14:08.093694Z",
     "iopub.status.busy": "2024-01-18T10:14:08.093008Z",
     "iopub.status.idle": "2024-01-18T10:14:08.100369Z",
     "shell.execute_reply": "2024-01-18T10:14:08.099506Z"
    },
    "papermill": {
     "duration": 0.024547,
     "end_time": "2024-01-18T10:14:08.102798",
     "exception": false,
     "start_time": "2024-01-18T10:14:08.078251",
     "status": "completed"
    },
    "tags": []
   },
   "outputs": [
    {
     "data": {
      "text/plain": [
       "0.6322001491921558"
      ]
     },
     "execution_count": 15,
     "metadata": {},
     "output_type": "execute_result"
    }
   ],
   "source": [
    "lt.score(xtest, ytest)"
   ]
  },
  {
   "cell_type": "code",
   "execution_count": 16,
   "id": "aa967333",
   "metadata": {
    "execution": {
     "iopub.execute_input": "2024-01-18T10:14:08.131372Z",
     "iopub.status.busy": "2024-01-18T10:14:08.130606Z",
     "iopub.status.idle": "2024-01-18T10:14:08.136611Z",
     "shell.execute_reply": "2024-01-18T10:14:08.135316Z"
    },
    "papermill": {
     "duration": 0.023039,
     "end_time": "2024-01-18T10:14:08.139283",
     "exception": false,
     "start_time": "2024-01-18T10:14:08.116244",
     "status": "completed"
    },
    "tags": []
   },
   "outputs": [],
   "source": [
    "from sklearn.linear_model import Ridge\n",
    "model = Ridge(alpha=1.0)"
   ]
  },
  {
   "cell_type": "code",
   "execution_count": 17,
   "id": "340227e6",
   "metadata": {
    "execution": {
     "iopub.execute_input": "2024-01-18T10:14:08.168559Z",
     "iopub.status.busy": "2024-01-18T10:14:08.167707Z",
     "iopub.status.idle": "2024-01-18T10:14:08.185488Z",
     "shell.execute_reply": "2024-01-18T10:14:08.184331Z"
    },
    "papermill": {
     "duration": 0.035124,
     "end_time": "2024-01-18T10:14:08.188141",
     "exception": false,
     "start_time": "2024-01-18T10:14:08.153017",
     "status": "completed"
    },
    "tags": []
   },
   "outputs": [
    {
     "data": {
      "text/html": [
       "<style>#sk-container-id-2 {color: black;background-color: white;}#sk-container-id-2 pre{padding: 0;}#sk-container-id-2 div.sk-toggleable {background-color: white;}#sk-container-id-2 label.sk-toggleable__label {cursor: pointer;display: block;width: 100%;margin-bottom: 0;padding: 0.3em;box-sizing: border-box;text-align: center;}#sk-container-id-2 label.sk-toggleable__label-arrow:before {content: \"▸\";float: left;margin-right: 0.25em;color: #696969;}#sk-container-id-2 label.sk-toggleable__label-arrow:hover:before {color: black;}#sk-container-id-2 div.sk-estimator:hover label.sk-toggleable__label-arrow:before {color: black;}#sk-container-id-2 div.sk-toggleable__content {max-height: 0;max-width: 0;overflow: hidden;text-align: left;background-color: #f0f8ff;}#sk-container-id-2 div.sk-toggleable__content pre {margin: 0.2em;color: black;border-radius: 0.25em;background-color: #f0f8ff;}#sk-container-id-2 input.sk-toggleable__control:checked~div.sk-toggleable__content {max-height: 200px;max-width: 100%;overflow: auto;}#sk-container-id-2 input.sk-toggleable__control:checked~label.sk-toggleable__label-arrow:before {content: \"▾\";}#sk-container-id-2 div.sk-estimator input.sk-toggleable__control:checked~label.sk-toggleable__label {background-color: #d4ebff;}#sk-container-id-2 div.sk-label input.sk-toggleable__control:checked~label.sk-toggleable__label {background-color: #d4ebff;}#sk-container-id-2 input.sk-hidden--visually {border: 0;clip: rect(1px 1px 1px 1px);clip: rect(1px, 1px, 1px, 1px);height: 1px;margin: -1px;overflow: hidden;padding: 0;position: absolute;width: 1px;}#sk-container-id-2 div.sk-estimator {font-family: monospace;background-color: #f0f8ff;border: 1px dotted black;border-radius: 0.25em;box-sizing: border-box;margin-bottom: 0.5em;}#sk-container-id-2 div.sk-estimator:hover {background-color: #d4ebff;}#sk-container-id-2 div.sk-parallel-item::after {content: \"\";width: 100%;border-bottom: 1px solid gray;flex-grow: 1;}#sk-container-id-2 div.sk-label:hover label.sk-toggleable__label {background-color: #d4ebff;}#sk-container-id-2 div.sk-serial::before {content: \"\";position: absolute;border-left: 1px solid gray;box-sizing: border-box;top: 0;bottom: 0;left: 50%;z-index: 0;}#sk-container-id-2 div.sk-serial {display: flex;flex-direction: column;align-items: center;background-color: white;padding-right: 0.2em;padding-left: 0.2em;position: relative;}#sk-container-id-2 div.sk-item {position: relative;z-index: 1;}#sk-container-id-2 div.sk-parallel {display: flex;align-items: stretch;justify-content: center;background-color: white;position: relative;}#sk-container-id-2 div.sk-item::before, #sk-container-id-2 div.sk-parallel-item::before {content: \"\";position: absolute;border-left: 1px solid gray;box-sizing: border-box;top: 0;bottom: 0;left: 50%;z-index: -1;}#sk-container-id-2 div.sk-parallel-item {display: flex;flex-direction: column;z-index: 1;position: relative;background-color: white;}#sk-container-id-2 div.sk-parallel-item:first-child::after {align-self: flex-end;width: 50%;}#sk-container-id-2 div.sk-parallel-item:last-child::after {align-self: flex-start;width: 50%;}#sk-container-id-2 div.sk-parallel-item:only-child::after {width: 0;}#sk-container-id-2 div.sk-dashed-wrapped {border: 1px dashed gray;margin: 0 0.4em 0.5em 0.4em;box-sizing: border-box;padding-bottom: 0.4em;background-color: white;}#sk-container-id-2 div.sk-label label {font-family: monospace;font-weight: bold;display: inline-block;line-height: 1.2em;}#sk-container-id-2 div.sk-label-container {text-align: center;}#sk-container-id-2 div.sk-container {/* jupyter's `normalize.less` sets `[hidden] { display: none; }` but bootstrap.min.css set `[hidden] { display: none !important; }` so we also need the `!important` here to be able to override the default hidden behavior on the sphinx rendered scikit-learn.org. See: https://github.com/scikit-learn/scikit-learn/issues/21755 */display: inline-block !important;position: relative;}#sk-container-id-2 div.sk-text-repr-fallback {display: none;}</style><div id=\"sk-container-id-2\" class=\"sk-top-container\"><div class=\"sk-text-repr-fallback\"><pre>Ridge()</pre><b>In a Jupyter environment, please rerun this cell to show the HTML representation or trust the notebook. <br />On GitHub, the HTML representation is unable to render, please try loading this page with nbviewer.org.</b></div><div class=\"sk-container\" hidden><div class=\"sk-item\"><div class=\"sk-estimator sk-toggleable\"><input class=\"sk-toggleable__control sk-hidden--visually\" id=\"sk-estimator-id-2\" type=\"checkbox\" checked><label for=\"sk-estimator-id-2\" class=\"sk-toggleable__label sk-toggleable__label-arrow\">Ridge</label><div class=\"sk-toggleable__content\"><pre>Ridge()</pre></div></div></div></div></div>"
      ],
      "text/plain": [
       "Ridge()"
      ]
     },
     "execution_count": 17,
     "metadata": {},
     "output_type": "execute_result"
    }
   ],
   "source": [
    "model.fit(xtrain,ytrain)"
   ]
  },
  {
   "cell_type": "code",
   "execution_count": 18,
   "id": "ad51f733",
   "metadata": {
    "execution": {
     "iopub.execute_input": "2024-01-18T10:14:08.216466Z",
     "iopub.status.busy": "2024-01-18T10:14:08.215909Z",
     "iopub.status.idle": "2024-01-18T10:14:08.224513Z",
     "shell.execute_reply": "2024-01-18T10:14:08.223411Z"
    },
    "papermill": {
     "duration": 0.025631,
     "end_time": "2024-01-18T10:14:08.227071",
     "exception": false,
     "start_time": "2024-01-18T10:14:08.201440",
     "status": "completed"
    },
    "tags": []
   },
   "outputs": [
    {
     "data": {
      "text/plain": [
       "0.7021230857713896"
      ]
     },
     "execution_count": 18,
     "metadata": {},
     "output_type": "execute_result"
    }
   ],
   "source": [
    "model.score(xtrain,ytrain)"
   ]
  },
  {
   "cell_type": "code",
   "execution_count": 19,
   "id": "85962b56",
   "metadata": {
    "execution": {
     "iopub.execute_input": "2024-01-18T10:14:08.255868Z",
     "iopub.status.busy": "2024-01-18T10:14:08.255077Z",
     "iopub.status.idle": "2024-01-18T10:14:08.263472Z",
     "shell.execute_reply": "2024-01-18T10:14:08.262414Z"
    },
    "papermill": {
     "duration": 0.025568,
     "end_time": "2024-01-18T10:14:08.265831",
     "exception": false,
     "start_time": "2024-01-18T10:14:08.240263",
     "status": "completed"
    },
    "tags": []
   },
   "outputs": [
    {
     "data": {
      "text/plain": [
       "0.6333262522905585"
      ]
     },
     "execution_count": 19,
     "metadata": {},
     "output_type": "execute_result"
    }
   ],
   "source": [
    "model.score(xtest, ytest)"
   ]
  },
  {
   "cell_type": "code",
   "execution_count": 20,
   "id": "14195cc5",
   "metadata": {
    "execution": {
     "iopub.execute_input": "2024-01-18T10:14:08.294818Z",
     "iopub.status.busy": "2024-01-18T10:14:08.293605Z",
     "iopub.status.idle": "2024-01-18T10:14:08.477098Z",
     "shell.execute_reply": "2024-01-18T10:14:08.475791Z"
    },
    "papermill": {
     "duration": 0.200993,
     "end_time": "2024-01-18T10:14:08.480153",
     "exception": false,
     "start_time": "2024-01-18T10:14:08.279160",
     "status": "completed"
    },
    "tags": []
   },
   "outputs": [],
   "source": [
    "from sklearn.ensemble import RandomForestRegressor\n",
    "rf = RandomForestRegressor()"
   ]
  },
  {
   "cell_type": "code",
   "execution_count": 21,
   "id": "46a67a7c",
   "metadata": {
    "execution": {
     "iopub.execute_input": "2024-01-18T10:14:08.510203Z",
     "iopub.status.busy": "2024-01-18T10:14:08.509751Z",
     "iopub.status.idle": "2024-01-18T10:14:08.929666Z",
     "shell.execute_reply": "2024-01-18T10:14:08.928565Z"
    },
    "papermill": {
     "duration": 0.438062,
     "end_time": "2024-01-18T10:14:08.932291",
     "exception": false,
     "start_time": "2024-01-18T10:14:08.494229",
     "status": "completed"
    },
    "tags": []
   },
   "outputs": [
    {
     "data": {
      "text/html": [
       "<style>#sk-container-id-3 {color: black;background-color: white;}#sk-container-id-3 pre{padding: 0;}#sk-container-id-3 div.sk-toggleable {background-color: white;}#sk-container-id-3 label.sk-toggleable__label {cursor: pointer;display: block;width: 100%;margin-bottom: 0;padding: 0.3em;box-sizing: border-box;text-align: center;}#sk-container-id-3 label.sk-toggleable__label-arrow:before {content: \"▸\";float: left;margin-right: 0.25em;color: #696969;}#sk-container-id-3 label.sk-toggleable__label-arrow:hover:before {color: black;}#sk-container-id-3 div.sk-estimator:hover label.sk-toggleable__label-arrow:before {color: black;}#sk-container-id-3 div.sk-toggleable__content {max-height: 0;max-width: 0;overflow: hidden;text-align: left;background-color: #f0f8ff;}#sk-container-id-3 div.sk-toggleable__content pre {margin: 0.2em;color: black;border-radius: 0.25em;background-color: #f0f8ff;}#sk-container-id-3 input.sk-toggleable__control:checked~div.sk-toggleable__content {max-height: 200px;max-width: 100%;overflow: auto;}#sk-container-id-3 input.sk-toggleable__control:checked~label.sk-toggleable__label-arrow:before {content: \"▾\";}#sk-container-id-3 div.sk-estimator input.sk-toggleable__control:checked~label.sk-toggleable__label {background-color: #d4ebff;}#sk-container-id-3 div.sk-label input.sk-toggleable__control:checked~label.sk-toggleable__label {background-color: #d4ebff;}#sk-container-id-3 input.sk-hidden--visually {border: 0;clip: rect(1px 1px 1px 1px);clip: rect(1px, 1px, 1px, 1px);height: 1px;margin: -1px;overflow: hidden;padding: 0;position: absolute;width: 1px;}#sk-container-id-3 div.sk-estimator {font-family: monospace;background-color: #f0f8ff;border: 1px dotted black;border-radius: 0.25em;box-sizing: border-box;margin-bottom: 0.5em;}#sk-container-id-3 div.sk-estimator:hover {background-color: #d4ebff;}#sk-container-id-3 div.sk-parallel-item::after {content: \"\";width: 100%;border-bottom: 1px solid gray;flex-grow: 1;}#sk-container-id-3 div.sk-label:hover label.sk-toggleable__label {background-color: #d4ebff;}#sk-container-id-3 div.sk-serial::before {content: \"\";position: absolute;border-left: 1px solid gray;box-sizing: border-box;top: 0;bottom: 0;left: 50%;z-index: 0;}#sk-container-id-3 div.sk-serial {display: flex;flex-direction: column;align-items: center;background-color: white;padding-right: 0.2em;padding-left: 0.2em;position: relative;}#sk-container-id-3 div.sk-item {position: relative;z-index: 1;}#sk-container-id-3 div.sk-parallel {display: flex;align-items: stretch;justify-content: center;background-color: white;position: relative;}#sk-container-id-3 div.sk-item::before, #sk-container-id-3 div.sk-parallel-item::before {content: \"\";position: absolute;border-left: 1px solid gray;box-sizing: border-box;top: 0;bottom: 0;left: 50%;z-index: -1;}#sk-container-id-3 div.sk-parallel-item {display: flex;flex-direction: column;z-index: 1;position: relative;background-color: white;}#sk-container-id-3 div.sk-parallel-item:first-child::after {align-self: flex-end;width: 50%;}#sk-container-id-3 div.sk-parallel-item:last-child::after {align-self: flex-start;width: 50%;}#sk-container-id-3 div.sk-parallel-item:only-child::after {width: 0;}#sk-container-id-3 div.sk-dashed-wrapped {border: 1px dashed gray;margin: 0 0.4em 0.5em 0.4em;box-sizing: border-box;padding-bottom: 0.4em;background-color: white;}#sk-container-id-3 div.sk-label label {font-family: monospace;font-weight: bold;display: inline-block;line-height: 1.2em;}#sk-container-id-3 div.sk-label-container {text-align: center;}#sk-container-id-3 div.sk-container {/* jupyter's `normalize.less` sets `[hidden] { display: none; }` but bootstrap.min.css set `[hidden] { display: none !important; }` so we also need the `!important` here to be able to override the default hidden behavior on the sphinx rendered scikit-learn.org. See: https://github.com/scikit-learn/scikit-learn/issues/21755 */display: inline-block !important;position: relative;}#sk-container-id-3 div.sk-text-repr-fallback {display: none;}</style><div id=\"sk-container-id-3\" class=\"sk-top-container\"><div class=\"sk-text-repr-fallback\"><pre>RandomForestRegressor()</pre><b>In a Jupyter environment, please rerun this cell to show the HTML representation or trust the notebook. <br />On GitHub, the HTML representation is unable to render, please try loading this page with nbviewer.org.</b></div><div class=\"sk-container\" hidden><div class=\"sk-item\"><div class=\"sk-estimator sk-toggleable\"><input class=\"sk-toggleable__control sk-hidden--visually\" id=\"sk-estimator-id-3\" type=\"checkbox\" checked><label for=\"sk-estimator-id-3\" class=\"sk-toggleable__label sk-toggleable__label-arrow\">RandomForestRegressor</label><div class=\"sk-toggleable__content\"><pre>RandomForestRegressor()</pre></div></div></div></div></div>"
      ],
      "text/plain": [
       "RandomForestRegressor()"
      ]
     },
     "execution_count": 21,
     "metadata": {},
     "output_type": "execute_result"
    }
   ],
   "source": [
    "rf.fit(xtrain,ytrain)"
   ]
  },
  {
   "cell_type": "code",
   "execution_count": 22,
   "id": "2ebc1315",
   "metadata": {
    "execution": {
     "iopub.execute_input": "2024-01-18T10:14:08.962187Z",
     "iopub.status.busy": "2024-01-18T10:14:08.961078Z",
     "iopub.status.idle": "2024-01-18T10:14:08.985950Z",
     "shell.execute_reply": "2024-01-18T10:14:08.984731Z"
    },
    "papermill": {
     "duration": 0.042434,
     "end_time": "2024-01-18T10:14:08.988563",
     "exception": false,
     "start_time": "2024-01-18T10:14:08.946129",
     "status": "completed"
    },
    "tags": []
   },
   "outputs": [
    {
     "data": {
      "text/plain": [
       "0.9544375675818981"
      ]
     },
     "execution_count": 22,
     "metadata": {},
     "output_type": "execute_result"
    }
   ],
   "source": [
    "rf.score(xtrain,ytrain)"
   ]
  },
  {
   "cell_type": "code",
   "execution_count": 23,
   "id": "e294ef5f",
   "metadata": {
    "execution": {
     "iopub.execute_input": "2024-01-18T10:14:09.020051Z",
     "iopub.status.busy": "2024-01-18T10:14:09.019367Z",
     "iopub.status.idle": "2024-01-18T10:14:09.037433Z",
     "shell.execute_reply": "2024-01-18T10:14:09.036612Z"
    },
    "papermill": {
     "duration": 0.037295,
     "end_time": "2024-01-18T10:14:09.039844",
     "exception": false,
     "start_time": "2024-01-18T10:14:09.002549",
     "status": "completed"
    },
    "tags": []
   },
   "outputs": [
    {
     "data": {
      "text/plain": [
       "0.5802380240084397"
      ]
     },
     "execution_count": 23,
     "metadata": {},
     "output_type": "execute_result"
    }
   ],
   "source": [
    "rf.score(xtest,ytest)"
   ]
  },
  {
   "cell_type": "code",
   "execution_count": 24,
   "id": "38ebb061",
   "metadata": {
    "execution": {
     "iopub.execute_input": "2024-01-18T10:14:09.069842Z",
     "iopub.status.busy": "2024-01-18T10:14:09.069413Z",
     "iopub.status.idle": "2024-01-18T10:14:09.083003Z",
     "shell.execute_reply": "2024-01-18T10:14:09.082006Z"
    },
    "papermill": {
     "duration": 0.031139,
     "end_time": "2024-01-18T10:14:09.085204",
     "exception": false,
     "start_time": "2024-01-18T10:14:09.054065",
     "status": "completed"
    },
    "tags": []
   },
   "outputs": [
    {
     "data": {
      "text/html": [
       "<style>#sk-container-id-4 {color: black;background-color: white;}#sk-container-id-4 pre{padding: 0;}#sk-container-id-4 div.sk-toggleable {background-color: white;}#sk-container-id-4 label.sk-toggleable__label {cursor: pointer;display: block;width: 100%;margin-bottom: 0;padding: 0.3em;box-sizing: border-box;text-align: center;}#sk-container-id-4 label.sk-toggleable__label-arrow:before {content: \"▸\";float: left;margin-right: 0.25em;color: #696969;}#sk-container-id-4 label.sk-toggleable__label-arrow:hover:before {color: black;}#sk-container-id-4 div.sk-estimator:hover label.sk-toggleable__label-arrow:before {color: black;}#sk-container-id-4 div.sk-toggleable__content {max-height: 0;max-width: 0;overflow: hidden;text-align: left;background-color: #f0f8ff;}#sk-container-id-4 div.sk-toggleable__content pre {margin: 0.2em;color: black;border-radius: 0.25em;background-color: #f0f8ff;}#sk-container-id-4 input.sk-toggleable__control:checked~div.sk-toggleable__content {max-height: 200px;max-width: 100%;overflow: auto;}#sk-container-id-4 input.sk-toggleable__control:checked~label.sk-toggleable__label-arrow:before {content: \"▾\";}#sk-container-id-4 div.sk-estimator input.sk-toggleable__control:checked~label.sk-toggleable__label {background-color: #d4ebff;}#sk-container-id-4 div.sk-label input.sk-toggleable__control:checked~label.sk-toggleable__label {background-color: #d4ebff;}#sk-container-id-4 input.sk-hidden--visually {border: 0;clip: rect(1px 1px 1px 1px);clip: rect(1px, 1px, 1px, 1px);height: 1px;margin: -1px;overflow: hidden;padding: 0;position: absolute;width: 1px;}#sk-container-id-4 div.sk-estimator {font-family: monospace;background-color: #f0f8ff;border: 1px dotted black;border-radius: 0.25em;box-sizing: border-box;margin-bottom: 0.5em;}#sk-container-id-4 div.sk-estimator:hover {background-color: #d4ebff;}#sk-container-id-4 div.sk-parallel-item::after {content: \"\";width: 100%;border-bottom: 1px solid gray;flex-grow: 1;}#sk-container-id-4 div.sk-label:hover label.sk-toggleable__label {background-color: #d4ebff;}#sk-container-id-4 div.sk-serial::before {content: \"\";position: absolute;border-left: 1px solid gray;box-sizing: border-box;top: 0;bottom: 0;left: 50%;z-index: 0;}#sk-container-id-4 div.sk-serial {display: flex;flex-direction: column;align-items: center;background-color: white;padding-right: 0.2em;padding-left: 0.2em;position: relative;}#sk-container-id-4 div.sk-item {position: relative;z-index: 1;}#sk-container-id-4 div.sk-parallel {display: flex;align-items: stretch;justify-content: center;background-color: white;position: relative;}#sk-container-id-4 div.sk-item::before, #sk-container-id-4 div.sk-parallel-item::before {content: \"\";position: absolute;border-left: 1px solid gray;box-sizing: border-box;top: 0;bottom: 0;left: 50%;z-index: -1;}#sk-container-id-4 div.sk-parallel-item {display: flex;flex-direction: column;z-index: 1;position: relative;background-color: white;}#sk-container-id-4 div.sk-parallel-item:first-child::after {align-self: flex-end;width: 50%;}#sk-container-id-4 div.sk-parallel-item:last-child::after {align-self: flex-start;width: 50%;}#sk-container-id-4 div.sk-parallel-item:only-child::after {width: 0;}#sk-container-id-4 div.sk-dashed-wrapped {border: 1px dashed gray;margin: 0 0.4em 0.5em 0.4em;box-sizing: border-box;padding-bottom: 0.4em;background-color: white;}#sk-container-id-4 div.sk-label label {font-family: monospace;font-weight: bold;display: inline-block;line-height: 1.2em;}#sk-container-id-4 div.sk-label-container {text-align: center;}#sk-container-id-4 div.sk-container {/* jupyter's `normalize.less` sets `[hidden] { display: none; }` but bootstrap.min.css set `[hidden] { display: none !important; }` so we also need the `!important` here to be able to override the default hidden behavior on the sphinx rendered scikit-learn.org. See: https://github.com/scikit-learn/scikit-learn/issues/21755 */display: inline-block !important;position: relative;}#sk-container-id-4 div.sk-text-repr-fallback {display: none;}</style><div id=\"sk-container-id-4\" class=\"sk-top-container\"><div class=\"sk-text-repr-fallback\"><pre>DecisionTreeRegressor()</pre><b>In a Jupyter environment, please rerun this cell to show the HTML representation or trust the notebook. <br />On GitHub, the HTML representation is unable to render, please try loading this page with nbviewer.org.</b></div><div class=\"sk-container\" hidden><div class=\"sk-item\"><div class=\"sk-estimator sk-toggleable\"><input class=\"sk-toggleable__control sk-hidden--visually\" id=\"sk-estimator-id-4\" type=\"checkbox\" checked><label for=\"sk-estimator-id-4\" class=\"sk-toggleable__label sk-toggleable__label-arrow\">DecisionTreeRegressor</label><div class=\"sk-toggleable__content\"><pre>DecisionTreeRegressor()</pre></div></div></div></div></div>"
      ],
      "text/plain": [
       "DecisionTreeRegressor()"
      ]
     },
     "execution_count": 24,
     "metadata": {},
     "output_type": "execute_result"
    }
   ],
   "source": [
    "from sklearn.tree import DecisionTreeRegressor\n",
    "dtr = DecisionTreeRegressor()\n",
    "dtr.fit(xtrain,ytrain)"
   ]
  },
  {
   "cell_type": "code",
   "execution_count": 25,
   "id": "3f8c1af0",
   "metadata": {
    "execution": {
     "iopub.execute_input": "2024-01-18T10:14:09.115660Z",
     "iopub.status.busy": "2024-01-18T10:14:09.114860Z",
     "iopub.status.idle": "2024-01-18T10:14:09.123258Z",
     "shell.execute_reply": "2024-01-18T10:14:09.121860Z"
    },
    "papermill": {
     "duration": 0.026563,
     "end_time": "2024-01-18T10:14:09.125712",
     "exception": false,
     "start_time": "2024-01-18T10:14:09.099149",
     "status": "completed"
    },
    "tags": []
   },
   "outputs": [
    {
     "data": {
      "text/plain": [
       "1.0"
      ]
     },
     "execution_count": 25,
     "metadata": {},
     "output_type": "execute_result"
    }
   ],
   "source": [
    "dtr.score(xtrain , ytrain)"
   ]
  },
  {
   "cell_type": "code",
   "execution_count": 26,
   "id": "23da1413",
   "metadata": {
    "execution": {
     "iopub.execute_input": "2024-01-18T10:14:09.155757Z",
     "iopub.status.busy": "2024-01-18T10:14:09.155322Z",
     "iopub.status.idle": "2024-01-18T10:14:09.164664Z",
     "shell.execute_reply": "2024-01-18T10:14:09.163456Z"
    },
    "papermill": {
     "duration": 0.027599,
     "end_time": "2024-01-18T10:14:09.167301",
     "exception": false,
     "start_time": "2024-01-18T10:14:09.139702",
     "status": "completed"
    },
    "tags": []
   },
   "outputs": [
    {
     "data": {
      "text/plain": [
       "0.18608321556895102"
      ]
     },
     "execution_count": 26,
     "metadata": {},
     "output_type": "execute_result"
    }
   ],
   "source": [
    "dtr.score(xtest , ytest)"
   ]
  },
  {
   "cell_type": "code",
   "execution_count": 27,
   "id": "02e04175",
   "metadata": {
    "execution": {
     "iopub.execute_input": "2024-01-18T10:14:09.261385Z",
     "iopub.status.busy": "2024-01-18T10:14:09.260553Z",
     "iopub.status.idle": "2024-01-18T10:14:09.277637Z",
     "shell.execute_reply": "2024-01-18T10:14:09.276667Z"
    },
    "papermill": {
     "duration": 0.098277,
     "end_time": "2024-01-18T10:14:09.280096",
     "exception": false,
     "start_time": "2024-01-18T10:14:09.181819",
     "status": "completed"
    },
    "tags": []
   },
   "outputs": [
    {
     "data": {
      "text/html": [
       "<style>#sk-container-id-5 {color: black;background-color: white;}#sk-container-id-5 pre{padding: 0;}#sk-container-id-5 div.sk-toggleable {background-color: white;}#sk-container-id-5 label.sk-toggleable__label {cursor: pointer;display: block;width: 100%;margin-bottom: 0;padding: 0.3em;box-sizing: border-box;text-align: center;}#sk-container-id-5 label.sk-toggleable__label-arrow:before {content: \"▸\";float: left;margin-right: 0.25em;color: #696969;}#sk-container-id-5 label.sk-toggleable__label-arrow:hover:before {color: black;}#sk-container-id-5 div.sk-estimator:hover label.sk-toggleable__label-arrow:before {color: black;}#sk-container-id-5 div.sk-toggleable__content {max-height: 0;max-width: 0;overflow: hidden;text-align: left;background-color: #f0f8ff;}#sk-container-id-5 div.sk-toggleable__content pre {margin: 0.2em;color: black;border-radius: 0.25em;background-color: #f0f8ff;}#sk-container-id-5 input.sk-toggleable__control:checked~div.sk-toggleable__content {max-height: 200px;max-width: 100%;overflow: auto;}#sk-container-id-5 input.sk-toggleable__control:checked~label.sk-toggleable__label-arrow:before {content: \"▾\";}#sk-container-id-5 div.sk-estimator input.sk-toggleable__control:checked~label.sk-toggleable__label {background-color: #d4ebff;}#sk-container-id-5 div.sk-label input.sk-toggleable__control:checked~label.sk-toggleable__label {background-color: #d4ebff;}#sk-container-id-5 input.sk-hidden--visually {border: 0;clip: rect(1px 1px 1px 1px);clip: rect(1px, 1px, 1px, 1px);height: 1px;margin: -1px;overflow: hidden;padding: 0;position: absolute;width: 1px;}#sk-container-id-5 div.sk-estimator {font-family: monospace;background-color: #f0f8ff;border: 1px dotted black;border-radius: 0.25em;box-sizing: border-box;margin-bottom: 0.5em;}#sk-container-id-5 div.sk-estimator:hover {background-color: #d4ebff;}#sk-container-id-5 div.sk-parallel-item::after {content: \"\";width: 100%;border-bottom: 1px solid gray;flex-grow: 1;}#sk-container-id-5 div.sk-label:hover label.sk-toggleable__label {background-color: #d4ebff;}#sk-container-id-5 div.sk-serial::before {content: \"\";position: absolute;border-left: 1px solid gray;box-sizing: border-box;top: 0;bottom: 0;left: 50%;z-index: 0;}#sk-container-id-5 div.sk-serial {display: flex;flex-direction: column;align-items: center;background-color: white;padding-right: 0.2em;padding-left: 0.2em;position: relative;}#sk-container-id-5 div.sk-item {position: relative;z-index: 1;}#sk-container-id-5 div.sk-parallel {display: flex;align-items: stretch;justify-content: center;background-color: white;position: relative;}#sk-container-id-5 div.sk-item::before, #sk-container-id-5 div.sk-parallel-item::before {content: \"\";position: absolute;border-left: 1px solid gray;box-sizing: border-box;top: 0;bottom: 0;left: 50%;z-index: -1;}#sk-container-id-5 div.sk-parallel-item {display: flex;flex-direction: column;z-index: 1;position: relative;background-color: white;}#sk-container-id-5 div.sk-parallel-item:first-child::after {align-self: flex-end;width: 50%;}#sk-container-id-5 div.sk-parallel-item:last-child::after {align-self: flex-start;width: 50%;}#sk-container-id-5 div.sk-parallel-item:only-child::after {width: 0;}#sk-container-id-5 div.sk-dashed-wrapped {border: 1px dashed gray;margin: 0 0.4em 0.5em 0.4em;box-sizing: border-box;padding-bottom: 0.4em;background-color: white;}#sk-container-id-5 div.sk-label label {font-family: monospace;font-weight: bold;display: inline-block;line-height: 1.2em;}#sk-container-id-5 div.sk-label-container {text-align: center;}#sk-container-id-5 div.sk-container {/* jupyter's `normalize.less` sets `[hidden] { display: none; }` but bootstrap.min.css set `[hidden] { display: none !important; }` so we also need the `!important` here to be able to override the default hidden behavior on the sphinx rendered scikit-learn.org. See: https://github.com/scikit-learn/scikit-learn/issues/21755 */display: inline-block !important;position: relative;}#sk-container-id-5 div.sk-text-repr-fallback {display: none;}</style><div id=\"sk-container-id-5\" class=\"sk-top-container\"><div class=\"sk-text-repr-fallback\"><pre>SVR(kernel=&#x27;linear&#x27;)</pre><b>In a Jupyter environment, please rerun this cell to show the HTML representation or trust the notebook. <br />On GitHub, the HTML representation is unable to render, please try loading this page with nbviewer.org.</b></div><div class=\"sk-container\" hidden><div class=\"sk-item\"><div class=\"sk-estimator sk-toggleable\"><input class=\"sk-toggleable__control sk-hidden--visually\" id=\"sk-estimator-id-5\" type=\"checkbox\" checked><label for=\"sk-estimator-id-5\" class=\"sk-toggleable__label sk-toggleable__label-arrow\">SVR</label><div class=\"sk-toggleable__content\"><pre>SVR(kernel=&#x27;linear&#x27;)</pre></div></div></div></div></div>"
      ],
      "text/plain": [
       "SVR(kernel='linear')"
      ]
     },
     "execution_count": 27,
     "metadata": {},
     "output_type": "execute_result"
    }
   ],
   "source": [
    "from sklearn.svm import SVR\n",
    "svr = SVR(kernel='linear')\n",
    "svr.fit(xtest, ytest)"
   ]
  },
  {
   "cell_type": "code",
   "execution_count": 28,
   "id": "f831ff69",
   "metadata": {
    "execution": {
     "iopub.execute_input": "2024-01-18T10:14:09.313547Z",
     "iopub.status.busy": "2024-01-18T10:14:09.312093Z",
     "iopub.status.idle": "2024-01-18T10:14:09.326072Z",
     "shell.execute_reply": "2024-01-18T10:14:09.324775Z"
    },
    "papermill": {
     "duration": 0.03317,
     "end_time": "2024-01-18T10:14:09.328583",
     "exception": false,
     "start_time": "2024-01-18T10:14:09.295413",
     "status": "completed"
    },
    "tags": []
   },
   "outputs": [
    {
     "data": {
      "text/plain": [
       "0.2106761784778296"
      ]
     },
     "execution_count": 28,
     "metadata": {},
     "output_type": "execute_result"
    }
   ],
   "source": [
    "svr.score(xtrain , ytrain)"
   ]
  },
  {
   "cell_type": "code",
   "execution_count": 29,
   "id": "6b2e8969",
   "metadata": {
    "execution": {
     "iopub.execute_input": "2024-01-18T10:14:09.359826Z",
     "iopub.status.busy": "2024-01-18T10:14:09.359284Z",
     "iopub.status.idle": "2024-01-18T10:14:09.371514Z",
     "shell.execute_reply": "2024-01-18T10:14:09.370194Z"
    },
    "papermill": {
     "duration": 0.030642,
     "end_time": "2024-01-18T10:14:09.373914",
     "exception": false,
     "start_time": "2024-01-18T10:14:09.343272",
     "status": "completed"
    },
    "tags": []
   },
   "outputs": [
    {
     "data": {
      "text/plain": [
       "0.20475575322998063"
      ]
     },
     "execution_count": 29,
     "metadata": {},
     "output_type": "execute_result"
    }
   ],
   "source": [
    "svr.score(xtest , ytest)"
   ]
  },
  {
   "cell_type": "code",
   "execution_count": 30,
   "id": "34a1ec0d",
   "metadata": {
    "execution": {
     "iopub.execute_input": "2024-01-18T10:14:09.406729Z",
     "iopub.status.busy": "2024-01-18T10:14:09.406013Z",
     "iopub.status.idle": "2024-01-18T10:14:09.411617Z",
     "shell.execute_reply": "2024-01-18T10:14:09.410620Z"
    },
    "papermill": {
     "duration": 0.025364,
     "end_time": "2024-01-18T10:14:09.414290",
     "exception": false,
     "start_time": "2024-01-18T10:14:09.388926",
     "status": "completed"
    },
    "tags": []
   },
   "outputs": [],
   "source": [
    "model = ['LinearRegression' ,'Ridge','RandomForestRegressor','DecisionTreeRegressor','SVR']\n",
    "train_score = [0.7022871804281763,0.7022871803050015,0.9524336973950563,1.0,0.695188176415068]\n",
    "test_score = [0.6322001491921558,0.6321999235641533,0.5830891769294765,0.22185000914491004,0.6315546673274995]"
   ]
  },
  {
   "cell_type": "code",
   "execution_count": 31,
   "id": "b3b5366b",
   "metadata": {
    "execution": {
     "iopub.execute_input": "2024-01-18T10:14:09.447674Z",
     "iopub.status.busy": "2024-01-18T10:14:09.446957Z",
     "iopub.status.idle": "2024-01-18T10:14:09.899748Z",
     "shell.execute_reply": "2024-01-18T10:14:09.898586Z"
    },
    "papermill": {
     "duration": 0.472156,
     "end_time": "2024-01-18T10:14:09.902416",
     "exception": false,
     "start_time": "2024-01-18T10:14:09.430260",
     "status": "completed"
    },
    "tags": []
   },
   "outputs": [
    {
     "data": {
      "text/plain": [
       "<matplotlib.legend.Legend at 0x7a2c45e81b40>"
      ]
     },
     "execution_count": 31,
     "metadata": {},
     "output_type": "execute_result"
    },
    {
     "data": {
      "image/png": "[encoded data removed]",
      "text/plain": [
       "<Figure size 1000x600 with 1 Axes>"
      ]
     },
     "metadata": {},
     "output_type": "display_data"
    }
   ],
   "source": [
    "plt.figure(figsize=(10, 6))\n",
    "plt.title('Model train score vs test score')\n",
    "plt.xlabel(\"models\")\n",
    "plt.ylabel('Train and Test sccore')\n",
    "plt.scatter(model , train_score , label = 'Train Score', color = 'g')\n",
    "plt.scatter(model , test_score , label = 'Test Score', color = 'r')\n",
    "plt.legend(loc='upper left')"
   ]
  }
 ],
 "metadata": {
  "kaggle": {
   "accelerator": "none",
   "dataSources": [
    {
     "datasetId": 4317518,
     "sourceId": 7420974,
     "sourceType": "datasetVersion"
    }
   ],
   "dockerImageVersionId": 30635,
   "isGpuEnabled": false,
   "isInternetEnabled": true,
   "language": "python",
   "sourceType": "notebook"
  },
  "kernelspec": {
   "display_name": "Python 3",
   "language": "python",
   "name": "python3"
  },
  "language_info": {
   "codemirror_mode": {
    "name": "ipython",
    "version": 3
   },
   "file_extension": ".py",
   "mimetype": "text/x-python",
   "name": "python",
   "nbconvert_exporter": "python",
   "pygments_lexer": "ipython3",
   "version": "3.10.12"
  },
  "papermill": {
   "default_parameters": {},
   "duration": 9.53073,
   "end_time": "2024-01-18T10:14:10.641485",
   "environment_variables": {},
   "exception": null,
   "input_path": "__notebook__.ipynb",
   "output_path": "__notebook__.ipynb",
   "parameters": {},
   "start_time": "2024-01-18T10:14:01.110755",
   "version": "2.4.0"
  }
 },
 "nbformat": 4,
 "nbformat_minor": 5
}
