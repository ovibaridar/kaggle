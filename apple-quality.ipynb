{
 "cells": [
  {
   "cell_type": "code",
   "execution_count": 1,
   "id": "e4aaf2e8",
   "metadata": {
    "execution": {
     "iopub.execute_input": "2024-01-18T15:34:09.523469Z",
     "iopub.status.busy": "2024-01-18T15:34:09.523003Z",
     "iopub.status.idle": "2024-01-18T15:34:11.842866Z",
     "shell.execute_reply": "2024-01-18T15:34:11.841735Z"
    },
    "papermill": {
     "duration": 2.334486,
     "end_time": "2024-01-18T15:34:11.846543",
     "exception": false,
     "start_time": "2024-01-18T15:34:09.512057",
     "status": "completed"
    },
    "tags": []
   },
   "outputs": [],
   "source": [
    "import pandas as pd\n",
    "import matplotlib.pyplot as plt\n",
    "import numpy as nm\n",
    "import seaborn as sn"
   ]
  },
  {
   "cell_type": "code",
   "execution_count": 2,
   "id": "7a9aadbf",
   "metadata": {
    "execution": {
     "iopub.execute_input": "2024-01-18T15:34:11.875821Z",
     "iopub.status.busy": "2024-01-18T15:34:11.874702Z",
     "iopub.status.idle": "2024-01-18T15:34:11.880467Z",
     "shell.execute_reply": "2024-01-18T15:34:11.879191Z"
    },
    "papermill": {
     "duration": 0.021524,
     "end_time": "2024-01-18T15:34:11.883303",
     "exception": false,
     "start_time": "2024-01-18T15:34:11.861779",
     "status": "completed"
    },
    "tags": []
   },
   "outputs": [],
   "source": [
    "path = \"/kaggle/input/apple-quality/apple_quality.csv\""
   ]
  },
  {
   "cell_type": "code",
   "execution_count": 3,
   "id": "6f65dbe6",
   "metadata": {
    "execution": {
     "iopub.execute_input": "2024-01-18T15:34:11.903186Z",
     "iopub.status.busy": "2024-01-18T15:34:11.902282Z",
     "iopub.status.idle": "2024-01-18T15:34:11.943456Z",
     "shell.execute_reply": "2024-01-18T15:34:11.941736Z"
    },
    "papermill": {
     "duration": 0.055263,
     "end_time": "2024-01-18T15:34:11.946829",
     "exception": false,
     "start_time": "2024-01-18T15:34:11.891566",
     "status": "completed"
    },
    "tags": []
   },
   "outputs": [],
   "source": [
    "data = pd.read_csv(path)"
   ]
  },
  {
   "cell_type": "code",
   "execution_count": 4,
   "id": "863c8147",
   "metadata": {
    "execution": {
     "iopub.execute_input": "2024-01-18T15:34:11.973440Z",
     "iopub.status.busy": "2024-01-18T15:34:11.972277Z",
     "iopub.status.idle": "2024-01-18T15:34:12.008534Z",
     "shell.execute_reply": "2024-01-18T15:34:12.007503Z"
    },
    "papermill": {
     "duration": 0.051367,
     "end_time": "2024-01-18T15:34:12.011017",
     "exception": false,
     "start_time": "2024-01-18T15:34:11.959650",
     "status": "completed"
    },
    "tags": []
   },
   "outputs": [
    {
     "data": {
      "text/html": [
       "<div>\n",
       "<style scoped>\n",
       "    .dataframe tbody tr th:only-of-type {\n",
       "        vertical-align: middle;\n",
       "    }\n",
       "\n",
       "    .dataframe tbody tr th {\n",
       "        vertical-align: top;\n",
       "    }\n",
       "\n",
       "    .dataframe thead th {\n",
       "        text-align: right;\n",
       "    }\n",
       "</style>\n",
       "<table border=\"1\" class=\"dataframe\">\n",
       "  <thead>\n",
       "    <tr style=\"text-align: right;\">\n",
       "      <th></th>\n",
       "      <th>A_id</th>\n",
       "      <th>Size</th>\n",
       "      <th>Weight</th>\n",
       "      <th>Sweetness</th>\n",
       "      <th>Crunchiness</th>\n",
       "      <th>Juiciness</th>\n",
       "      <th>Ripeness</th>\n",
       "      <th>Acidity</th>\n",
       "      <th>Quality</th>\n",
       "    </tr>\n",
       "  </thead>\n",
       "  <tbody>\n",
       "    <tr>\n",
       "      <th>0</th>\n",
       "      <td>0.0</td>\n",
       "      <td>-3.970049</td>\n",
       "      <td>-2.512336</td>\n",
       "      <td>5.346330</td>\n",
       "      <td>-1.012009</td>\n",
       "      <td>1.844900</td>\n",
       "      <td>0.329840</td>\n",
       "      <td>-0.491590483</td>\n",
       "      <td>good</td>\n",
       "    </tr>\n",
       "    <tr>\n",
       "      <th>1</th>\n",
       "      <td>1.0</td>\n",
       "      <td>-1.195217</td>\n",
       "      <td>-2.839257</td>\n",
       "      <td>3.664059</td>\n",
       "      <td>1.588232</td>\n",
       "      <td>0.853286</td>\n",
       "      <td>0.867530</td>\n",
       "      <td>-0.722809367</td>\n",
       "      <td>good</td>\n",
       "    </tr>\n",
       "    <tr>\n",
       "      <th>2</th>\n",
       "      <td>2.0</td>\n",
       "      <td>-0.292024</td>\n",
       "      <td>-1.351282</td>\n",
       "      <td>-1.738429</td>\n",
       "      <td>-0.342616</td>\n",
       "      <td>2.838636</td>\n",
       "      <td>-0.038033</td>\n",
       "      <td>2.621636473</td>\n",
       "      <td>bad</td>\n",
       "    </tr>\n",
       "  </tbody>\n",
       "</table>\n",
       "</div>"
      ],
      "text/plain": [
       "   A_id      Size    Weight  Sweetness  Crunchiness  Juiciness  Ripeness  \\\n",
       "0   0.0 -3.970049 -2.512336   5.346330    -1.012009   1.844900  0.329840   \n",
       "1   1.0 -1.195217 -2.839257   3.664059     1.588232   0.853286  0.867530   \n",
       "2   2.0 -0.292024 -1.351282  -1.738429    -0.342616   2.838636 -0.038033   \n",
       "\n",
       "        Acidity Quality  \n",
       "0  -0.491590483    good  \n",
       "1  -0.722809367    good  \n",
       "2   2.621636473     bad  "
      ]
     },
     "execution_count": 4,
     "metadata": {},
     "output_type": "execute_result"
    }
   ],
   "source": [
    "data.head(3)"
   ]
  },
  {
   "cell_type": "code",
   "execution_count": 5,
   "id": "15475422",
   "metadata": {
    "execution": {
     "iopub.execute_input": "2024-01-18T15:34:12.031157Z",
     "iopub.status.busy": "2024-01-18T15:34:12.029999Z",
     "iopub.status.idle": "2024-01-18T15:34:12.052067Z",
     "shell.execute_reply": "2024-01-18T15:34:12.050843Z"
    },
    "papermill": {
     "duration": 0.034991,
     "end_time": "2024-01-18T15:34:12.054549",
     "exception": false,
     "start_time": "2024-01-18T15:34:12.019558",
     "status": "completed"
    },
    "tags": []
   },
   "outputs": [
    {
     "data": {
      "text/plain": [
       "0"
      ]
     },
     "execution_count": 5,
     "metadata": {},
     "output_type": "execute_result"
    }
   ],
   "source": [
    "data.duplicated().sum()"
   ]
  },
  {
   "cell_type": "code",
   "execution_count": 6,
   "id": "4c737726",
   "metadata": {
    "execution": {
     "iopub.execute_input": "2024-01-18T15:34:12.074179Z",
     "iopub.status.busy": "2024-01-18T15:34:12.073332Z",
     "iopub.status.idle": "2024-01-18T15:34:12.083760Z",
     "shell.execute_reply": "2024-01-18T15:34:12.082482Z"
    },
    "papermill": {
     "duration": 0.023558,
     "end_time": "2024-01-18T15:34:12.086449",
     "exception": false,
     "start_time": "2024-01-18T15:34:12.062891",
     "status": "completed"
    },
    "tags": []
   },
   "outputs": [
    {
     "data": {
      "text/plain": [
       "A_id           1\n",
       "Size           1\n",
       "Weight         1\n",
       "Sweetness      1\n",
       "Crunchiness    1\n",
       "Juiciness      1\n",
       "Ripeness       1\n",
       "Acidity        0\n",
       "Quality        1\n",
       "dtype: int64"
      ]
     },
     "execution_count": 6,
     "metadata": {},
     "output_type": "execute_result"
    }
   ],
   "source": [
    "data.isnull().sum()"
   ]
  },
  {
   "cell_type": "code",
   "execution_count": 7,
   "id": "feb32172",
   "metadata": {
    "execution": {
     "iopub.execute_input": "2024-01-18T15:34:12.109845Z",
     "iopub.status.busy": "2024-01-18T15:34:12.108018Z",
     "iopub.status.idle": "2024-01-18T15:34:12.396276Z",
     "shell.execute_reply": "2024-01-18T15:34:12.394926Z"
    },
    "papermill": {
     "duration": 0.303904,
     "end_time": "2024-01-18T15:34:12.399117",
     "exception": false,
     "start_time": "2024-01-18T15:34:12.095213",
     "status": "completed"
    },
    "tags": []
   },
   "outputs": [],
   "source": [
    "from sklearn.preprocessing import LabelEncoder\n",
    "le =LabelEncoder()"
   ]
  },
  {
   "cell_type": "code",
   "execution_count": 8,
   "id": "f20c73d0",
   "metadata": {
    "execution": {
     "iopub.execute_input": "2024-01-18T15:34:12.418914Z",
     "iopub.status.busy": "2024-01-18T15:34:12.417916Z",
     "iopub.status.idle": "2024-01-18T15:34:12.426397Z",
     "shell.execute_reply": "2024-01-18T15:34:12.425423Z"
    },
    "papermill": {
     "duration": 0.020847,
     "end_time": "2024-01-18T15:34:12.428572",
     "exception": false,
     "start_time": "2024-01-18T15:34:12.407725",
     "status": "completed"
    },
    "tags": []
   },
   "outputs": [],
   "source": [
    "data['Quality'] = le.fit_transform(data['Quality'])"
   ]
  },
  {
   "cell_type": "code",
   "execution_count": 9,
   "id": "abe1aacc",
   "metadata": {
    "execution": {
     "iopub.execute_input": "2024-01-18T15:34:12.449229Z",
     "iopub.status.busy": "2024-01-18T15:34:12.448536Z",
     "iopub.status.idle": "2024-01-18T15:34:12.457707Z",
     "shell.execute_reply": "2024-01-18T15:34:12.456603Z"
    },
    "papermill": {
     "duration": 0.023325,
     "end_time": "2024-01-18T15:34:12.460818",
     "exception": false,
     "start_time": "2024-01-18T15:34:12.437493",
     "status": "completed"
    },
    "tags": []
   },
   "outputs": [],
   "source": [
    "for col in data.columns:\n",
    "    if data[col].dtype != 'object':\n",
    "        # For numeric columns, fill missing values with the mean\n",
    "        data[col].fillna(data[col].mean(), inplace=True)"
   ]
  },
  {
   "cell_type": "code",
   "execution_count": 10,
   "id": "be9c1d8a",
   "metadata": {
    "execution": {
     "iopub.execute_input": "2024-01-18T15:34:12.482947Z",
     "iopub.status.busy": "2024-01-18T15:34:12.482221Z",
     "iopub.status.idle": "2024-01-18T15:34:12.498419Z",
     "shell.execute_reply": "2024-01-18T15:34:12.497187Z"
    },
    "papermill": {
     "duration": 0.030043,
     "end_time": "2024-01-18T15:34:12.500978",
     "exception": false,
     "start_time": "2024-01-18T15:34:12.470935",
     "status": "completed"
    },
    "tags": []
   },
   "outputs": [
    {
     "data": {
      "text/html": [
       "<div>\n",
       "<style scoped>\n",
       "    .dataframe tbody tr th:only-of-type {\n",
       "        vertical-align: middle;\n",
       "    }\n",
       "\n",
       "    .dataframe tbody tr th {\n",
       "        vertical-align: top;\n",
       "    }\n",
       "\n",
       "    .dataframe thead th {\n",
       "        text-align: right;\n",
       "    }\n",
       "</style>\n",
       "<table border=\"1\" class=\"dataframe\">\n",
       "  <thead>\n",
       "    <tr style=\"text-align: right;\">\n",
       "      <th></th>\n",
       "      <th>A_id</th>\n",
       "      <th>Size</th>\n",
       "      <th>Weight</th>\n",
       "      <th>Sweetness</th>\n",
       "      <th>Crunchiness</th>\n",
       "      <th>Juiciness</th>\n",
       "      <th>Ripeness</th>\n",
       "      <th>Acidity</th>\n",
       "      <th>Quality</th>\n",
       "    </tr>\n",
       "  </thead>\n",
       "  <tbody>\n",
       "    <tr>\n",
       "      <th>0</th>\n",
       "      <td>0.0</td>\n",
       "      <td>-3.970049</td>\n",
       "      <td>-2.512336</td>\n",
       "      <td>5.346330</td>\n",
       "      <td>-1.012009</td>\n",
       "      <td>1.844900</td>\n",
       "      <td>0.329840</td>\n",
       "      <td>-0.491590483</td>\n",
       "      <td>1</td>\n",
       "    </tr>\n",
       "    <tr>\n",
       "      <th>1</th>\n",
       "      <td>1.0</td>\n",
       "      <td>-1.195217</td>\n",
       "      <td>-2.839257</td>\n",
       "      <td>3.664059</td>\n",
       "      <td>1.588232</td>\n",
       "      <td>0.853286</td>\n",
       "      <td>0.867530</td>\n",
       "      <td>-0.722809367</td>\n",
       "      <td>1</td>\n",
       "    </tr>\n",
       "    <tr>\n",
       "      <th>2</th>\n",
       "      <td>2.0</td>\n",
       "      <td>-0.292024</td>\n",
       "      <td>-1.351282</td>\n",
       "      <td>-1.738429</td>\n",
       "      <td>-0.342616</td>\n",
       "      <td>2.838636</td>\n",
       "      <td>-0.038033</td>\n",
       "      <td>2.621636473</td>\n",
       "      <td>0</td>\n",
       "    </tr>\n",
       "  </tbody>\n",
       "</table>\n",
       "</div>"
      ],
      "text/plain": [
       "   A_id      Size    Weight  Sweetness  Crunchiness  Juiciness  Ripeness  \\\n",
       "0   0.0 -3.970049 -2.512336   5.346330    -1.012009   1.844900  0.329840   \n",
       "1   1.0 -1.195217 -2.839257   3.664059     1.588232   0.853286  0.867530   \n",
       "2   2.0 -0.292024 -1.351282  -1.738429    -0.342616   2.838636 -0.038033   \n",
       "\n",
       "        Acidity  Quality  \n",
       "0  -0.491590483        1  \n",
       "1  -0.722809367        1  \n",
       "2   2.621636473        0  "
      ]
     },
     "execution_count": 10,
     "metadata": {},
     "output_type": "execute_result"
    }
   ],
   "source": [
    "data.head(3)"
   ]
  },
  {
   "cell_type": "code",
   "execution_count": 11,
   "id": "0e8ecd06",
   "metadata": {
    "execution": {
     "iopub.execute_input": "2024-01-18T15:34:12.520996Z",
     "iopub.status.busy": "2024-01-18T15:34:12.520514Z",
     "iopub.status.idle": "2024-01-18T15:34:12.530716Z",
     "shell.execute_reply": "2024-01-18T15:34:12.529387Z"
    },
    "papermill": {
     "duration": 0.022988,
     "end_time": "2024-01-18T15:34:12.533376",
     "exception": false,
     "start_time": "2024-01-18T15:34:12.510388",
     "status": "completed"
    },
    "tags": []
   },
   "outputs": [
    {
     "data": {
      "text/plain": [
       "A_id           0\n",
       "Size           0\n",
       "Weight         0\n",
       "Sweetness      0\n",
       "Crunchiness    0\n",
       "Juiciness      0\n",
       "Ripeness       0\n",
       "Acidity        0\n",
       "Quality        0\n",
       "dtype: int64"
      ]
     },
     "execution_count": 11,
     "metadata": {},
     "output_type": "execute_result"
    }
   ],
   "source": [
    "data.isnull().sum()"
   ]
  },
  {
   "cell_type": "code",
   "execution_count": 12,
   "id": "f861fc54",
   "metadata": {
    "execution": {
     "iopub.execute_input": "2024-01-18T15:34:12.552997Z",
     "iopub.status.busy": "2024-01-18T15:34:12.552544Z",
     "iopub.status.idle": "2024-01-18T15:34:12.562565Z",
     "shell.execute_reply": "2024-01-18T15:34:12.561276Z"
    },
    "papermill": {
     "duration": 0.022279,
     "end_time": "2024-01-18T15:34:12.564680",
     "exception": false,
     "start_time": "2024-01-18T15:34:12.542401",
     "status": "completed"
    },
    "tags": []
   },
   "outputs": [
    {
     "data": {
      "text/plain": [
       "Quality\n",
       "1    2004\n",
       "0    1996\n",
       "2       1\n",
       "Name: count, dtype: int64"
      ]
     },
     "execution_count": 12,
     "metadata": {},
     "output_type": "execute_result"
    }
   ],
   "source": [
    "data['Quality'].value_counts()"
   ]
  },
  {
   "cell_type": "code",
   "execution_count": 13,
   "id": "ce7a0255",
   "metadata": {
    "execution": {
     "iopub.execute_input": "2024-01-18T15:34:12.585433Z",
     "iopub.status.busy": "2024-01-18T15:34:12.584607Z",
     "iopub.status.idle": "2024-01-18T15:34:12.595822Z",
     "shell.execute_reply": "2024-01-18T15:34:12.594623Z"
    },
    "papermill": {
     "duration": 0.025197,
     "end_time": "2024-01-18T15:34:12.598949",
     "exception": false,
     "start_time": "2024-01-18T15:34:12.573752",
     "status": "completed"
    },
    "tags": []
   },
   "outputs": [],
   "source": [
    "data.drop(data[data['Quality'] == 2].index, inplace=True)"
   ]
  },
  {
   "cell_type": "code",
   "execution_count": 14,
   "id": "ffd8f7dc",
   "metadata": {
    "execution": {
     "iopub.execute_input": "2024-01-18T15:34:12.620193Z",
     "iopub.status.busy": "2024-01-18T15:34:12.619359Z",
     "iopub.status.idle": "2024-01-18T15:34:12.939173Z",
     "shell.execute_reply": "2024-01-18T15:34:12.937647Z"
    },
    "papermill": {
     "duration": 0.337785,
     "end_time": "2024-01-18T15:34:12.946335",
     "exception": false,
     "start_time": "2024-01-18T15:34:12.608550",
     "status": "completed"
    },
    "tags": []
   },
   "outputs": [
    {
     "data": {
      "text/plain": [
       "Text(0.5, 1.0, 'Count of Each Quality Category')"
      ]
     },
     "execution_count": 14,
     "metadata": {},
     "output_type": "execute_result"
    },
    {
     "data": {
      "image/png": "[encoded data removed]",
      "text/plain": [
       "<Figure size 640x480 with 1 Axes>"
      ]
     },
     "metadata": {},
     "output_type": "display_data"
    }
   ],
   "source": [
    "sn.countplot(x='Quality', data=data)\n",
    "plt.title('Count of Each Quality Category')"
   ]
  },
  {
   "cell_type": "code",
   "execution_count": 15,
   "id": "cb581851",
   "metadata": {
    "execution": {
     "iopub.execute_input": "2024-01-18T15:34:12.975636Z",
     "iopub.status.busy": "2024-01-18T15:34:12.974992Z",
     "iopub.status.idle": "2024-01-18T15:34:12.984297Z",
     "shell.execute_reply": "2024-01-18T15:34:12.982244Z"
    },
    "papermill": {
     "duration": 0.027308,
     "end_time": "2024-01-18T15:34:12.986992",
     "exception": false,
     "start_time": "2024-01-18T15:34:12.959684",
     "status": "completed"
    },
    "tags": []
   },
   "outputs": [],
   "source": [
    "x = data.drop(['A_id' , 'Quality'] , axis = 1)\n",
    "y = data['Quality']"
   ]
  },
  {
   "cell_type": "code",
   "execution_count": 16,
   "id": "6becddad",
   "metadata": {
    "execution": {
     "iopub.execute_input": "2024-01-18T15:34:13.013946Z",
     "iopub.status.busy": "2024-01-18T15:34:13.013374Z",
     "iopub.status.idle": "2024-01-18T15:34:13.020990Z",
     "shell.execute_reply": "2024-01-18T15:34:13.019735Z"
    },
    "papermill": {
     "duration": 0.025551,
     "end_time": "2024-01-18T15:34:13.024042",
     "exception": false,
     "start_time": "2024-01-18T15:34:12.998491",
     "status": "completed"
    },
    "tags": []
   },
   "outputs": [
    {
     "data": {
      "text/plain": [
       "(4000, 7)"
      ]
     },
     "execution_count": 16,
     "metadata": {},
     "output_type": "execute_result"
    }
   ],
   "source": [
    "x.shape"
   ]
  },
  {
   "cell_type": "code",
   "execution_count": 17,
   "id": "7daca2a9",
   "metadata": {
    "execution": {
     "iopub.execute_input": "2024-01-18T15:34:13.054352Z",
     "iopub.status.busy": "2024-01-18T15:34:13.053472Z",
     "iopub.status.idle": "2024-01-18T15:34:13.061094Z",
     "shell.execute_reply": "2024-01-18T15:34:13.060044Z"
    },
    "papermill": {
     "duration": 0.025256,
     "end_time": "2024-01-18T15:34:13.063658",
     "exception": false,
     "start_time": "2024-01-18T15:34:13.038402",
     "status": "completed"
    },
    "tags": []
   },
   "outputs": [
    {
     "data": {
      "text/plain": [
       "(4000,)"
      ]
     },
     "execution_count": 17,
     "metadata": {},
     "output_type": "execute_result"
    }
   ],
   "source": [
    "y.shape"
   ]
  },
  {
   "cell_type": "code",
   "execution_count": 18,
   "id": "8527d1be",
   "metadata": {
    "execution": {
     "iopub.execute_input": "2024-01-18T15:34:13.091229Z",
     "iopub.status.busy": "2024-01-18T15:34:13.090024Z",
     "iopub.status.idle": "2024-01-18T15:34:13.225532Z",
     "shell.execute_reply": "2024-01-18T15:34:13.224179Z"
    },
    "papermill": {
     "duration": 0.152939,
     "end_time": "2024-01-18T15:34:13.228572",
     "exception": false,
     "start_time": "2024-01-18T15:34:13.075633",
     "status": "completed"
    },
    "tags": []
   },
   "outputs": [],
   "source": [
    "from sklearn.model_selection import train_test_split"
   ]
  },
  {
   "cell_type": "code",
   "execution_count": 19,
   "id": "e4c0f08b",
   "metadata": {
    "execution": {
     "iopub.execute_input": "2024-01-18T15:34:13.250420Z",
     "iopub.status.busy": "2024-01-18T15:34:13.249956Z",
     "iopub.status.idle": "2024-01-18T15:34:13.258599Z",
     "shell.execute_reply": "2024-01-18T15:34:13.257533Z"
    },
    "papermill": {
     "duration": 0.022248,
     "end_time": "2024-01-18T15:34:13.261132",
     "exception": false,
     "start_time": "2024-01-18T15:34:13.238884",
     "status": "completed"
    },
    "tags": []
   },
   "outputs": [],
   "source": [
    "xtrain , xtest , ytrain , ytest = train_test_split(x,y , random_state = 41 , test_size = .30)"
   ]
  },
  {
   "cell_type": "code",
   "execution_count": 20,
   "id": "0d2cac77",
   "metadata": {
    "execution": {
     "iopub.execute_input": "2024-01-18T15:34:13.282846Z",
     "iopub.status.busy": "2024-01-18T15:34:13.282003Z",
     "iopub.status.idle": "2024-01-18T15:34:13.509776Z",
     "shell.execute_reply": "2024-01-18T15:34:13.508078Z"
    },
    "papermill": {
     "duration": 0.241676,
     "end_time": "2024-01-18T15:34:13.512685",
     "exception": false,
     "start_time": "2024-01-18T15:34:13.271009",
     "status": "completed"
    },
    "tags": []
   },
   "outputs": [],
   "source": [
    "from sklearn.tree import DecisionTreeClassifier\n",
    "dt = DecisionTreeClassifier()"
   ]
  },
  {
   "cell_type": "code",
   "execution_count": 21,
   "id": "5921fbef",
   "metadata": {
    "execution": {
     "iopub.execute_input": "2024-01-18T15:34:13.537794Z",
     "iopub.status.busy": "2024-01-18T15:34:13.536920Z",
     "iopub.status.idle": "2024-01-18T15:34:13.583388Z",
     "shell.execute_reply": "2024-01-18T15:34:13.582165Z"
    },
    "papermill": {
     "duration": 0.063407,
     "end_time": "2024-01-18T15:34:13.586674",
     "exception": false,
     "start_time": "2024-01-18T15:34:13.523267",
     "status": "completed"
    },
    "tags": []
   },
   "outputs": [
    {
     "data": {
      "text/html": [
       "<style>#sk-container-id-1 {color: black;background-color: white;}#sk-container-id-1 pre{padding: 0;}#sk-container-id-1 div.sk-toggleable {background-color: white;}#sk-container-id-1 label.sk-toggleable__label {cursor: pointer;display: block;width: 100%;margin-bottom: 0;padding: 0.3em;box-sizing: border-box;text-align: center;}#sk-container-id-1 label.sk-toggleable__label-arrow:before {content: \"▸\";float: left;margin-right: 0.25em;color: #696969;}#sk-container-id-1 label.sk-toggleable__label-arrow:hover:before {color: black;}#sk-container-id-1 div.sk-estimator:hover label.sk-toggleable__label-arrow:before {color: black;}#sk-container-id-1 div.sk-toggleable__content {max-height: 0;max-width: 0;overflow: hidden;text-align: left;background-color: #f0f8ff;}#sk-container-id-1 div.sk-toggleable__content pre {margin: 0.2em;color: black;border-radius: 0.25em;background-color: #f0f8ff;}#sk-container-id-1 input.sk-toggleable__control:checked~div.sk-toggleable__content {max-height: 200px;max-width: 100%;overflow: auto;}#sk-container-id-1 input.sk-toggleable__control:checked~label.sk-toggleable__label-arrow:before {content: \"▾\";}#sk-container-id-1 div.sk-estimator input.sk-toggleable__control:checked~label.sk-toggleable__label {background-color: #d4ebff;}#sk-container-id-1 div.sk-label input.sk-toggleable__control:checked~label.sk-toggleable__label {background-color: #d4ebff;}#sk-container-id-1 input.sk-hidden--visually {border: 0;clip: rect(1px 1px 1px 1px);clip: rect(1px, 1px, 1px, 1px);height: 1px;margin: -1px;overflow: hidden;padding: 0;position: absolute;width: 1px;}#sk-container-id-1 div.sk-estimator {font-family: monospace;background-color: #f0f8ff;border: 1px dotted black;border-radius: 0.25em;box-sizing: border-box;margin-bottom: 0.5em;}#sk-container-id-1 div.sk-estimator:hover {background-color: #d4ebff;}#sk-container-id-1 div.sk-parallel-item::after {content: \"\";width: 100%;border-bottom: 1px solid gray;flex-grow: 1;}#sk-container-id-1 div.sk-label:hover label.sk-toggleable__label {background-color: #d4ebff;}#sk-container-id-1 div.sk-serial::before {content: \"\";position: absolute;border-left: 1px solid gray;box-sizing: border-box;top: 0;bottom: 0;left: 50%;z-index: 0;}#sk-container-id-1 div.sk-serial {display: flex;flex-direction: column;align-items: center;background-color: white;padding-right: 0.2em;padding-left: 0.2em;position: relative;}#sk-container-id-1 div.sk-item {position: relative;z-index: 1;}#sk-container-id-1 div.sk-parallel {display: flex;align-items: stretch;justify-content: center;background-color: white;position: relative;}#sk-container-id-1 div.sk-item::before, #sk-container-id-1 div.sk-parallel-item::before {content: \"\";position: absolute;border-left: 1px solid gray;box-sizing: border-box;top: 0;bottom: 0;left: 50%;z-index: -1;}#sk-container-id-1 div.sk-parallel-item {display: flex;flex-direction: column;z-index: 1;position: relative;background-color: white;}#sk-container-id-1 div.sk-parallel-item:first-child::after {align-self: flex-end;width: 50%;}#sk-container-id-1 div.sk-parallel-item:last-child::after {align-self: flex-start;width: 50%;}#sk-container-id-1 div.sk-parallel-item:only-child::after {width: 0;}#sk-container-id-1 div.sk-dashed-wrapped {border: 1px dashed gray;margin: 0 0.4em 0.5em 0.4em;box-sizing: border-box;padding-bottom: 0.4em;background-color: white;}#sk-container-id-1 div.sk-label label {font-family: monospace;font-weight: bold;display: inline-block;line-height: 1.2em;}#sk-container-id-1 div.sk-label-container {text-align: center;}#sk-container-id-1 div.sk-container {/* jupyter's `normalize.less` sets `[hidden] { display: none; }` but bootstrap.min.css set `[hidden] { display: none !important; }` so we also need the `!important` here to be able to override the default hidden behavior on the sphinx rendered scikit-learn.org. See: https://github.com/scikit-learn/scikit-learn/issues/21755 */display: inline-block !important;position: relative;}#sk-container-id-1 div.sk-text-repr-fallback {display: none;}</style><div id=\"sk-container-id-1\" class=\"sk-top-container\"><div class=\"sk-text-repr-fallback\"><pre>DecisionTreeClassifier()</pre><b>In a Jupyter environment, please rerun this cell to show the HTML representation or trust the notebook. <br />On GitHub, the HTML representation is unable to render, please try loading this page with nbviewer.org.</b></div><div class=\"sk-container\" hidden><div class=\"sk-item\"><div class=\"sk-estimator sk-toggleable\"><input class=\"sk-toggleable__control sk-hidden--visually\" id=\"sk-estimator-id-1\" type=\"checkbox\" checked><label for=\"sk-estimator-id-1\" class=\"sk-toggleable__label sk-toggleable__label-arrow\">DecisionTreeClassifier</label><div class=\"sk-toggleable__content\"><pre>DecisionTreeClassifier()</pre></div></div></div></div></div>"
      ],
      "text/plain": [
       "DecisionTreeClassifier()"
      ]
     },
     "execution_count": 21,
     "metadata": {},
     "output_type": "execute_result"
    }
   ],
   "source": [
    "dt.fit(xtrain , ytrain)"
   ]
  },
  {
   "cell_type": "code",
   "execution_count": 22,
   "id": "ce02d41e",
   "metadata": {
    "execution": {
     "iopub.execute_input": "2024-01-18T15:34:13.612593Z",
     "iopub.status.busy": "2024-01-18T15:34:13.611451Z",
     "iopub.status.idle": "2024-01-18T15:34:13.628396Z",
     "shell.execute_reply": "2024-01-18T15:34:13.627095Z"
    },
    "papermill": {
     "duration": 0.031463,
     "end_time": "2024-01-18T15:34:13.630890",
     "exception": false,
     "start_time": "2024-01-18T15:34:13.599427",
     "status": "completed"
    },
    "tags": []
   },
   "outputs": [
    {
     "data": {
      "text/plain": [
       "1.0"
      ]
     },
     "execution_count": 22,
     "metadata": {},
     "output_type": "execute_result"
    }
   ],
   "source": [
    "dt.score(xtrain ,ytrain)"
   ]
  },
  {
   "cell_type": "code",
   "execution_count": 23,
   "id": "4bb49e6f",
   "metadata": {
    "execution": {
     "iopub.execute_input": "2024-01-18T15:34:13.653172Z",
     "iopub.status.busy": "2024-01-18T15:34:13.652691Z",
     "iopub.status.idle": "2024-01-18T15:34:13.664171Z",
     "shell.execute_reply": "2024-01-18T15:34:13.663160Z"
    },
    "papermill": {
     "duration": 0.025227,
     "end_time": "2024-01-18T15:34:13.666490",
     "exception": false,
     "start_time": "2024-01-18T15:34:13.641263",
     "status": "completed"
    },
    "tags": []
   },
   "outputs": [
    {
     "data": {
      "text/plain": [
       "0.7983333333333333"
      ]
     },
     "execution_count": 23,
     "metadata": {},
     "output_type": "execute_result"
    }
   ],
   "source": [
    "dt.score(xtest,ytest)"
   ]
  },
  {
   "cell_type": "code",
   "execution_count": 24,
   "id": "2ec55142",
   "metadata": {
    "execution": {
     "iopub.execute_input": "2024-01-18T15:34:13.768022Z",
     "iopub.status.busy": "2024-01-18T15:34:13.767295Z",
     "iopub.status.idle": "2024-01-18T15:34:13.771522Z",
     "shell.execute_reply": "2024-01-18T15:34:13.770716Z"
    },
    "papermill": {
     "duration": 0.018536,
     "end_time": "2024-01-18T15:34:13.773570",
     "exception": false,
     "start_time": "2024-01-18T15:34:13.755034",
     "status": "completed"
    },
    "tags": []
   },
   "outputs": [],
   "source": [
    "from sklearn.metrics import classification_report, confusion_matrix"
   ]
  },
  {
   "cell_type": "code",
   "execution_count": 25,
   "id": "dcb01d1a",
   "metadata": {
    "execution": {
     "iopub.execute_input": "2024-01-18T15:34:13.796718Z",
     "iopub.status.busy": "2024-01-18T15:34:13.795811Z",
     "iopub.status.idle": "2024-01-18T15:34:13.814620Z",
     "shell.execute_reply": "2024-01-18T15:34:13.813680Z"
    },
    "papermill": {
     "duration": 0.033301,
     "end_time": "2024-01-18T15:34:13.817289",
     "exception": false,
     "start_time": "2024-01-18T15:34:13.783988",
     "status": "completed"
    },
    "tags": []
   },
   "outputs": [
    {
     "name": "stdout",
     "output_type": "stream",
     "text": [
      "              precision    recall  f1-score   support\n",
      "\n",
      "           0       0.81      0.78      0.80       604\n",
      "           1       0.79      0.81      0.80       596\n",
      "\n",
      "    accuracy                           0.80      1200\n",
      "   macro avg       0.80      0.80      0.80      1200\n",
      "weighted avg       0.80      0.80      0.80      1200\n",
      "\n"
     ]
    }
   ],
   "source": [
    "print(classification_report(ytest , dt.predict(xtest)))"
   ]
  },
  {
   "cell_type": "code",
   "execution_count": 26,
   "id": "9648caea",
   "metadata": {
    "execution": {
     "iopub.execute_input": "2024-01-18T15:34:13.841327Z",
     "iopub.status.busy": "2024-01-18T15:34:13.840229Z",
     "iopub.status.idle": "2024-01-18T15:34:13.853115Z",
     "shell.execute_reply": "2024-01-18T15:34:13.851865Z"
    },
    "papermill": {
     "duration": 0.028187,
     "end_time": "2024-01-18T15:34:13.855898",
     "exception": false,
     "start_time": "2024-01-18T15:34:13.827711",
     "status": "completed"
    },
    "tags": []
   },
   "outputs": [
    {
     "data": {
      "text/plain": [
       "array([[474, 130],\n",
       "       [112, 484]])"
      ]
     },
     "execution_count": 26,
     "metadata": {},
     "output_type": "execute_result"
    }
   ],
   "source": [
    "cm = confusion_matrix(ytest , dt.predict(xtest))\n",
    "cm"
   ]
  },
  {
   "cell_type": "code",
   "execution_count": 27,
   "id": "79d96ee7",
   "metadata": {
    "execution": {
     "iopub.execute_input": "2024-01-18T15:34:13.880234Z",
     "iopub.status.busy": "2024-01-18T15:34:13.879141Z",
     "iopub.status.idle": "2024-01-18T15:34:14.195822Z",
     "shell.execute_reply": "2024-01-18T15:34:14.194883Z"
    },
    "papermill": {
     "duration": 0.33197,
     "end_time": "2024-01-18T15:34:14.198832",
     "exception": false,
     "start_time": "2024-01-18T15:34:13.866862",
     "status": "completed"
    },
    "tags": []
   },
   "outputs": [
    {
     "data": {
      "text/plain": [
       "<Axes: >"
      ]
     },
     "execution_count": 27,
     "metadata": {},
     "output_type": "execute_result"
    },
    {
     "data": {
      "image/png": "[encoded data removed]",
      "text/plain": [
       "<Figure size 640x480 with 2 Axes>"
      ]
     },
     "metadata": {},
     "output_type": "display_data"
    }
   ],
   "source": [
    "sn.heatmap(cm , annot =True ,fmt = '.2f')"
   ]
  },
  {
   "cell_type": "code",
   "execution_count": 28,
   "id": "4e555985",
   "metadata": {
    "execution": {
     "iopub.execute_input": "2024-01-18T15:34:14.227687Z",
     "iopub.status.busy": "2024-01-18T15:34:14.226149Z",
     "iopub.status.idle": "2024-01-18T15:34:14.306840Z",
     "shell.execute_reply": "2024-01-18T15:34:14.305659Z"
    },
    "papermill": {
     "duration": 0.096096,
     "end_time": "2024-01-18T15:34:14.309755",
     "exception": false,
     "start_time": "2024-01-18T15:34:14.213659",
     "status": "completed"
    },
    "tags": []
   },
   "outputs": [],
   "source": [
    "from sklearn.ensemble import RandomForestClassifier\n",
    "rfc = RandomForestClassifier()"
   ]
  },
  {
   "cell_type": "code",
   "execution_count": 29,
   "id": "370d6f87",
   "metadata": {
    "execution": {
     "iopub.execute_input": "2024-01-18T15:34:14.335496Z",
     "iopub.status.busy": "2024-01-18T15:34:14.335053Z",
     "iopub.status.idle": "2024-01-18T15:34:15.031309Z",
     "shell.execute_reply": "2024-01-18T15:34:15.029933Z"
    },
    "papermill": {
     "duration": 0.712371,
     "end_time": "2024-01-18T15:34:15.033941",
     "exception": false,
     "start_time": "2024-01-18T15:34:14.321570",
     "status": "completed"
    },
    "tags": []
   },
   "outputs": [
    {
     "data": {
      "text/html": [
       "<style>#sk-container-id-2 {color: black;background-color: white;}#sk-container-id-2 pre{padding: 0;}#sk-container-id-2 div.sk-toggleable {background-color: white;}#sk-container-id-2 label.sk-toggleable__label {cursor: pointer;display: block;width: 100%;margin-bottom: 0;padding: 0.3em;box-sizing: border-box;text-align: center;}#sk-container-id-2 label.sk-toggleable__label-arrow:before {content: \"▸\";float: left;margin-right: 0.25em;color: #696969;}#sk-container-id-2 label.sk-toggleable__label-arrow:hover:before {color: black;}#sk-container-id-2 div.sk-estimator:hover label.sk-toggleable__label-arrow:before {color: black;}#sk-container-id-2 div.sk-toggleable__content {max-height: 0;max-width: 0;overflow: hidden;text-align: left;background-color: #f0f8ff;}#sk-container-id-2 div.sk-toggleable__content pre {margin: 0.2em;color: black;border-radius: 0.25em;background-color: #f0f8ff;}#sk-container-id-2 input.sk-toggleable__control:checked~div.sk-toggleable__content {max-height: 200px;max-width: 100%;overflow: auto;}#sk-container-id-2 input.sk-toggleable__control:checked~label.sk-toggleable__label-arrow:before {content: \"▾\";}#sk-container-id-2 div.sk-estimator input.sk-toggleable__control:checked~label.sk-toggleable__label {background-color: #d4ebff;}#sk-container-id-2 div.sk-label input.sk-toggleable__control:checked~label.sk-toggleable__label {background-color: #d4ebff;}#sk-container-id-2 input.sk-hidden--visually {border: 0;clip: rect(1px 1px 1px 1px);clip: rect(1px, 1px, 1px, 1px);height: 1px;margin: -1px;overflow: hidden;padding: 0;position: absolute;width: 1px;}#sk-container-id-2 div.sk-estimator {font-family: monospace;background-color: #f0f8ff;border: 1px dotted black;border-radius: 0.25em;box-sizing: border-box;margin-bottom: 0.5em;}#sk-container-id-2 div.sk-estimator:hover {background-color: #d4ebff;}#sk-container-id-2 div.sk-parallel-item::after {content: \"\";width: 100%;border-bottom: 1px solid gray;flex-grow: 1;}#sk-container-id-2 div.sk-label:hover label.sk-toggleable__label {background-color: #d4ebff;}#sk-container-id-2 div.sk-serial::before {content: \"\";position: absolute;border-left: 1px solid gray;box-sizing: border-box;top: 0;bottom: 0;left: 50%;z-index: 0;}#sk-container-id-2 div.sk-serial {display: flex;flex-direction: column;align-items: center;background-color: white;padding-right: 0.2em;padding-left: 0.2em;position: relative;}#sk-container-id-2 div.sk-item {position: relative;z-index: 1;}#sk-container-id-2 div.sk-parallel {display: flex;align-items: stretch;justify-content: center;background-color: white;position: relative;}#sk-container-id-2 div.sk-item::before, #sk-container-id-2 div.sk-parallel-item::before {content: \"\";position: absolute;border-left: 1px solid gray;box-sizing: border-box;top: 0;bottom: 0;left: 50%;z-index: -1;}#sk-container-id-2 div.sk-parallel-item {display: flex;flex-direction: column;z-index: 1;position: relative;background-color: white;}#sk-container-id-2 div.sk-parallel-item:first-child::after {align-self: flex-end;width: 50%;}#sk-container-id-2 div.sk-parallel-item:last-child::after {align-self: flex-start;width: 50%;}#sk-container-id-2 div.sk-parallel-item:only-child::after {width: 0;}#sk-container-id-2 div.sk-dashed-wrapped {border: 1px dashed gray;margin: 0 0.4em 0.5em 0.4em;box-sizing: border-box;padding-bottom: 0.4em;background-color: white;}#sk-container-id-2 div.sk-label label {font-family: monospace;font-weight: bold;display: inline-block;line-height: 1.2em;}#sk-container-id-2 div.sk-label-container {text-align: center;}#sk-container-id-2 div.sk-container {/* jupyter's `normalize.less` sets `[hidden] { display: none; }` but bootstrap.min.css set `[hidden] { display: none !important; }` so we also need the `!important` here to be able to override the default hidden behavior on the sphinx rendered scikit-learn.org. See: https://github.com/scikit-learn/scikit-learn/issues/21755 */display: inline-block !important;position: relative;}#sk-container-id-2 div.sk-text-repr-fallback {display: none;}</style><div id=\"sk-container-id-2\" class=\"sk-top-container\"><div class=\"sk-text-repr-fallback\"><pre>RandomForestClassifier()</pre><b>In a Jupyter environment, please rerun this cell to show the HTML representation or trust the notebook. <br />On GitHub, the HTML representation is unable to render, please try loading this page with nbviewer.org.</b></div><div class=\"sk-container\" hidden><div class=\"sk-item\"><div class=\"sk-estimator sk-toggleable\"><input class=\"sk-toggleable__control sk-hidden--visually\" id=\"sk-estimator-id-2\" type=\"checkbox\" checked><label for=\"sk-estimator-id-2\" class=\"sk-toggleable__label sk-toggleable__label-arrow\">RandomForestClassifier</label><div class=\"sk-toggleable__content\"><pre>RandomForestClassifier()</pre></div></div></div></div></div>"
      ],
      "text/plain": [
       "RandomForestClassifier()"
      ]
     },
     "execution_count": 29,
     "metadata": {},
     "output_type": "execute_result"
    }
   ],
   "source": [
    "rfc.fit(xtrain , ytrain)"
   ]
  },
  {
   "cell_type": "code",
   "execution_count": 30,
   "id": "e29c41d5",
   "metadata": {
    "execution": {
     "iopub.execute_input": "2024-01-18T15:34:15.059011Z",
     "iopub.status.busy": "2024-01-18T15:34:15.058597Z",
     "iopub.status.idle": "2024-01-18T15:34:15.114982Z",
     "shell.execute_reply": "2024-01-18T15:34:15.113649Z"
    },
    "papermill": {
     "duration": 0.072317,
     "end_time": "2024-01-18T15:34:15.117593",
     "exception": false,
     "start_time": "2024-01-18T15:34:15.045276",
     "status": "completed"
    },
    "tags": []
   },
   "outputs": [
    {
     "data": {
      "text/plain": [
       "1.0"
      ]
     },
     "execution_count": 30,
     "metadata": {},
     "output_type": "execute_result"
    }
   ],
   "source": [
    "rfc.score(xtrain , ytrain)"
   ]
  },
  {
   "cell_type": "code",
   "execution_count": 31,
   "id": "6afd642a",
   "metadata": {
    "execution": {
     "iopub.execute_input": "2024-01-18T15:34:15.142619Z",
     "iopub.status.busy": "2024-01-18T15:34:15.142184Z",
     "iopub.status.idle": "2024-01-18T15:34:15.178740Z",
     "shell.execute_reply": "2024-01-18T15:34:15.177909Z"
    },
    "papermill": {
     "duration": 0.052046,
     "end_time": "2024-01-18T15:34:15.181014",
     "exception": false,
     "start_time": "2024-01-18T15:34:15.128968",
     "status": "completed"
    },
    "tags": []
   },
   "outputs": [
    {
     "data": {
      "text/plain": [
       "0.8725"
      ]
     },
     "execution_count": 31,
     "metadata": {},
     "output_type": "execute_result"
    }
   ],
   "source": [
    "rfc.score(xtest , ytest)"
   ]
  },
  {
   "cell_type": "code",
   "execution_count": 32,
   "id": "be265779",
   "metadata": {
    "execution": {
     "iopub.execute_input": "2024-01-18T15:34:15.206820Z",
     "iopub.status.busy": "2024-01-18T15:34:15.206027Z",
     "iopub.status.idle": "2024-01-18T15:34:15.248755Z",
     "shell.execute_reply": "2024-01-18T15:34:15.247294Z"
    },
    "papermill": {
     "duration": 0.058518,
     "end_time": "2024-01-18T15:34:15.251334",
     "exception": false,
     "start_time": "2024-01-18T15:34:15.192816",
     "status": "completed"
    },
    "tags": []
   },
   "outputs": [
    {
     "name": "stdout",
     "output_type": "stream",
     "text": [
      "              precision    recall  f1-score   support\n",
      "\n",
      "           0       0.88      0.86      0.87       604\n",
      "           1       0.86      0.89      0.87       596\n",
      "\n",
      "    accuracy                           0.87      1200\n",
      "   macro avg       0.87      0.87      0.87      1200\n",
      "weighted avg       0.87      0.87      0.87      1200\n",
      "\n"
     ]
    }
   ],
   "source": [
    "print(classification_report(ytest , rfc.predict(xtest)))"
   ]
  },
  {
   "cell_type": "code",
   "execution_count": 33,
   "id": "f88798eb",
   "metadata": {
    "execution": {
     "iopub.execute_input": "2024-01-18T15:34:15.276537Z",
     "iopub.status.busy": "2024-01-18T15:34:15.276079Z",
     "iopub.status.idle": "2024-01-18T15:34:15.311626Z",
     "shell.execute_reply": "2024-01-18T15:34:15.310441Z"
    },
    "papermill": {
     "duration": 0.051346,
     "end_time": "2024-01-18T15:34:15.314226",
     "exception": false,
     "start_time": "2024-01-18T15:34:15.262880",
     "status": "completed"
    },
    "tags": []
   },
   "outputs": [
    {
     "data": {
      "text/plain": [
       "array([[519,  85],\n",
       "       [ 68, 528]])"
      ]
     },
     "execution_count": 33,
     "metadata": {},
     "output_type": "execute_result"
    }
   ],
   "source": [
    "cm = confusion_matrix(ytest , rfc.predict(xtest))\n",
    "cm"
   ]
  },
  {
   "cell_type": "code",
   "execution_count": 34,
   "id": "d00755b4",
   "metadata": {
    "execution": {
     "iopub.execute_input": "2024-01-18T15:34:15.341168Z",
     "iopub.status.busy": "2024-01-18T15:34:15.339795Z",
     "iopub.status.idle": "2024-01-18T15:34:15.612296Z",
     "shell.execute_reply": "2024-01-18T15:34:15.610896Z"
    },
    "papermill": {
     "duration": 0.288443,
     "end_time": "2024-01-18T15:34:15.614993",
     "exception": false,
     "start_time": "2024-01-18T15:34:15.326550",
     "status": "completed"
    },
    "tags": []
   },
   "outputs": [
    {
     "data": {
      "text/plain": [
       "<Axes: >"
      ]
     },
     "execution_count": 34,
     "metadata": {},
     "output_type": "execute_result"
    },
    {
     "data": {
      "image/png": "[encoded data removed]",
      "text/plain": [
       "<Figure size 640x480 with 2 Axes>"
      ]
     },
     "metadata": {},
     "output_type": "display_data"
    }
   ],
   "source": [
    "sn.heatmap(cm , annot =True ,fmt = '.2f')"
   ]
  },
  {
   "cell_type": "code",
   "execution_count": null,
   "id": "a78b0928",
   "metadata": {
    "papermill": {
     "duration": 0.012316,
     "end_time": "2024-01-18T15:34:15.639448",
     "exception": false,
     "start_time": "2024-01-18T15:34:15.627132",
     "status": "completed"
    },
    "tags": []
   },
   "outputs": [],
   "source": []
  }
 ],
 "metadata": {
  "kaggle": {
   "accelerator": "none",
   "dataSources": [
    {
     "datasetId": 4291772,
     "sourceId": 7384155,
     "sourceType": "datasetVersion"
    }
   ],
   "dockerImageVersionId": 30635,
   "isGpuEnabled": false,
   "isInternetEnabled": true,
   "language": "python",
   "sourceType": "notebook"
  },
  "kernelspec": {
   "display_name": "Python 3",
   "language": "python",
   "name": "python3"
  },
  "language_info": {
   "codemirror_mode": {
    "name": "ipython",
    "version": 3
   },
   "file_extension": ".py",
   "mimetype": "text/x-python",
   "name": "python",
   "nbconvert_exporter": "python",
   "pygments_lexer": "ipython3",
   "version": "3.10.12"
  },
  "papermill": {
   "default_parameters": {},
   "duration": 11.377805,
   "end_time": "2024-01-18T15:34:16.475227",
   "environment_variables": {},
   "exception": null,
   "input_path": "__notebook__.ipynb",
   "output_path": "__notebook__.ipynb",
   "parameters": {},
   "start_time": "2024-01-18T15:34:05.097422",
   "version": "2.4.0"
  }
 },
 "nbformat": 4,
 "nbformat_minor": 5
}
