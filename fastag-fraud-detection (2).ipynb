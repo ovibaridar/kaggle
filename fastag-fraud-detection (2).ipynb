{
 "cells": [
  {
   "cell_type": "code",
   "execution_count": 1,
   "id": "6fbef4cc",
   "metadata": {
    "_cell_guid": "b1076dfc-b9ad-4769-8c92-a6c4dae69d19",
    "_uuid": "8f2839f25d086af736a60e9eeb907d3b93b6e0e5",
    "execution": {
     "iopub.execute_input": "2024-01-18T06:59:37.562929Z",
     "iopub.status.busy": "2024-01-18T06:59:37.562563Z",
     "iopub.status.idle": "2024-01-18T06:59:37.894822Z",
     "shell.execute_reply": "2024-01-18T06:59:37.893043Z"
    },
    "papermill": {
     "duration": 0.342908,
     "end_time": "2024-01-18T06:59:37.897803",
     "exception": false,
     "start_time": "2024-01-18T06:59:37.554895",
     "status": "completed"
    },
    "tags": []
   },
   "outputs": [
    {
     "name": "stdout",
     "output_type": "stream",
     "text": [
      "/kaggle/input/fastag-fraud-detection-datesets-fictitious/FastagFraudDetection.csv\n"
     ]
    }
   ],
   "source": [
    "# This Python 3 environment comes with many helpful analytics libraries installed\n",
    "# It is defined by the kaggle/python Docker image: https://github.com/kaggle/docker-python\n",
    "# For example, here's several helpful packages to load\n",
    "\n",
    "import numpy as np # linear algebra\n",
    "import pandas as pd # data processing, CSV file I/O (e.g. pd.read_csv)\n",
    "\n",
    "# Input data files are available in the read-only \"../input/\" directory\n",
    "# For example, running this (by clicking run or pressing Shift+Enter) will list all files under the input directory\n",
    "\n",
    "import os\n",
    "for dirname, _, filenames in os.walk('/kaggle/input'):\n",
    "    for filename in filenames:\n",
    "        print(os.path.join(dirname, filename))\n",
    "\n",
    "# You can write up to 20GB to the current directory (/kaggle/working/) that gets preserved as output when you create a version using \"Save & Run All\" \n",
    "# You can also write temporary files to /kaggle/temp/, but they won't be saved outside of the current session"
   ]
  },
  {
   "cell_type": "code",
   "execution_count": 2,
   "id": "db139fe8",
   "metadata": {
    "execution": {
     "iopub.execute_input": "2024-01-18T06:59:37.909983Z",
     "iopub.status.busy": "2024-01-18T06:59:37.909428Z",
     "iopub.status.idle": "2024-01-18T06:59:39.264358Z",
     "shell.execute_reply": "2024-01-18T06:59:39.263165Z"
    },
    "papermill": {
     "duration": 1.363854,
     "end_time": "2024-01-18T06:59:39.266919",
     "exception": false,
     "start_time": "2024-01-18T06:59:37.903065",
     "status": "completed"
    },
    "tags": []
   },
   "outputs": [],
   "source": [
    "import pandas as pd\n",
    "import seaborn as sbn\n",
    "import matplotlib.pyplot as plt"
   ]
  },
  {
   "cell_type": "code",
   "execution_count": 3,
   "id": "995939d5",
   "metadata": {
    "execution": {
     "iopub.execute_input": "2024-01-18T06:59:39.278965Z",
     "iopub.status.busy": "2024-01-18T06:59:39.278632Z",
     "iopub.status.idle": "2024-01-18T06:59:39.283755Z",
     "shell.execute_reply": "2024-01-18T06:59:39.282404Z"
    },
    "papermill": {
     "duration": 0.013848,
     "end_time": "2024-01-18T06:59:39.286264",
     "exception": false,
     "start_time": "2024-01-18T06:59:39.272416",
     "status": "completed"
    },
    "tags": []
   },
   "outputs": [],
   "source": [
    "path  = '/kaggle/input/fastag-fraud-detection-datesets-fictitious/FastagFraudDetection.csv'"
   ]
  },
  {
   "cell_type": "code",
   "execution_count": 4,
   "id": "7f45bf68",
   "metadata": {
    "execution": {
     "iopub.execute_input": "2024-01-18T06:59:39.298171Z",
     "iopub.status.busy": "2024-01-18T06:59:39.297817Z",
     "iopub.status.idle": "2024-01-18T06:59:39.335484Z",
     "shell.execute_reply": "2024-01-18T06:59:39.334095Z"
    },
    "papermill": {
     "duration": 0.046519,
     "end_time": "2024-01-18T06:59:39.338086",
     "exception": false,
     "start_time": "2024-01-18T06:59:39.291567",
     "status": "completed"
    },
    "tags": []
   },
   "outputs": [],
   "source": [
    "data = pd.read_csv(path)"
   ]
  },
  {
   "cell_type": "code",
   "execution_count": 5,
   "id": "63c0b1bb",
   "metadata": {
    "execution": {
     "iopub.execute_input": "2024-01-18T06:59:39.350670Z",
     "iopub.status.busy": "2024-01-18T06:59:39.349717Z",
     "iopub.status.idle": "2024-01-18T06:59:39.377793Z",
     "shell.execute_reply": "2024-01-18T06:59:39.376896Z"
    },
    "papermill": {
     "duration": 0.036386,
     "end_time": "2024-01-18T06:59:39.379747",
     "exception": false,
     "start_time": "2024-01-18T06:59:39.343361",
     "status": "completed"
    },
    "tags": []
   },
   "outputs": [
    {
     "data": {
      "text/html": [
       "<div>\n",
       "<style scoped>\n",
       "    .dataframe tbody tr th:only-of-type {\n",
       "        vertical-align: middle;\n",
       "    }\n",
       "\n",
       "    .dataframe tbody tr th {\n",
       "        vertical-align: top;\n",
       "    }\n",
       "\n",
       "    .dataframe thead th {\n",
       "        text-align: right;\n",
       "    }\n",
       "</style>\n",
       "<table border=\"1\" class=\"dataframe\">\n",
       "  <thead>\n",
       "    <tr style=\"text-align: right;\">\n",
       "      <th></th>\n",
       "      <th>Transaction_ID</th>\n",
       "      <th>Timestamp</th>\n",
       "      <th>Vehicle_Type</th>\n",
       "      <th>FastagID</th>\n",
       "      <th>TollBoothID</th>\n",
       "      <th>Lane_Type</th>\n",
       "      <th>Vehicle_Dimensions</th>\n",
       "      <th>Transaction_Amount</th>\n",
       "      <th>Amount_paid</th>\n",
       "      <th>Geographical_Location</th>\n",
       "      <th>Vehicle_Speed</th>\n",
       "      <th>Vehicle_Plate_Number</th>\n",
       "      <th>Fraud_indicator</th>\n",
       "    </tr>\n",
       "  </thead>\n",
       "  <tbody>\n",
       "    <tr>\n",
       "      <th>0</th>\n",
       "      <td>1</td>\n",
       "      <td>1/6/2023 11:20</td>\n",
       "      <td>Bus</td>\n",
       "      <td>FTG-001-ABC-121</td>\n",
       "      <td>A-101</td>\n",
       "      <td>Express</td>\n",
       "      <td>Large</td>\n",
       "      <td>350</td>\n",
       "      <td>120</td>\n",
       "      <td>13.059816123454882, 77.77068662374292</td>\n",
       "      <td>65</td>\n",
       "      <td>KA11AB1234</td>\n",
       "      <td>Fraud</td>\n",
       "    </tr>\n",
       "    <tr>\n",
       "      <th>1</th>\n",
       "      <td>2</td>\n",
       "      <td>1/7/2023 14:55</td>\n",
       "      <td>Car</td>\n",
       "      <td>FTG-002-XYZ-451</td>\n",
       "      <td>B-102</td>\n",
       "      <td>Regular</td>\n",
       "      <td>Small</td>\n",
       "      <td>120</td>\n",
       "      <td>100</td>\n",
       "      <td>13.059816123454882, 77.77068662374292</td>\n",
       "      <td>78</td>\n",
       "      <td>KA66CD5678</td>\n",
       "      <td>Fraud</td>\n",
       "    </tr>\n",
       "    <tr>\n",
       "      <th>2</th>\n",
       "      <td>3</td>\n",
       "      <td>1/8/2023 18:25</td>\n",
       "      <td>Motorcycle</td>\n",
       "      <td>NaN</td>\n",
       "      <td>D-104</td>\n",
       "      <td>Regular</td>\n",
       "      <td>Small</td>\n",
       "      <td>0</td>\n",
       "      <td>0</td>\n",
       "      <td>13.059816123454882, 77.77068662374292</td>\n",
       "      <td>53</td>\n",
       "      <td>KA88EF9012</td>\n",
       "      <td>Not Fraud</td>\n",
       "    </tr>\n",
       "    <tr>\n",
       "      <th>3</th>\n",
       "      <td>4</td>\n",
       "      <td>1/9/2023 2:05</td>\n",
       "      <td>Truck</td>\n",
       "      <td>FTG-044-LMN-322</td>\n",
       "      <td>C-103</td>\n",
       "      <td>Regular</td>\n",
       "      <td>Large</td>\n",
       "      <td>350</td>\n",
       "      <td>120</td>\n",
       "      <td>13.059816123454882, 77.77068662374292</td>\n",
       "      <td>92</td>\n",
       "      <td>KA11GH3456</td>\n",
       "      <td>Fraud</td>\n",
       "    </tr>\n",
       "    <tr>\n",
       "      <th>4</th>\n",
       "      <td>5</td>\n",
       "      <td>1/10/2023 6:35</td>\n",
       "      <td>Van</td>\n",
       "      <td>FTG-505-DEF-652</td>\n",
       "      <td>B-102</td>\n",
       "      <td>Express</td>\n",
       "      <td>Medium</td>\n",
       "      <td>140</td>\n",
       "      <td>100</td>\n",
       "      <td>13.059816123454882, 77.77068662374292</td>\n",
       "      <td>60</td>\n",
       "      <td>KA44IJ6789</td>\n",
       "      <td>Fraud</td>\n",
       "    </tr>\n",
       "  </tbody>\n",
       "</table>\n",
       "</div>"
      ],
      "text/plain": [
       "   Transaction_ID       Timestamp Vehicle_Type         FastagID TollBoothID  \\\n",
       "0               1  1/6/2023 11:20         Bus   FTG-001-ABC-121       A-101   \n",
       "1               2  1/7/2023 14:55          Car  FTG-002-XYZ-451       B-102   \n",
       "2               3  1/8/2023 18:25   Motorcycle              NaN       D-104   \n",
       "3               4   1/9/2023 2:05        Truck  FTG-044-LMN-322       C-103   \n",
       "4               5  1/10/2023 6:35          Van  FTG-505-DEF-652       B-102   \n",
       "\n",
       "  Lane_Type Vehicle_Dimensions  Transaction_Amount  Amount_paid  \\\n",
       "0   Express              Large                 350          120   \n",
       "1   Regular              Small                 120          100   \n",
       "2   Regular              Small                   0            0   \n",
       "3   Regular              Large                 350          120   \n",
       "4   Express             Medium                 140          100   \n",
       "\n",
       "                   Geographical_Location  Vehicle_Speed Vehicle_Plate_Number  \\\n",
       "0  13.059816123454882, 77.77068662374292             65           KA11AB1234   \n",
       "1  13.059816123454882, 77.77068662374292             78           KA66CD5678   \n",
       "2  13.059816123454882, 77.77068662374292             53           KA88EF9012   \n",
       "3  13.059816123454882, 77.77068662374292             92           KA11GH3456   \n",
       "4  13.059816123454882, 77.77068662374292             60           KA44IJ6789   \n",
       "\n",
       "  Fraud_indicator  \n",
       "0           Fraud  \n",
       "1           Fraud  \n",
       "2       Not Fraud  \n",
       "3           Fraud  \n",
       "4           Fraud  "
      ]
     },
     "execution_count": 5,
     "metadata": {},
     "output_type": "execute_result"
    }
   ],
   "source": [
    "data.head()"
   ]
  },
  {
   "cell_type": "code",
   "execution_count": 6,
   "id": "de778d57",
   "metadata": {
    "execution": {
     "iopub.execute_input": "2024-01-18T06:59:39.392247Z",
     "iopub.status.busy": "2024-01-18T06:59:39.391621Z",
     "iopub.status.idle": "2024-01-18T06:59:39.656177Z",
     "shell.execute_reply": "2024-01-18T06:59:39.654445Z"
    },
    "papermill": {
     "duration": 0.274116,
     "end_time": "2024-01-18T06:59:39.659244",
     "exception": false,
     "start_time": "2024-01-18T06:59:39.385128",
     "status": "completed"
    },
    "tags": []
   },
   "outputs": [],
   "source": [
    "from sklearn.preprocessing import LabelEncoder ,MinMaxScaler\n",
    "lbe = LabelEncoder() \n",
    "ms =MinMaxScaler()"
   ]
  },
  {
   "cell_type": "code",
   "execution_count": 7,
   "id": "b4944a7b",
   "metadata": {
    "execution": {
     "iopub.execute_input": "2024-01-18T06:59:39.671793Z",
     "iopub.status.busy": "2024-01-18T06:59:39.671459Z",
     "iopub.status.idle": "2024-01-18T06:59:39.712441Z",
     "shell.execute_reply": "2024-01-18T06:59:39.710702Z"
    },
    "papermill": {
     "duration": 0.050011,
     "end_time": "2024-01-18T06:59:39.714940",
     "exception": false,
     "start_time": "2024-01-18T06:59:39.664929",
     "status": "completed"
    },
    "tags": []
   },
   "outputs": [],
   "source": [
    "for col in data.columns:\n",
    "    if data[col].dtype == 'object':\n",
    "        data[col] = lbe.fit_transform(data[col])"
   ]
  },
  {
   "cell_type": "code",
   "execution_count": 8,
   "id": "a6b5b3d9",
   "metadata": {
    "execution": {
     "iopub.execute_input": "2024-01-18T06:59:39.727083Z",
     "iopub.status.busy": "2024-01-18T06:59:39.726757Z",
     "iopub.status.idle": "2024-01-18T06:59:39.740639Z",
     "shell.execute_reply": "2024-01-18T06:59:39.738770Z"
    },
    "papermill": {
     "duration": 0.022978,
     "end_time": "2024-01-18T06:59:39.743109",
     "exception": false,
     "start_time": "2024-01-18T06:59:39.720131",
     "status": "completed"
    },
    "tags": []
   },
   "outputs": [],
   "source": [
    "x = data.drop(['Transaction_ID','Timestamp','FastagID' , 'TollBoothID' ,'Geographical_Location','Vehicle_Plate_Number','Fraud_indicator' ] ,axis = 1)\n",
    "y = data['Fraud_indicator']"
   ]
  },
  {
   "cell_type": "code",
   "execution_count": 9,
   "id": "f9f50bdb",
   "metadata": {
    "execution": {
     "iopub.execute_input": "2024-01-18T06:59:39.756634Z",
     "iopub.status.busy": "2024-01-18T06:59:39.756237Z",
     "iopub.status.idle": "2024-01-18T06:59:40.065403Z",
     "shell.execute_reply": "2024-01-18T06:59:40.064269Z"
    },
    "papermill": {
     "duration": 0.318714,
     "end_time": "2024-01-18T06:59:40.067730",
     "exception": false,
     "start_time": "2024-01-18T06:59:39.749016",
     "status": "completed"
    },
    "tags": []
   },
   "outputs": [
    {
     "data": {
      "text/plain": [
       "<matplotlib.collections.PathCollection at 0x7bc6fd1822c0>"
      ]
     },
     "execution_count": 9,
     "metadata": {},
     "output_type": "execute_result"
    },
    {
     "data": {
      "image/png": "[encoded data removed]",
      "text/plain": [
       "<Figure size 640x480 with 1 Axes>"
      ]
     },
     "metadata": {},
     "output_type": "display_data"
    }
   ],
   "source": [
    "plt.title(\"Vehicle_Type vs Vehicle_Speed\")\n",
    "plt.xlabel(\"Vehicle_Type\")\n",
    "plt.ylabel(\"Vehicle_Speed\")\n",
    "plt.scatter(x.Vehicle_Type , x.Vehicle_Speed)"
   ]
  },
  {
   "cell_type": "code",
   "execution_count": 10,
   "id": "6313fa6a",
   "metadata": {
    "execution": {
     "iopub.execute_input": "2024-01-18T06:59:40.081514Z",
     "iopub.status.busy": "2024-01-18T06:59:40.081089Z",
     "iopub.status.idle": "2024-01-18T06:59:40.088251Z",
     "shell.execute_reply": "2024-01-18T06:59:40.086525Z"
    },
    "papermill": {
     "duration": 0.017492,
     "end_time": "2024-01-18T06:59:40.091013",
     "exception": false,
     "start_time": "2024-01-18T06:59:40.073521",
     "status": "completed"
    },
    "tags": []
   },
   "outputs": [],
   "source": [
    "#x = ms.fit_transform(x)"
   ]
  },
  {
   "cell_type": "code",
   "execution_count": 11,
   "id": "a21013ff",
   "metadata": {
    "execution": {
     "iopub.execute_input": "2024-01-18T06:59:40.104071Z",
     "iopub.status.busy": "2024-01-18T06:59:40.103721Z",
     "iopub.status.idle": "2024-01-18T06:59:40.111407Z",
     "shell.execute_reply": "2024-01-18T06:59:40.110142Z"
    },
    "papermill": {
     "duration": 0.01676,
     "end_time": "2024-01-18T06:59:40.113595",
     "exception": false,
     "start_time": "2024-01-18T06:59:40.096835",
     "status": "completed"
    },
    "tags": []
   },
   "outputs": [
    {
     "data": {
      "text/plain": [
       "0    0\n",
       "1    0\n",
       "2    1\n",
       "3    0\n",
       "4    0\n",
       "Name: Fraud_indicator, dtype: int64"
      ]
     },
     "execution_count": 11,
     "metadata": {},
     "output_type": "execute_result"
    }
   ],
   "source": [
    "y.head()"
   ]
  },
  {
   "cell_type": "code",
   "execution_count": 12,
   "id": "fd94d1c9",
   "metadata": {
    "execution": {
     "iopub.execute_input": "2024-01-18T06:59:40.127359Z",
     "iopub.status.busy": "2024-01-18T06:59:40.126991Z",
     "iopub.status.idle": "2024-01-18T06:59:40.369517Z",
     "shell.execute_reply": "2024-01-18T06:59:40.368258Z"
    },
    "papermill": {
     "duration": 0.252575,
     "end_time": "2024-01-18T06:59:40.372287",
     "exception": false,
     "start_time": "2024-01-18T06:59:40.119712",
     "status": "completed"
    },
    "tags": []
   },
   "outputs": [],
   "source": [
    "from sklearn.linear_model import LogisticRegression\n",
    "from sklearn.model_selection import train_test_split\n",
    "ltr = LogisticRegression()"
   ]
  },
  {
   "cell_type": "code",
   "execution_count": 13,
   "id": "cfc26626",
   "metadata": {
    "execution": {
     "iopub.execute_input": "2024-01-18T06:59:40.386006Z",
     "iopub.status.busy": "2024-01-18T06:59:40.385640Z",
     "iopub.status.idle": "2024-01-18T06:59:40.394353Z",
     "shell.execute_reply": "2024-01-18T06:59:40.392922Z"
    },
    "papermill": {
     "duration": 0.01882,
     "end_time": "2024-01-18T06:59:40.397114",
     "exception": false,
     "start_time": "2024-01-18T06:59:40.378294",
     "status": "completed"
    },
    "tags": []
   },
   "outputs": [],
   "source": [
    "xtrain , xtest , ytrain , ytest = train_test_split(x, y ,random_state = 41 ,test_size = .30)"
   ]
  },
  {
   "cell_type": "code",
   "execution_count": 14,
   "id": "ddedf2c5",
   "metadata": {
    "execution": {
     "iopub.execute_input": "2024-01-18T06:59:40.411527Z",
     "iopub.status.busy": "2024-01-18T06:59:40.411157Z",
     "iopub.status.idle": "2024-01-18T06:59:40.471785Z",
     "shell.execute_reply": "2024-01-18T06:59:40.470745Z"
    },
    "papermill": {
     "duration": 0.069879,
     "end_time": "2024-01-18T06:59:40.473812",
     "exception": false,
     "start_time": "2024-01-18T06:59:40.403933",
     "status": "completed"
    },
    "tags": []
   },
   "outputs": [
    {
     "data": {
      "text/html": [
       "<style>#sk-container-id-1 {color: black;background-color: white;}#sk-container-id-1 pre{padding: 0;}#sk-container-id-1 div.sk-toggleable {background-color: white;}#sk-container-id-1 label.sk-toggleable__label {cursor: pointer;display: block;width: 100%;margin-bottom: 0;padding: 0.3em;box-sizing: border-box;text-align: center;}#sk-container-id-1 label.sk-toggleable__label-arrow:before {content: \"▸\";float: left;margin-right: 0.25em;color: #696969;}#sk-container-id-1 label.sk-toggleable__label-arrow:hover:before {color: black;}#sk-container-id-1 div.sk-estimator:hover label.sk-toggleable__label-arrow:before {color: black;}#sk-container-id-1 div.sk-toggleable__content {max-height: 0;max-width: 0;overflow: hidden;text-align: left;background-color: #f0f8ff;}#sk-container-id-1 div.sk-toggleable__content pre {margin: 0.2em;color: black;border-radius: 0.25em;background-color: #f0f8ff;}#sk-container-id-1 input.sk-toggleable__control:checked~div.sk-toggleable__content {max-height: 200px;max-width: 100%;overflow: auto;}#sk-container-id-1 input.sk-toggleable__control:checked~label.sk-toggleable__label-arrow:before {content: \"▾\";}#sk-container-id-1 div.sk-estimator input.sk-toggleable__control:checked~label.sk-toggleable__label {background-color: #d4ebff;}#sk-container-id-1 div.sk-label input.sk-toggleable__control:checked~label.sk-toggleable__label {background-color: #d4ebff;}#sk-container-id-1 input.sk-hidden--visually {border: 0;clip: rect(1px 1px 1px 1px);clip: rect(1px, 1px, 1px, 1px);height: 1px;margin: -1px;overflow: hidden;padding: 0;position: absolute;width: 1px;}#sk-container-id-1 div.sk-estimator {font-family: monospace;background-color: #f0f8ff;border: 1px dotted black;border-radius: 0.25em;box-sizing: border-box;margin-bottom: 0.5em;}#sk-container-id-1 div.sk-estimator:hover {background-color: #d4ebff;}#sk-container-id-1 div.sk-parallel-item::after {content: \"\";width: 100%;border-bottom: 1px solid gray;flex-grow: 1;}#sk-container-id-1 div.sk-label:hover label.sk-toggleable__label {background-color: #d4ebff;}#sk-container-id-1 div.sk-serial::before {content: \"\";position: absolute;border-left: 1px solid gray;box-sizing: border-box;top: 0;bottom: 0;left: 50%;z-index: 0;}#sk-container-id-1 div.sk-serial {display: flex;flex-direction: column;align-items: center;background-color: white;padding-right: 0.2em;padding-left: 0.2em;position: relative;}#sk-container-id-1 div.sk-item {position: relative;z-index: 1;}#sk-container-id-1 div.sk-parallel {display: flex;align-items: stretch;justify-content: center;background-color: white;position: relative;}#sk-container-id-1 div.sk-item::before, #sk-container-id-1 div.sk-parallel-item::before {content: \"\";position: absolute;border-left: 1px solid gray;box-sizing: border-box;top: 0;bottom: 0;left: 50%;z-index: -1;}#sk-container-id-1 div.sk-parallel-item {display: flex;flex-direction: column;z-index: 1;position: relative;background-color: white;}#sk-container-id-1 div.sk-parallel-item:first-child::after {align-self: flex-end;width: 50%;}#sk-container-id-1 div.sk-parallel-item:last-child::after {align-self: flex-start;width: 50%;}#sk-container-id-1 div.sk-parallel-item:only-child::after {width: 0;}#sk-container-id-1 div.sk-dashed-wrapped {border: 1px dashed gray;margin: 0 0.4em 0.5em 0.4em;box-sizing: border-box;padding-bottom: 0.4em;background-color: white;}#sk-container-id-1 div.sk-label label {font-family: monospace;font-weight: bold;display: inline-block;line-height: 1.2em;}#sk-container-id-1 div.sk-label-container {text-align: center;}#sk-container-id-1 div.sk-container {/* jupyter's `normalize.less` sets `[hidden] { display: none; }` but bootstrap.min.css set `[hidden] { display: none !important; }` so we also need the `!important` here to be able to override the default hidden behavior on the sphinx rendered scikit-learn.org. See: https://github.com/scikit-learn/scikit-learn/issues/21755 */display: inline-block !important;position: relative;}#sk-container-id-1 div.sk-text-repr-fallback {display: none;}</style><div id=\"sk-container-id-1\" class=\"sk-top-container\"><div class=\"sk-text-repr-fallback\"><pre>LogisticRegression()</pre><b>In a Jupyter environment, please rerun this cell to show the HTML representation or trust the notebook. <br />On GitHub, the HTML representation is unable to render, please try loading this page with nbviewer.org.</b></div><div class=\"sk-container\" hidden><div class=\"sk-item\"><div class=\"sk-estimator sk-toggleable\"><input class=\"sk-toggleable__control sk-hidden--visually\" id=\"sk-estimator-id-1\" type=\"checkbox\" checked><label for=\"sk-estimator-id-1\" class=\"sk-toggleable__label sk-toggleable__label-arrow\">LogisticRegression</label><div class=\"sk-toggleable__content\"><pre>LogisticRegression()</pre></div></div></div></div></div>"
      ],
      "text/plain": [
       "LogisticRegression()"
      ]
     },
     "execution_count": 14,
     "metadata": {},
     "output_type": "execute_result"
    }
   ],
   "source": [
    "ltr.fit(xtrain , ytrain)"
   ]
  },
  {
   "cell_type": "code",
   "execution_count": 15,
   "id": "dcfefbd4",
   "metadata": {
    "execution": {
     "iopub.execute_input": "2024-01-18T06:59:40.490938Z",
     "iopub.status.busy": "2024-01-18T06:59:40.490139Z",
     "iopub.status.idle": "2024-01-18T06:59:40.500932Z",
     "shell.execute_reply": "2024-01-18T06:59:40.500168Z"
    },
    "papermill": {
     "duration": 0.021496,
     "end_time": "2024-01-18T06:59:40.502805",
     "exception": false,
     "start_time": "2024-01-18T06:59:40.481309",
     "status": "completed"
    },
    "tags": []
   },
   "outputs": [
    {
     "data": {
      "text/plain": [
       "0.9848571428571429"
      ]
     },
     "execution_count": 15,
     "metadata": {},
     "output_type": "execute_result"
    }
   ],
   "source": [
    "ltr.score(xtrain , ytrain)"
   ]
  },
  {
   "cell_type": "code",
   "execution_count": 16,
   "id": "498f1356",
   "metadata": {
    "execution": {
     "iopub.execute_input": "2024-01-18T06:59:40.520111Z",
     "iopub.status.busy": "2024-01-18T06:59:40.519764Z",
     "iopub.status.idle": "2024-01-18T06:59:40.528673Z",
     "shell.execute_reply": "2024-01-18T06:59:40.527790Z"
    },
    "papermill": {
     "duration": 0.020528,
     "end_time": "2024-01-18T06:59:40.530861",
     "exception": false,
     "start_time": "2024-01-18T06:59:40.510333",
     "status": "completed"
    },
    "tags": []
   },
   "outputs": [
    {
     "data": {
      "text/plain": [
       "0.9866666666666667"
      ]
     },
     "execution_count": 16,
     "metadata": {},
     "output_type": "execute_result"
    }
   ],
   "source": [
    "ltr.score(xtest, ytest)"
   ]
  },
  {
   "cell_type": "code",
   "execution_count": 17,
   "id": "5895d366",
   "metadata": {
    "execution": {
     "iopub.execute_input": "2024-01-18T06:59:40.547824Z",
     "iopub.status.busy": "2024-01-18T06:59:40.547425Z",
     "iopub.status.idle": "2024-01-18T06:59:40.551723Z",
     "shell.execute_reply": "2024-01-18T06:59:40.550875Z"
    },
    "papermill": {
     "duration": 0.01501,
     "end_time": "2024-01-18T06:59:40.553641",
     "exception": false,
     "start_time": "2024-01-18T06:59:40.538631",
     "status": "completed"
    },
    "tags": []
   },
   "outputs": [],
   "source": [
    "from sklearn.metrics import classification_report ,confusion_matrix"
   ]
  },
  {
   "cell_type": "code",
   "execution_count": 18,
   "id": "66946279",
   "metadata": {
    "execution": {
     "iopub.execute_input": "2024-01-18T06:59:40.570526Z",
     "iopub.status.busy": "2024-01-18T06:59:40.570095Z",
     "iopub.status.idle": "2024-01-18T06:59:40.589491Z",
     "shell.execute_reply": "2024-01-18T06:59:40.588667Z"
    },
    "papermill": {
     "duration": 0.030144,
     "end_time": "2024-01-18T06:59:40.591512",
     "exception": false,
     "start_time": "2024-01-18T06:59:40.561368",
     "status": "completed"
    },
    "tags": []
   },
   "outputs": [
    {
     "name": "stdout",
     "output_type": "stream",
     "text": [
      "              precision    recall  f1-score   support\n",
      "\n",
      "           0       1.00      0.93      0.97       296\n",
      "           1       0.98      1.00      0.99      1204\n",
      "\n",
      "    accuracy                           0.99      1500\n",
      "   macro avg       0.99      0.97      0.98      1500\n",
      "weighted avg       0.99      0.99      0.99      1500\n",
      "\n"
     ]
    }
   ],
   "source": [
    "print(classification_report(ytest , ltr.predict(xtest)))"
   ]
  },
  {
   "cell_type": "code",
   "execution_count": 19,
   "id": "8266893b",
   "metadata": {
    "execution": {
     "iopub.execute_input": "2024-01-18T06:59:40.608524Z",
     "iopub.status.busy": "2024-01-18T06:59:40.608175Z",
     "iopub.status.idle": "2024-01-18T06:59:40.617486Z",
     "shell.execute_reply": "2024-01-18T06:59:40.616674Z"
    },
    "papermill": {
     "duration": 0.019854,
     "end_time": "2024-01-18T06:59:40.619275",
     "exception": false,
     "start_time": "2024-01-18T06:59:40.599421",
     "status": "completed"
    },
    "tags": []
   },
   "outputs": [
    {
     "data": {
      "text/plain": [
       "array([[ 276,   20],\n",
       "       [   0, 1204]])"
      ]
     },
     "execution_count": 19,
     "metadata": {},
     "output_type": "execute_result"
    }
   ],
   "source": [
    "cm = confusion_matrix(ytest , ltr.predict(xtest))\n",
    "cm"
   ]
  },
  {
   "cell_type": "code",
   "execution_count": 20,
   "id": "4e6b608d",
   "metadata": {
    "execution": {
     "iopub.execute_input": "2024-01-18T06:59:40.633576Z",
     "iopub.status.busy": "2024-01-18T06:59:40.632639Z",
     "iopub.status.idle": "2024-01-18T06:59:40.636773Z",
     "shell.execute_reply": "2024-01-18T06:59:40.636184Z"
    },
    "papermill": {
     "duration": 0.01309,
     "end_time": "2024-01-18T06:59:40.638532",
     "exception": false,
     "start_time": "2024-01-18T06:59:40.625442",
     "status": "completed"
    },
    "tags": []
   },
   "outputs": [],
   "source": [
    "import seaborn as sn"
   ]
  },
  {
   "cell_type": "code",
   "execution_count": 21,
   "id": "8b408926",
   "metadata": {
    "execution": {
     "iopub.execute_input": "2024-01-18T06:59:40.652478Z",
     "iopub.status.busy": "2024-01-18T06:59:40.652158Z",
     "iopub.status.idle": "2024-01-18T06:59:40.874458Z",
     "shell.execute_reply": "2024-01-18T06:59:40.873366Z"
    },
    "papermill": {
     "duration": 0.232083,
     "end_time": "2024-01-18T06:59:40.876911",
     "exception": false,
     "start_time": "2024-01-18T06:59:40.644828",
     "status": "completed"
    },
    "tags": []
   },
   "outputs": [
    {
     "data": {
      "text/plain": [
       "<Axes: >"
      ]
     },
     "execution_count": 21,
     "metadata": {},
     "output_type": "execute_result"
    },
    {
     "data": {
      "image/png": "[encoded data removed]",
      "text/plain": [
       "<Figure size 640x480 with 2 Axes>"
      ]
     },
     "metadata": {},
     "output_type": "display_data"
    }
   ],
   "source": [
    "sn.heatmap(data = cm , annot = True , fmt=\".2f\")"
   ]
  },
  {
   "cell_type": "code",
   "execution_count": null,
   "id": "8ca0ba31",
   "metadata": {
    "papermill": {
     "duration": 0.006044,
     "end_time": "2024-01-18T06:59:40.889548",
     "exception": false,
     "start_time": "2024-01-18T06:59:40.883504",
     "status": "completed"
    },
    "tags": []
   },
   "outputs": [],
   "source": []
  }
 ],
 "metadata": {
  "kaggle": {
   "accelerator": "none",
   "dataSources": [
    {
     "datasetId": 4314015,
     "sourceId": 7415794,
     "sourceType": "datasetVersion"
    }
   ],
   "dockerImageVersionId": 30635,
   "isGpuEnabled": false,
   "isInternetEnabled": true,
   "language": "python",
   "sourceType": "notebook"
  },
  "kernelspec": {
   "display_name": "Python 3",
   "language": "python",
   "name": "python3"
  },
  "language_info": {
   "codemirror_mode": {
    "name": "ipython",
    "version": 3
   },
   "file_extension": ".py",
   "mimetype": "text/x-python",
   "name": "python",
   "nbconvert_exporter": "python",
   "pygments_lexer": "ipython3",
   "version": "3.10.12"
  },
  "papermill": {
   "default_parameters": {},
   "duration": 6.595991,
   "end_time": "2024-01-18T06:59:41.517431",
   "environment_variables": {},
   "exception": null,
   "input_path": "__notebook__.ipynb",
   "output_path": "__notebook__.ipynb",
   "parameters": {},
   "start_time": "2024-01-18T06:59:34.921440",
   "version": "2.4.0"
  }
 },
 "nbformat": 4,
 "nbformat_minor": 5
}
