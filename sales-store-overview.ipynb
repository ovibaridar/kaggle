{
 "cells": [
  {
   "cell_type": "code",
   "execution_count": 1,
   "id": "9661b1c0",
   "metadata": {
    "execution": {
     "iopub.execute_input": "2024-01-24T08:10:56.778131Z",
     "iopub.status.busy": "2024-01-24T08:10:56.777629Z",
     "iopub.status.idle": "2024-01-24T08:10:58.590729Z",
     "shell.execute_reply": "2024-01-24T08:10:58.589321Z"
    },
    "papermill": {
     "duration": 1.831326,
     "end_time": "2024-01-24T08:10:58.593633",
     "exception": false,
     "start_time": "2024-01-24T08:10:56.762307",
     "status": "completed"
    },
    "tags": []
   },
   "outputs": [],
   "source": [
    "import pandas as pd\n",
    "import matplotlib.pyplot as plt\n",
    "import seaborn as sn\n",
    "import numpy as np"
   ]
  },
  {
   "cell_type": "code",
   "execution_count": 2,
   "id": "4d7ef457",
   "metadata": {
    "execution": {
     "iopub.execute_input": "2024-01-24T08:10:58.619977Z",
     "iopub.status.busy": "2024-01-24T08:10:58.619404Z",
     "iopub.status.idle": "2024-01-24T08:10:58.624670Z",
     "shell.execute_reply": "2024-01-24T08:10:58.623419Z"
    },
    "papermill": {
     "duration": 0.021396,
     "end_time": "2024-01-24T08:10:58.627309",
     "exception": false,
     "start_time": "2024-01-24T08:10:58.605913",
     "status": "completed"
    },
    "tags": []
   },
   "outputs": [],
   "source": [
    "path = '/kaggle/input/sales-store-overview/SalesStore.csv'"
   ]
  },
  {
   "cell_type": "code",
   "execution_count": 3,
   "id": "8be819b7",
   "metadata": {
    "execution": {
     "iopub.execute_input": "2024-01-24T08:10:58.653165Z",
     "iopub.status.busy": "2024-01-24T08:10:58.652780Z",
     "iopub.status.idle": "2024-01-24T08:10:58.679231Z",
     "shell.execute_reply": "2024-01-24T08:10:58.678081Z"
    },
    "papermill": {
     "duration": 0.042672,
     "end_time": "2024-01-24T08:10:58.682120",
     "exception": false,
     "start_time": "2024-01-24T08:10:58.639448",
     "status": "completed"
    },
    "tags": []
   },
   "outputs": [],
   "source": [
    "data = pd.read_csv(path)"
   ]
  },
  {
   "cell_type": "code",
   "execution_count": 4,
   "id": "bcd9b9ae",
   "metadata": {
    "execution": {
     "iopub.execute_input": "2024-01-24T08:10:58.709162Z",
     "iopub.status.busy": "2024-01-24T08:10:58.708769Z",
     "iopub.status.idle": "2024-01-24T08:10:58.740407Z",
     "shell.execute_reply": "2024-01-24T08:10:58.739177Z"
    },
    "papermill": {
     "duration": 0.048279,
     "end_time": "2024-01-24T08:10:58.742996",
     "exception": false,
     "start_time": "2024-01-24T08:10:58.694717",
     "status": "completed"
    },
    "tags": []
   },
   "outputs": [
    {
     "data": {
      "text/html": [
       "<div>\n",
       "<style scoped>\n",
       "    .dataframe tbody tr th:only-of-type {\n",
       "        vertical-align: middle;\n",
       "    }\n",
       "\n",
       "    .dataframe tbody tr th {\n",
       "        vertical-align: top;\n",
       "    }\n",
       "\n",
       "    .dataframe thead th {\n",
       "        text-align: right;\n",
       "    }\n",
       "</style>\n",
       "<table border=\"1\" class=\"dataframe\">\n",
       "  <thead>\n",
       "    <tr style=\"text-align: right;\">\n",
       "      <th></th>\n",
       "      <th>Order_Date</th>\n",
       "      <th>Ship_Date</th>\n",
       "      <th>Ship_Mode</th>\n",
       "      <th>Postal_Code</th>\n",
       "      <th>Region</th>\n",
       "      <th>Product_Reference</th>\n",
       "      <th>Category</th>\n",
       "      <th>Sub_Category</th>\n",
       "      <th>Sales</th>\n",
       "      <th>Quantity</th>\n",
       "      <th>Profit</th>\n",
       "      <th>State</th>\n",
       "    </tr>\n",
       "  </thead>\n",
       "  <tbody>\n",
       "    <tr>\n",
       "      <th>0</th>\n",
       "      <td>2021-02-15</td>\n",
       "      <td>2021-02-20</td>\n",
       "      <td>Ground</td>\n",
       "      <td>44104</td>\n",
       "      <td>Midwest</td>\n",
       "      <td>OFF-TAP-10022901</td>\n",
       "      <td>Office Supplies</td>\n",
       "      <td>Tape</td>\n",
       "      <td>5</td>\n",
       "      <td>1</td>\n",
       "      <td>0.15</td>\n",
       "      <td>OH</td>\n",
       "    </tr>\n",
       "    <tr>\n",
       "      <th>1</th>\n",
       "      <td>2021-02-15</td>\n",
       "      <td>2021-02-20</td>\n",
       "      <td>Ground</td>\n",
       "      <td>44104</td>\n",
       "      <td>Midwest</td>\n",
       "      <td>OFF-TAP-10023012</td>\n",
       "      <td>Office Supplies</td>\n",
       "      <td>Tape</td>\n",
       "      <td>5</td>\n",
       "      <td>1</td>\n",
       "      <td>0.15</td>\n",
       "      <td>OH</td>\n",
       "    </tr>\n",
       "    <tr>\n",
       "      <th>2</th>\n",
       "      <td>2021-02-15</td>\n",
       "      <td>2021-02-20</td>\n",
       "      <td>Ground</td>\n",
       "      <td>44104</td>\n",
       "      <td>Midwest</td>\n",
       "      <td>OFF-TAP-10002828</td>\n",
       "      <td>Office Supplies</td>\n",
       "      <td>Tape</td>\n",
       "      <td>5</td>\n",
       "      <td>1</td>\n",
       "      <td>0.15</td>\n",
       "      <td>OH</td>\n",
       "    </tr>\n",
       "  </tbody>\n",
       "</table>\n",
       "</div>"
      ],
      "text/plain": [
       "   Order_Date   Ship_Date Ship_Mode  Postal_Code   Region Product_Reference  \\\n",
       "0  2021-02-15  2021-02-20    Ground        44104  Midwest  OFF-TAP-10022901   \n",
       "1  2021-02-15  2021-02-20    Ground        44104  Midwest  OFF-TAP-10023012   \n",
       "2  2021-02-15  2021-02-20    Ground        44104  Midwest  OFF-TAP-10002828   \n",
       "\n",
       "          Category Sub_Category  Sales  Quantity  Profit State  \n",
       "0  Office Supplies         Tape      5         1    0.15    OH  \n",
       "1  Office Supplies         Tape      5         1    0.15    OH  \n",
       "2  Office Supplies         Tape      5         1    0.15    OH  "
      ]
     },
     "execution_count": 4,
     "metadata": {},
     "output_type": "execute_result"
    }
   ],
   "source": [
    "data.head(3)"
   ]
  },
  {
   "cell_type": "code",
   "execution_count": 5,
   "id": "1a3e38d2",
   "metadata": {
    "execution": {
     "iopub.execute_input": "2024-01-24T08:10:58.769396Z",
     "iopub.status.busy": "2024-01-24T08:10:58.769012Z",
     "iopub.status.idle": "2024-01-24T08:10:58.788971Z",
     "shell.execute_reply": "2024-01-24T08:10:58.787678Z"
    },
    "papermill": {
     "duration": 0.036369,
     "end_time": "2024-01-24T08:10:58.791711",
     "exception": false,
     "start_time": "2024-01-24T08:10:58.755342",
     "status": "completed"
    },
    "tags": []
   },
   "outputs": [
    {
     "data": {
      "text/plain": [
       "54"
      ]
     },
     "execution_count": 5,
     "metadata": {},
     "output_type": "execute_result"
    }
   ],
   "source": [
    "data.duplicated().sum()"
   ]
  },
  {
   "cell_type": "code",
   "execution_count": 6,
   "id": "40c30b0d",
   "metadata": {
    "execution": {
     "iopub.execute_input": "2024-01-24T08:10:58.818390Z",
     "iopub.status.busy": "2024-01-24T08:10:58.818016Z",
     "iopub.status.idle": "2024-01-24T08:10:58.828724Z",
     "shell.execute_reply": "2024-01-24T08:10:58.827667Z"
    },
    "papermill": {
     "duration": 0.027153,
     "end_time": "2024-01-24T08:10:58.831292",
     "exception": false,
     "start_time": "2024-01-24T08:10:58.804139",
     "status": "completed"
    },
    "tags": []
   },
   "outputs": [],
   "source": [
    "data = data.drop_duplicates()"
   ]
  },
  {
   "cell_type": "code",
   "execution_count": 7,
   "id": "536347b6",
   "metadata": {
    "execution": {
     "iopub.execute_input": "2024-01-24T08:10:58.858183Z",
     "iopub.status.busy": "2024-01-24T08:10:58.857708Z",
     "iopub.status.idle": "2024-01-24T08:10:58.868753Z",
     "shell.execute_reply": "2024-01-24T08:10:58.867582Z"
    },
    "papermill": {
     "duration": 0.027821,
     "end_time": "2024-01-24T08:10:58.871648",
     "exception": false,
     "start_time": "2024-01-24T08:10:58.843827",
     "status": "completed"
    },
    "tags": []
   },
   "outputs": [
    {
     "data": {
      "text/plain": [
       "0"
      ]
     },
     "execution_count": 7,
     "metadata": {},
     "output_type": "execute_result"
    }
   ],
   "source": [
    "data.duplicated().sum()"
   ]
  },
  {
   "cell_type": "code",
   "execution_count": 8,
   "id": "52a8b05c",
   "metadata": {
    "execution": {
     "iopub.execute_input": "2024-01-24T08:10:58.899430Z",
     "iopub.status.busy": "2024-01-24T08:10:58.899054Z",
     "iopub.status.idle": "2024-01-24T08:10:58.909190Z",
     "shell.execute_reply": "2024-01-24T08:10:58.908118Z"
    },
    "papermill": {
     "duration": 0.026918,
     "end_time": "2024-01-24T08:10:58.911738",
     "exception": false,
     "start_time": "2024-01-24T08:10:58.884820",
     "status": "completed"
    },
    "tags": []
   },
   "outputs": [
    {
     "data": {
      "text/plain": [
       "State\n",
       "OH    24\n",
       "IL    24\n",
       "DC    24\n",
       "TX    22\n",
       "FL    16\n",
       "GA    16\n",
       "UT    16\n",
       "CA    13\n",
       "WA     7\n",
       "Name: count, dtype: int64"
      ]
     },
     "execution_count": 8,
     "metadata": {},
     "output_type": "execute_result"
    }
   ],
   "source": [
    "data['State'].value_counts()"
   ]
  },
  {
   "cell_type": "code",
   "execution_count": 9,
   "id": "f64bd8fd",
   "metadata": {
    "execution": {
     "iopub.execute_input": "2024-01-24T08:10:58.940015Z",
     "iopub.status.busy": "2024-01-24T08:10:58.939621Z",
     "iopub.status.idle": "2024-01-24T08:10:58.947520Z",
     "shell.execute_reply": "2024-01-24T08:10:58.946352Z"
    },
    "papermill": {
     "duration": 0.024684,
     "end_time": "2024-01-24T08:10:58.949877",
     "exception": false,
     "start_time": "2024-01-24T08:10:58.925193",
     "status": "completed"
    },
    "tags": []
   },
   "outputs": [],
   "source": [
    "data = data.drop(['Order_Date','Ship_Date' , 'Product_Reference' ,'Postal_Code'] ,axis = 1)"
   ]
  },
  {
   "cell_type": "code",
   "execution_count": 10,
   "id": "0a5cede9",
   "metadata": {
    "execution": {
     "iopub.execute_input": "2024-01-24T08:10:58.978303Z",
     "iopub.status.busy": "2024-01-24T08:10:58.977918Z",
     "iopub.status.idle": "2024-01-24T08:10:58.992710Z",
     "shell.execute_reply": "2024-01-24T08:10:58.991539Z"
    },
    "papermill": {
     "duration": 0.032094,
     "end_time": "2024-01-24T08:10:58.995278",
     "exception": false,
     "start_time": "2024-01-24T08:10:58.963184",
     "status": "completed"
    },
    "tags": []
   },
   "outputs": [
    {
     "data": {
      "text/html": [
       "<div>\n",
       "<style scoped>\n",
       "    .dataframe tbody tr th:only-of-type {\n",
       "        vertical-align: middle;\n",
       "    }\n",
       "\n",
       "    .dataframe tbody tr th {\n",
       "        vertical-align: top;\n",
       "    }\n",
       "\n",
       "    .dataframe thead th {\n",
       "        text-align: right;\n",
       "    }\n",
       "</style>\n",
       "<table border=\"1\" class=\"dataframe\">\n",
       "  <thead>\n",
       "    <tr style=\"text-align: right;\">\n",
       "      <th></th>\n",
       "      <th>Ship_Mode</th>\n",
       "      <th>Region</th>\n",
       "      <th>Category</th>\n",
       "      <th>Sub_Category</th>\n",
       "      <th>Sales</th>\n",
       "      <th>Quantity</th>\n",
       "      <th>Profit</th>\n",
       "      <th>State</th>\n",
       "    </tr>\n",
       "  </thead>\n",
       "  <tbody>\n",
       "    <tr>\n",
       "      <th>0</th>\n",
       "      <td>Ground</td>\n",
       "      <td>Midwest</td>\n",
       "      <td>Office Supplies</td>\n",
       "      <td>Tape</td>\n",
       "      <td>5</td>\n",
       "      <td>1</td>\n",
       "      <td>0.15</td>\n",
       "      <td>OH</td>\n",
       "    </tr>\n",
       "    <tr>\n",
       "      <th>1</th>\n",
       "      <td>Ground</td>\n",
       "      <td>Midwest</td>\n",
       "      <td>Office Supplies</td>\n",
       "      <td>Tape</td>\n",
       "      <td>5</td>\n",
       "      <td>1</td>\n",
       "      <td>0.15</td>\n",
       "      <td>OH</td>\n",
       "    </tr>\n",
       "    <tr>\n",
       "      <th>2</th>\n",
       "      <td>Ground</td>\n",
       "      <td>Midwest</td>\n",
       "      <td>Office Supplies</td>\n",
       "      <td>Tape</td>\n",
       "      <td>5</td>\n",
       "      <td>1</td>\n",
       "      <td>0.15</td>\n",
       "      <td>OH</td>\n",
       "    </tr>\n",
       "  </tbody>\n",
       "</table>\n",
       "</div>"
      ],
      "text/plain": [
       "  Ship_Mode   Region         Category Sub_Category  Sales  Quantity  Profit  \\\n",
       "0    Ground  Midwest  Office Supplies         Tape      5         1    0.15   \n",
       "1    Ground  Midwest  Office Supplies         Tape      5         1    0.15   \n",
       "2    Ground  Midwest  Office Supplies         Tape      5         1    0.15   \n",
       "\n",
       "  State  \n",
       "0    OH  \n",
       "1    OH  \n",
       "2    OH  "
      ]
     },
     "execution_count": 10,
     "metadata": {},
     "output_type": "execute_result"
    }
   ],
   "source": [
    "data.head(3)"
   ]
  },
  {
   "cell_type": "code",
   "execution_count": 11,
   "id": "63fd1f98",
   "metadata": {
    "execution": {
     "iopub.execute_input": "2024-01-24T08:10:59.025009Z",
     "iopub.status.busy": "2024-01-24T08:10:59.023978Z",
     "iopub.status.idle": "2024-01-24T08:10:59.269449Z",
     "shell.execute_reply": "2024-01-24T08:10:59.268520Z"
    },
    "papermill": {
     "duration": 0.263127,
     "end_time": "2024-01-24T08:10:59.272287",
     "exception": false,
     "start_time": "2024-01-24T08:10:59.009160",
     "status": "completed"
    },
    "tags": []
   },
   "outputs": [],
   "source": [
    "from sklearn.preprocessing import LabelEncoder\n",
    "leb= LabelEncoder()"
   ]
  },
  {
   "cell_type": "code",
   "execution_count": 12,
   "id": "39793d72",
   "metadata": {
    "execution": {
     "iopub.execute_input": "2024-01-24T08:10:59.301674Z",
     "iopub.status.busy": "2024-01-24T08:10:59.301221Z",
     "iopub.status.idle": "2024-01-24T08:10:59.310117Z",
     "shell.execute_reply": "2024-01-24T08:10:59.308831Z"
    },
    "papermill": {
     "duration": 0.026302,
     "end_time": "2024-01-24T08:10:59.312639",
     "exception": false,
     "start_time": "2024-01-24T08:10:59.286337",
     "status": "completed"
    },
    "tags": []
   },
   "outputs": [],
   "source": [
    "for col in data.columns:\n",
    "    if data[col].dtype == 'object':\n",
    "        data[col] = leb.fit_transform(data[col])"
   ]
  },
  {
   "cell_type": "code",
   "execution_count": 13,
   "id": "f32777b2",
   "metadata": {
    "execution": {
     "iopub.execute_input": "2024-01-24T08:10:59.341109Z",
     "iopub.status.busy": "2024-01-24T08:10:59.340685Z",
     "iopub.status.idle": "2024-01-24T08:10:59.354156Z",
     "shell.execute_reply": "2024-01-24T08:10:59.353337Z"
    },
    "papermill": {
     "duration": 0.029921,
     "end_time": "2024-01-24T08:10:59.356305",
     "exception": false,
     "start_time": "2024-01-24T08:10:59.326384",
     "status": "completed"
    },
    "tags": []
   },
   "outputs": [
    {
     "data": {
      "text/html": [
       "<div>\n",
       "<style scoped>\n",
       "    .dataframe tbody tr th:only-of-type {\n",
       "        vertical-align: middle;\n",
       "    }\n",
       "\n",
       "    .dataframe tbody tr th {\n",
       "        vertical-align: top;\n",
       "    }\n",
       "\n",
       "    .dataframe thead th {\n",
       "        text-align: right;\n",
       "    }\n",
       "</style>\n",
       "<table border=\"1\" class=\"dataframe\">\n",
       "  <thead>\n",
       "    <tr style=\"text-align: right;\">\n",
       "      <th></th>\n",
       "      <th>Ship_Mode</th>\n",
       "      <th>Region</th>\n",
       "      <th>Category</th>\n",
       "      <th>Sub_Category</th>\n",
       "      <th>Sales</th>\n",
       "      <th>Quantity</th>\n",
       "      <th>Profit</th>\n",
       "      <th>State</th>\n",
       "    </tr>\n",
       "  </thead>\n",
       "  <tbody>\n",
       "    <tr>\n",
       "      <th>0</th>\n",
       "      <td>1</td>\n",
       "      <td>1</td>\n",
       "      <td>2</td>\n",
       "      <td>31</td>\n",
       "      <td>5</td>\n",
       "      <td>1</td>\n",
       "      <td>0.15</td>\n",
       "      <td>5</td>\n",
       "    </tr>\n",
       "    <tr>\n",
       "      <th>1</th>\n",
       "      <td>1</td>\n",
       "      <td>1</td>\n",
       "      <td>2</td>\n",
       "      <td>31</td>\n",
       "      <td>5</td>\n",
       "      <td>1</td>\n",
       "      <td>0.15</td>\n",
       "      <td>5</td>\n",
       "    </tr>\n",
       "    <tr>\n",
       "      <th>2</th>\n",
       "      <td>1</td>\n",
       "      <td>1</td>\n",
       "      <td>2</td>\n",
       "      <td>31</td>\n",
       "      <td>5</td>\n",
       "      <td>1</td>\n",
       "      <td>0.15</td>\n",
       "      <td>5</td>\n",
       "    </tr>\n",
       "    <tr>\n",
       "      <th>4</th>\n",
       "      <td>1</td>\n",
       "      <td>1</td>\n",
       "      <td>2</td>\n",
       "      <td>31</td>\n",
       "      <td>5</td>\n",
       "      <td>1</td>\n",
       "      <td>0.15</td>\n",
       "      <td>5</td>\n",
       "    </tr>\n",
       "    <tr>\n",
       "      <th>5</th>\n",
       "      <td>0</td>\n",
       "      <td>2</td>\n",
       "      <td>0</td>\n",
       "      <td>19</td>\n",
       "      <td>500</td>\n",
       "      <td>2</td>\n",
       "      <td>10.00</td>\n",
       "      <td>6</td>\n",
       "    </tr>\n",
       "  </tbody>\n",
       "</table>\n",
       "</div>"
      ],
      "text/plain": [
       "   Ship_Mode  Region  Category  Sub_Category  Sales  Quantity  Profit  State\n",
       "0          1       1         2            31      5         1    0.15      5\n",
       "1          1       1         2            31      5         1    0.15      5\n",
       "2          1       1         2            31      5         1    0.15      5\n",
       "4          1       1         2            31      5         1    0.15      5\n",
       "5          0       2         0            19    500         2   10.00      6"
      ]
     },
     "execution_count": 13,
     "metadata": {},
     "output_type": "execute_result"
    }
   ],
   "source": [
    "data.head()"
   ]
  },
  {
   "cell_type": "code",
   "execution_count": 14,
   "id": "d74dfafe",
   "metadata": {
    "execution": {
     "iopub.execute_input": "2024-01-24T08:10:59.384849Z",
     "iopub.status.busy": "2024-01-24T08:10:59.384423Z",
     "iopub.status.idle": "2024-01-24T08:10:59.716212Z",
     "shell.execute_reply": "2024-01-24T08:10:59.715051Z"
    },
    "papermill": {
     "duration": 0.349086,
     "end_time": "2024-01-24T08:10:59.718817",
     "exception": false,
     "start_time": "2024-01-24T08:10:59.369731",
     "status": "completed"
    },
    "tags": []
   },
   "outputs": [
    {
     "data": {
      "text/plain": [
       "<Axes: xlabel='State', ylabel='count'>"
      ]
     },
     "execution_count": 14,
     "metadata": {},
     "output_type": "execute_result"
    },
    {
     "data": {
      "image/png": "[encoded data removed]",
      "text/plain": [
       "<Figure size 640x480 with 1 Axes>"
      ]
     },
     "metadata": {},
     "output_type": "display_data"
    }
   ],
   "source": [
    "sn.countplot(data , x= data['State'])"
   ]
  },
  {
   "cell_type": "code",
   "execution_count": 15,
   "id": "b70b1243",
   "metadata": {
    "execution": {
     "iopub.execute_input": "2024-01-24T08:10:59.748396Z",
     "iopub.status.busy": "2024-01-24T08:10:59.747942Z",
     "iopub.status.idle": "2024-01-24T08:11:00.266633Z",
     "shell.execute_reply": "2024-01-24T08:11:00.265700Z"
    },
    "papermill": {
     "duration": 0.53679,
     "end_time": "2024-01-24T08:11:00.269381",
     "exception": false,
     "start_time": "2024-01-24T08:10:59.732591",
     "status": "completed"
    },
    "tags": []
   },
   "outputs": [],
   "source": [
    "from imblearn.over_sampling import RandomOverSampler\n",
    "ros = RandomOverSampler()"
   ]
  },
  {
   "cell_type": "code",
   "execution_count": 16,
   "id": "7aff5281",
   "metadata": {
    "execution": {
     "iopub.execute_input": "2024-01-24T08:11:00.300101Z",
     "iopub.status.busy": "2024-01-24T08:11:00.298981Z",
     "iopub.status.idle": "2024-01-24T08:11:00.305417Z",
     "shell.execute_reply": "2024-01-24T08:11:00.304531Z"
    },
    "papermill": {
     "duration": 0.024215,
     "end_time": "2024-01-24T08:11:00.307762",
     "exception": false,
     "start_time": "2024-01-24T08:11:00.283547",
     "status": "completed"
    },
    "tags": []
   },
   "outputs": [],
   "source": [
    "x = data.drop(['State'] ,axis = 1)\n",
    "y =data['State']"
   ]
  },
  {
   "cell_type": "code",
   "execution_count": 17,
   "id": "f9b91834",
   "metadata": {
    "execution": {
     "iopub.execute_input": "2024-01-24T08:11:00.337320Z",
     "iopub.status.busy": "2024-01-24T08:11:00.336450Z",
     "iopub.status.idle": "2024-01-24T08:11:00.351437Z",
     "shell.execute_reply": "2024-01-24T08:11:00.350567Z"
    },
    "papermill": {
     "duration": 0.032567,
     "end_time": "2024-01-24T08:11:00.353959",
     "exception": false,
     "start_time": "2024-01-24T08:11:00.321392",
     "status": "completed"
    },
    "tags": []
   },
   "outputs": [],
   "source": [
    "x,y = ros.fit_resample(x,y)"
   ]
  },
  {
   "cell_type": "code",
   "execution_count": 18,
   "id": "53dabcce",
   "metadata": {
    "execution": {
     "iopub.execute_input": "2024-01-24T08:11:00.384159Z",
     "iopub.status.busy": "2024-01-24T08:11:00.383402Z",
     "iopub.status.idle": "2024-01-24T08:11:00.391218Z",
     "shell.execute_reply": "2024-01-24T08:11:00.390139Z"
    },
    "papermill": {
     "duration": 0.025593,
     "end_time": "2024-01-24T08:11:00.393506",
     "exception": false,
     "start_time": "2024-01-24T08:11:00.367913",
     "status": "completed"
    },
    "tags": []
   },
   "outputs": [
    {
     "data": {
      "text/plain": [
       "State\n",
       "5    24\n",
       "6    24\n",
       "2    24\n",
       "3    24\n",
       "7    24\n",
       "0    24\n",
       "4    24\n",
       "1    24\n",
       "8    24\n",
       "Name: count, dtype: int64"
      ]
     },
     "execution_count": 18,
     "metadata": {},
     "output_type": "execute_result"
    }
   ],
   "source": [
    "y.value_counts()"
   ]
  },
  {
   "cell_type": "code",
   "execution_count": 19,
   "id": "81782da3",
   "metadata": {
    "execution": {
     "iopub.execute_input": "2024-01-24T08:11:00.423673Z",
     "iopub.status.busy": "2024-01-24T08:11:00.422913Z",
     "iopub.status.idle": "2024-01-24T08:11:00.705651Z",
     "shell.execute_reply": "2024-01-24T08:11:00.704316Z"
    },
    "papermill": {
     "duration": 0.30055,
     "end_time": "2024-01-24T08:11:00.708258",
     "exception": false,
     "start_time": "2024-01-24T08:11:00.407708",
     "status": "completed"
    },
    "tags": []
   },
   "outputs": [
    {
     "data": {
      "text/plain": [
       "Text(0, 0.5, 'counts')"
      ]
     },
     "execution_count": 19,
     "metadata": {},
     "output_type": "execute_result"
    },
    {
     "data": {
      "image/png": "[encoded data removed]",
      "text/plain": [
       "<Figure size 640x480 with 1 Axes>"
      ]
     },
     "metadata": {},
     "output_type": "display_data"
    }
   ],
   "source": [
    "plt.bar(y.value_counts().index, y.value_counts())\n",
    "plt.xlabel('state')\n",
    "plt.ylabel('counts')"
   ]
  },
  {
   "cell_type": "code",
   "execution_count": 20,
   "id": "f06a5336",
   "metadata": {
    "execution": {
     "iopub.execute_input": "2024-01-24T08:11:00.738698Z",
     "iopub.status.busy": "2024-01-24T08:11:00.738261Z",
     "iopub.status.idle": "2024-01-24T08:11:00.743993Z",
     "shell.execute_reply": "2024-01-24T08:11:00.742843Z"
    },
    "papermill": {
     "duration": 0.023775,
     "end_time": "2024-01-24T08:11:00.746394",
     "exception": false,
     "start_time": "2024-01-24T08:11:00.722619",
     "status": "completed"
    },
    "tags": []
   },
   "outputs": [],
   "source": [
    "from sklearn.model_selection import train_test_split\n",
    "from sklearn.tree import DecisionTreeClassifier\n",
    "from sklearn.ensemble import RandomForestClassifier\n",
    "dtc = DecisionTreeClassifier()\n",
    "rnd = RandomForestClassifier()"
   ]
  },
  {
   "cell_type": "code",
   "execution_count": 21,
   "id": "11c093cf",
   "metadata": {
    "execution": {
     "iopub.execute_input": "2024-01-24T08:11:00.778602Z",
     "iopub.status.busy": "2024-01-24T08:11:00.777414Z",
     "iopub.status.idle": "2024-01-24T08:11:00.785617Z",
     "shell.execute_reply": "2024-01-24T08:11:00.784686Z"
    },
    "papermill": {
     "duration": 0.026566,
     "end_time": "2024-01-24T08:11:00.787968",
     "exception": false,
     "start_time": "2024-01-24T08:11:00.761402",
     "status": "completed"
    },
    "tags": []
   },
   "outputs": [],
   "source": [
    "xtrain , xtest ,ytrain ,ytest = train_test_split(x,y ,random_state=41 , test_size=.30)"
   ]
  },
  {
   "cell_type": "code",
   "execution_count": 22,
   "id": "a3067b60",
   "metadata": {
    "execution": {
     "iopub.execute_input": "2024-01-24T08:11:00.884724Z",
     "iopub.status.busy": "2024-01-24T08:11:00.883531Z",
     "iopub.status.idle": "2024-01-24T08:11:00.891259Z",
     "shell.execute_reply": "2024-01-24T08:11:00.890105Z"
    },
    "papermill": {
     "duration": 0.027669,
     "end_time": "2024-01-24T08:11:00.893844",
     "exception": false,
     "start_time": "2024-01-24T08:11:00.866175",
     "status": "completed"
    },
    "tags": []
   },
   "outputs": [
    {
     "data": {
      "text/plain": [
       "(151, 7)"
      ]
     },
     "execution_count": 22,
     "metadata": {},
     "output_type": "execute_result"
    }
   ],
   "source": [
    "xtrain.shape"
   ]
  },
  {
   "cell_type": "code",
   "execution_count": 23,
   "id": "2b3000aa",
   "metadata": {
    "execution": {
     "iopub.execute_input": "2024-01-24T08:11:00.924774Z",
     "iopub.status.busy": "2024-01-24T08:11:00.924351Z",
     "iopub.status.idle": "2024-01-24T08:11:00.930930Z",
     "shell.execute_reply": "2024-01-24T08:11:00.929833Z"
    },
    "papermill": {
     "duration": 0.025188,
     "end_time": "2024-01-24T08:11:00.933516",
     "exception": false,
     "start_time": "2024-01-24T08:11:00.908328",
     "status": "completed"
    },
    "tags": []
   },
   "outputs": [
    {
     "data": {
      "text/plain": [
       "(151,)"
      ]
     },
     "execution_count": 23,
     "metadata": {},
     "output_type": "execute_result"
    }
   ],
   "source": [
    "ytrain.shape"
   ]
  },
  {
   "cell_type": "code",
   "execution_count": 24,
   "id": "5c2c9180",
   "metadata": {
    "execution": {
     "iopub.execute_input": "2024-01-24T08:11:00.965765Z",
     "iopub.status.busy": "2024-01-24T08:11:00.965333Z",
     "iopub.status.idle": "2024-01-24T08:11:01.196826Z",
     "shell.execute_reply": "2024-01-24T08:11:01.195996Z"
    },
    "papermill": {
     "duration": 0.250472,
     "end_time": "2024-01-24T08:11:01.199038",
     "exception": false,
     "start_time": "2024-01-24T08:11:00.948566",
     "status": "completed"
    },
    "tags": []
   },
   "outputs": [
    {
     "data": {
      "text/html": [
       "<style>#sk-container-id-1 {color: black;background-color: white;}#sk-container-id-1 pre{padding: 0;}#sk-container-id-1 div.sk-toggleable {background-color: white;}#sk-container-id-1 label.sk-toggleable__label {cursor: pointer;display: block;width: 100%;margin-bottom: 0;padding: 0.3em;box-sizing: border-box;text-align: center;}#sk-container-id-1 label.sk-toggleable__label-arrow:before {content: \"▸\";float: left;margin-right: 0.25em;color: #696969;}#sk-container-id-1 label.sk-toggleable__label-arrow:hover:before {color: black;}#sk-container-id-1 div.sk-estimator:hover label.sk-toggleable__label-arrow:before {color: black;}#sk-container-id-1 div.sk-toggleable__content {max-height: 0;max-width: 0;overflow: hidden;text-align: left;background-color: #f0f8ff;}#sk-container-id-1 div.sk-toggleable__content pre {margin: 0.2em;color: black;border-radius: 0.25em;background-color: #f0f8ff;}#sk-container-id-1 input.sk-toggleable__control:checked~div.sk-toggleable__content {max-height: 200px;max-width: 100%;overflow: auto;}#sk-container-id-1 input.sk-toggleable__control:checked~label.sk-toggleable__label-arrow:before {content: \"▾\";}#sk-container-id-1 div.sk-estimator input.sk-toggleable__control:checked~label.sk-toggleable__label {background-color: #d4ebff;}#sk-container-id-1 div.sk-label input.sk-toggleable__control:checked~label.sk-toggleable__label {background-color: #d4ebff;}#sk-container-id-1 input.sk-hidden--visually {border: 0;clip: rect(1px 1px 1px 1px);clip: rect(1px, 1px, 1px, 1px);height: 1px;margin: -1px;overflow: hidden;padding: 0;position: absolute;width: 1px;}#sk-container-id-1 div.sk-estimator {font-family: monospace;background-color: #f0f8ff;border: 1px dotted black;border-radius: 0.25em;box-sizing: border-box;margin-bottom: 0.5em;}#sk-container-id-1 div.sk-estimator:hover {background-color: #d4ebff;}#sk-container-id-1 div.sk-parallel-item::after {content: \"\";width: 100%;border-bottom: 1px solid gray;flex-grow: 1;}#sk-container-id-1 div.sk-label:hover label.sk-toggleable__label {background-color: #d4ebff;}#sk-container-id-1 div.sk-serial::before {content: \"\";position: absolute;border-left: 1px solid gray;box-sizing: border-box;top: 0;bottom: 0;left: 50%;z-index: 0;}#sk-container-id-1 div.sk-serial {display: flex;flex-direction: column;align-items: center;background-color: white;padding-right: 0.2em;padding-left: 0.2em;position: relative;}#sk-container-id-1 div.sk-item {position: relative;z-index: 1;}#sk-container-id-1 div.sk-parallel {display: flex;align-items: stretch;justify-content: center;background-color: white;position: relative;}#sk-container-id-1 div.sk-item::before, #sk-container-id-1 div.sk-parallel-item::before {content: \"\";position: absolute;border-left: 1px solid gray;box-sizing: border-box;top: 0;bottom: 0;left: 50%;z-index: -1;}#sk-container-id-1 div.sk-parallel-item {display: flex;flex-direction: column;z-index: 1;position: relative;background-color: white;}#sk-container-id-1 div.sk-parallel-item:first-child::after {align-self: flex-end;width: 50%;}#sk-container-id-1 div.sk-parallel-item:last-child::after {align-self: flex-start;width: 50%;}#sk-container-id-1 div.sk-parallel-item:only-child::after {width: 0;}#sk-container-id-1 div.sk-dashed-wrapped {border: 1px dashed gray;margin: 0 0.4em 0.5em 0.4em;box-sizing: border-box;padding-bottom: 0.4em;background-color: white;}#sk-container-id-1 div.sk-label label {font-family: monospace;font-weight: bold;display: inline-block;line-height: 1.2em;}#sk-container-id-1 div.sk-label-container {text-align: center;}#sk-container-id-1 div.sk-container {/* jupyter's `normalize.less` sets `[hidden] { display: none; }` but bootstrap.min.css set `[hidden] { display: none !important; }` so we also need the `!important` here to be able to override the default hidden behavior on the sphinx rendered scikit-learn.org. See: https://github.com/scikit-learn/scikit-learn/issues/21755 */display: inline-block !important;position: relative;}#sk-container-id-1 div.sk-text-repr-fallback {display: none;}</style><div id=\"sk-container-id-1\" class=\"sk-top-container\"><div class=\"sk-text-repr-fallback\"><pre>RandomForestClassifier()</pre><b>In a Jupyter environment, please rerun this cell to show the HTML representation or trust the notebook. <br />On GitHub, the HTML representation is unable to render, please try loading this page with nbviewer.org.</b></div><div class=\"sk-container\" hidden><div class=\"sk-item\"><div class=\"sk-estimator sk-toggleable\"><input class=\"sk-toggleable__control sk-hidden--visually\" id=\"sk-estimator-id-1\" type=\"checkbox\" checked><label for=\"sk-estimator-id-1\" class=\"sk-toggleable__label sk-toggleable__label-arrow\">RandomForestClassifier</label><div class=\"sk-toggleable__content\"><pre>RandomForestClassifier()</pre></div></div></div></div></div>"
      ],
      "text/plain": [
       "RandomForestClassifier()"
      ]
     },
     "execution_count": 24,
     "metadata": {},
     "output_type": "execute_result"
    }
   ],
   "source": [
    "dtc.fit(xtrain , ytrain)\n",
    "rnd.fit(xtrain , ytrain)"
   ]
  },
  {
   "cell_type": "code",
   "execution_count": 25,
   "id": "9b16d98b",
   "metadata": {
    "execution": {
     "iopub.execute_input": "2024-01-24T08:11:01.232387Z",
     "iopub.status.busy": "2024-01-24T08:11:01.231130Z",
     "iopub.status.idle": "2024-01-24T08:11:01.255829Z",
     "shell.execute_reply": "2024-01-24T08:11:01.254786Z"
    },
    "papermill": {
     "duration": 0.044234,
     "end_time": "2024-01-24T08:11:01.258786",
     "exception": false,
     "start_time": "2024-01-24T08:11:01.214552",
     "status": "completed"
    },
    "tags": []
   },
   "outputs": [],
   "source": [
    "dtc_train_score = dtc.score(xtrain , ytrain)\n",
    "rnd_train_score = rnd.score(xtrain , ytrain)"
   ]
  },
  {
   "cell_type": "code",
   "execution_count": 26,
   "id": "86be8ba2",
   "metadata": {
    "execution": {
     "iopub.execute_input": "2024-01-24T08:11:01.291994Z",
     "iopub.status.busy": "2024-01-24T08:11:01.291551Z",
     "iopub.status.idle": "2024-01-24T08:11:01.296591Z",
     "shell.execute_reply": "2024-01-24T08:11:01.295709Z"
    },
    "papermill": {
     "duration": 0.025286,
     "end_time": "2024-01-24T08:11:01.299822",
     "exception": false,
     "start_time": "2024-01-24T08:11:01.274536",
     "status": "completed"
    },
    "tags": []
   },
   "outputs": [
    {
     "name": "stdout",
     "output_type": "stream",
     "text": [
      "1.0 1.0\n"
     ]
    }
   ],
   "source": [
    "print(dtc_train_score ,rnd_train_score)"
   ]
  },
  {
   "cell_type": "code",
   "execution_count": 27,
   "id": "edfa64c1",
   "metadata": {
    "execution": {
     "iopub.execute_input": "2024-01-24T08:11:01.332625Z",
     "iopub.status.busy": "2024-01-24T08:11:01.331560Z",
     "iopub.status.idle": "2024-01-24T08:11:01.353305Z",
     "shell.execute_reply": "2024-01-24T08:11:01.351883Z"
    },
    "papermill": {
     "duration": 0.04128,
     "end_time": "2024-01-24T08:11:01.356307",
     "exception": false,
     "start_time": "2024-01-24T08:11:01.315027",
     "status": "completed"
    },
    "tags": []
   },
   "outputs": [],
   "source": [
    "dtc_test_score = dtc.score(xtest , ytest)\n",
    "rnd_test_score = rnd.score(xtest , ytest)"
   ]
  },
  {
   "cell_type": "code",
   "execution_count": 28,
   "id": "ef64ea91",
   "metadata": {
    "execution": {
     "iopub.execute_input": "2024-01-24T08:11:01.389354Z",
     "iopub.status.busy": "2024-01-24T08:11:01.388874Z",
     "iopub.status.idle": "2024-01-24T08:11:01.396503Z",
     "shell.execute_reply": "2024-01-24T08:11:01.395341Z"
    },
    "papermill": {
     "duration": 0.026658,
     "end_time": "2024-01-24T08:11:01.398707",
     "exception": false,
     "start_time": "2024-01-24T08:11:01.372049",
     "status": "completed"
    },
    "tags": []
   },
   "outputs": [
    {
     "data": {
      "text/plain": [
       "1.0"
      ]
     },
     "execution_count": 28,
     "metadata": {},
     "output_type": "execute_result"
    }
   ],
   "source": [
    "dtc_test_score"
   ]
  },
  {
   "cell_type": "code",
   "execution_count": 29,
   "id": "33f86eff",
   "metadata": {
    "execution": {
     "iopub.execute_input": "2024-01-24T08:11:01.431709Z",
     "iopub.status.busy": "2024-01-24T08:11:01.431245Z",
     "iopub.status.idle": "2024-01-24T08:11:01.438485Z",
     "shell.execute_reply": "2024-01-24T08:11:01.437365Z"
    },
    "papermill": {
     "duration": 0.026395,
     "end_time": "2024-01-24T08:11:01.440768",
     "exception": false,
     "start_time": "2024-01-24T08:11:01.414373",
     "status": "completed"
    },
    "tags": []
   },
   "outputs": [
    {
     "data": {
      "text/plain": [
       "1.0"
      ]
     },
     "execution_count": 29,
     "metadata": {},
     "output_type": "execute_result"
    }
   ],
   "source": [
    "rnd_test_score"
   ]
  },
  {
   "cell_type": "code",
   "execution_count": 30,
   "id": "20223509",
   "metadata": {
    "execution": {
     "iopub.execute_input": "2024-01-24T08:11:01.473095Z",
     "iopub.status.busy": "2024-01-24T08:11:01.472656Z",
     "iopub.status.idle": "2024-01-24T08:11:01.478278Z",
     "shell.execute_reply": "2024-01-24T08:11:01.477151Z"
    },
    "papermill": {
     "duration": 0.024448,
     "end_time": "2024-01-24T08:11:01.480575",
     "exception": false,
     "start_time": "2024-01-24T08:11:01.456127",
     "status": "completed"
    },
    "tags": []
   },
   "outputs": [],
   "source": [
    "model_name = ['DecisionTreeClassifier' , 'RandomForestClassifier' ]\n",
    "train_score = [dtc_train_score , rnd_train_score]\n",
    "test_score = [dtc_test_score , rnd_test_score]"
   ]
  },
  {
   "cell_type": "code",
   "execution_count": 31,
   "id": "be0d9257",
   "metadata": {
    "execution": {
     "iopub.execute_input": "2024-01-24T08:11:01.513090Z",
     "iopub.status.busy": "2024-01-24T08:11:01.512668Z",
     "iopub.status.idle": "2024-01-24T08:11:01.807946Z",
     "shell.execute_reply": "2024-01-24T08:11:01.806568Z"
    },
    "papermill": {
     "duration": 0.315249,
     "end_time": "2024-01-24T08:11:01.811215",
     "exception": false,
     "start_time": "2024-01-24T08:11:01.495966",
     "status": "completed"
    },
    "tags": []
   },
   "outputs": [
    {
     "data": {
      "image/png": "[encoded data removed]",
      "text/plain": [
       "<Figure size 640x480 with 1 Axes>"
      ]
     },
     "metadata": {},
     "output_type": "display_data"
    }
   ],
   "source": [
    "bar_width = 0.35  # Width of the bars\n",
    "index = np.arange(len(model_name))  # X-axis values\n",
    "\n",
    "plt.bar(index, train_score, bar_width, label='Train Score', color='red')\n",
    "plt.bar(index + bar_width, test_score, bar_width, label='Test Score', color='green')\n",
    "\n",
    "plt.xlabel('Classifier')\n",
    "plt.ylabel('Scores')\n",
    "plt.title('Training and Test Scores for Classifiers')\n",
    "plt.xticks(index + bar_width / 2, model_name)  # Set x-axis ticks at the center of each group\n",
    "plt.legend()\n",
    "\n",
    "plt.show()"
   ]
  },
  {
   "cell_type": "code",
   "execution_count": 32,
   "id": "dfd8354f",
   "metadata": {
    "execution": {
     "iopub.execute_input": "2024-01-24T08:11:01.849168Z",
     "iopub.status.busy": "2024-01-24T08:11:01.848016Z",
     "iopub.status.idle": "2024-01-24T08:11:01.856209Z",
     "shell.execute_reply": "2024-01-24T08:11:01.854758Z"
    },
    "papermill": {
     "duration": 0.031908,
     "end_time": "2024-01-24T08:11:01.860029",
     "exception": false,
     "start_time": "2024-01-24T08:11:01.828121",
     "status": "completed"
    },
    "tags": []
   },
   "outputs": [],
   "source": [
    "from sklearn.metrics import classification_report , confusion_matrix"
   ]
  },
  {
   "cell_type": "code",
   "execution_count": 33,
   "id": "5dde83c2",
   "metadata": {
    "execution": {
     "iopub.execute_input": "2024-01-24T08:11:01.906336Z",
     "iopub.status.busy": "2024-01-24T08:11:01.905364Z",
     "iopub.status.idle": "2024-01-24T08:11:01.925213Z",
     "shell.execute_reply": "2024-01-24T08:11:01.923937Z"
    },
    "papermill": {
     "duration": 0.043948,
     "end_time": "2024-01-24T08:11:01.927853",
     "exception": false,
     "start_time": "2024-01-24T08:11:01.883905",
     "status": "completed"
    },
    "tags": []
   },
   "outputs": [
    {
     "name": "stdout",
     "output_type": "stream",
     "text": [
      "              precision    recall  f1-score   support\n",
      "\n",
      "           0       1.00      1.00      1.00         6\n",
      "           1       1.00      1.00      1.00         7\n",
      "           2       1.00      1.00      1.00         7\n",
      "           3       1.00      1.00      1.00         7\n",
      "           4       1.00      1.00      1.00        11\n",
      "           5       1.00      1.00      1.00         3\n",
      "           6       1.00      1.00      1.00         7\n",
      "           7       1.00      1.00      1.00         4\n",
      "           8       1.00      1.00      1.00        13\n",
      "\n",
      "    accuracy                           1.00        65\n",
      "   macro avg       1.00      1.00      1.00        65\n",
      "weighted avg       1.00      1.00      1.00        65\n",
      "\n"
     ]
    }
   ],
   "source": [
    "print(classification_report(ytest , dtc.predict(xtest)))"
   ]
  },
  {
   "cell_type": "code",
   "execution_count": 34,
   "id": "53758a2a",
   "metadata": {
    "execution": {
     "iopub.execute_input": "2024-01-24T08:11:01.962734Z",
     "iopub.status.busy": "2024-01-24T08:11:01.962234Z",
     "iopub.status.idle": "2024-01-24T08:11:01.991266Z",
     "shell.execute_reply": "2024-01-24T08:11:01.990358Z"
    },
    "papermill": {
     "duration": 0.050534,
     "end_time": "2024-01-24T08:11:01.994735",
     "exception": false,
     "start_time": "2024-01-24T08:11:01.944201",
     "status": "completed"
    },
    "tags": []
   },
   "outputs": [
    {
     "name": "stdout",
     "output_type": "stream",
     "text": [
      "              precision    recall  f1-score   support\n",
      "\n",
      "           0       1.00      1.00      1.00         6\n",
      "           1       1.00      1.00      1.00         7\n",
      "           2       1.00      1.00      1.00         7\n",
      "           3       1.00      1.00      1.00         7\n",
      "           4       1.00      1.00      1.00        11\n",
      "           5       1.00      1.00      1.00         3\n",
      "           6       1.00      1.00      1.00         7\n",
      "           7       1.00      1.00      1.00         4\n",
      "           8       1.00      1.00      1.00        13\n",
      "\n",
      "    accuracy                           1.00        65\n",
      "   macro avg       1.00      1.00      1.00        65\n",
      "weighted avg       1.00      1.00      1.00        65\n",
      "\n"
     ]
    }
   ],
   "source": [
    "print(classification_report(ytest , rnd.predict(xtest)))"
   ]
  },
  {
   "cell_type": "code",
   "execution_count": 35,
   "id": "9e7cb5dd",
   "metadata": {
    "execution": {
     "iopub.execute_input": "2024-01-24T08:11:02.042875Z",
     "iopub.status.busy": "2024-01-24T08:11:02.042132Z",
     "iopub.status.idle": "2024-01-24T08:11:02.068193Z",
     "shell.execute_reply": "2024-01-24T08:11:02.066361Z"
    },
    "papermill": {
     "duration": 0.055478,
     "end_time": "2024-01-24T08:11:02.072401",
     "exception": false,
     "start_time": "2024-01-24T08:11:02.016923",
     "status": "completed"
    },
    "tags": []
   },
   "outputs": [],
   "source": [
    "cm = confusion_matrix(ytest , rnd.predict(xtest))"
   ]
  },
  {
   "cell_type": "code",
   "execution_count": 36,
   "id": "1802db37",
   "metadata": {
    "execution": {
     "iopub.execute_input": "2024-01-24T08:11:02.121483Z",
     "iopub.status.busy": "2024-01-24T08:11:02.121065Z",
     "iopub.status.idle": "2024-01-24T08:11:02.128561Z",
     "shell.execute_reply": "2024-01-24T08:11:02.127389Z"
    },
    "papermill": {
     "duration": 0.033636,
     "end_time": "2024-01-24T08:11:02.130884",
     "exception": false,
     "start_time": "2024-01-24T08:11:02.097248",
     "status": "completed"
    },
    "tags": []
   },
   "outputs": [
    {
     "data": {
      "text/plain": [
       "array([[ 6,  0,  0,  0,  0,  0,  0,  0,  0],\n",
       "       [ 0,  7,  0,  0,  0,  0,  0,  0,  0],\n",
       "       [ 0,  0,  7,  0,  0,  0,  0,  0,  0],\n",
       "       [ 0,  0,  0,  7,  0,  0,  0,  0,  0],\n",
       "       [ 0,  0,  0,  0, 11,  0,  0,  0,  0],\n",
       "       [ 0,  0,  0,  0,  0,  3,  0,  0,  0],\n",
       "       [ 0,  0,  0,  0,  0,  0,  7,  0,  0],\n",
       "       [ 0,  0,  0,  0,  0,  0,  0,  4,  0],\n",
       "       [ 0,  0,  0,  0,  0,  0,  0,  0, 13]])"
      ]
     },
     "execution_count": 36,
     "metadata": {},
     "output_type": "execute_result"
    }
   ],
   "source": [
    "cm"
   ]
  },
  {
   "cell_type": "code",
   "execution_count": 37,
   "id": "706ad1b7",
   "metadata": {
    "execution": {
     "iopub.execute_input": "2024-01-24T08:11:02.165824Z",
     "iopub.status.busy": "2024-01-24T08:11:02.165397Z",
     "iopub.status.idle": "2024-01-24T08:11:02.782233Z",
     "shell.execute_reply": "2024-01-24T08:11:02.781061Z"
    },
    "papermill": {
     "duration": 0.637347,
     "end_time": "2024-01-24T08:11:02.784642",
     "exception": false,
     "start_time": "2024-01-24T08:11:02.147295",
     "status": "completed"
    },
    "tags": []
   },
   "outputs": [
    {
     "data": {
      "text/plain": [
       "<Axes: >"
      ]
     },
     "execution_count": 37,
     "metadata": {},
     "output_type": "execute_result"
    },
    {
     "data": {
      "image/png": "[encoded data removed]",
      "text/plain": [
       "<Figure size 640x480 with 2 Axes>"
      ]
     },
     "metadata": {},
     "output_type": "display_data"
    }
   ],
   "source": [
    "sn.heatmap(cm , annot =True)"
   ]
  },
  {
   "cell_type": "code",
   "execution_count": null,
   "id": "ada1bb5b",
   "metadata": {
    "papermill": {
     "duration": 0.016727,
     "end_time": "2024-01-24T08:11:02.818456",
     "exception": false,
     "start_time": "2024-01-24T08:11:02.801729",
     "status": "completed"
    },
    "tags": []
   },
   "outputs": [],
   "source": []
  }
 ],
 "metadata": {
  "kaggle": {
   "accelerator": "none",
   "dataSources": [
    {
     "datasetId": 4330740,
     "sourceId": 7440720,
     "sourceType": "datasetVersion"
    }
   ],
   "dockerImageVersionId": 30635,
   "isGpuEnabled": false,
   "isInternetEnabled": true,
   "language": "python",
   "sourceType": "notebook"
  },
  "kernelspec": {
   "display_name": "Python 3",
   "language": "python",
   "name": "python3"
  },
  "language_info": {
   "codemirror_mode": {
    "name": "ipython",
    "version": 3
   },
   "file_extension": ".py",
   "mimetype": "text/x-python",
   "name": "python",
   "nbconvert_exporter": "python",
   "pygments_lexer": "ipython3",
   "version": "3.10.12"
  },
  "papermill": {
   "default_parameters": {},
   "duration": 10.300445,
   "end_time": "2024-01-24T08:11:03.558168",
   "environment_variables": {},
   "exception": null,
   "input_path": "__notebook__.ipynb",
   "output_path": "__notebook__.ipynb",
   "parameters": {},
   "start_time": "2024-01-24T08:10:53.257723",
   "version": "2.4.0"
  }
 },
 "nbformat": 4,
 "nbformat_minor": 5
}
